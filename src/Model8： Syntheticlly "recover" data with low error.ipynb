{
 "cells": [
  {
   "cell_type": "markdown",
   "metadata": {},
   "source": [
    "### M6： Binary map + Random Forest + kNN\n"
   ]
  },
  {
   "cell_type": "code",
   "execution_count": 85,
   "metadata": {},
   "outputs": [],
   "source": [
    "%matplotlib inline\n",
    "import math\n",
    "import os\n",
    "import data_util\n",
    "import BMapModel\n",
    "#from data_util import DataPoint\n",
    "import matplotlib.pyplot as plt\n",
    "import numpy as np\n",
    "import pandas as pd\n",
    "import seaborn as sns\n",
    "import faiss\n",
    "import util\n",
    "import scipy\n",
    "# import joblib # version incompatibel with sklearn's joblib and can't load the previous model\n",
    "\n",
    "from scipy.sparse import save_npz, load_npz\n",
    "from sklearn.externals import joblib # store classifiers\n",
    "from sklearn.preprocessing import MultiLabelBinarizer # convert y to {0,1}^L\n",
    "from sklearn.preprocessing import StandardScaler # normalize features \n",
    "from sklearn.feature_extraction import DictVectorizer # extract feature vector to x\n",
    "from numpy.random import normal # generate transforming matrix\n",
    "from sklearn.neighbors import KDTree #KDTree for fast kNN search\n",
    "from sklearn.linear_model import LogisticRegression\n",
    "from sklearn.svm import LinearSVC\n",
    "from sklearn.feature_selection import SelectPercentile\n",
    "from sklearn.feature_selection import VarianceThreshold\n",
    "from sklearn.metrics import average_precision_score\n",
    "from joblib import Parallel, delayed # Multitread\n",
    "from pytictoc import TicToc\n",
    "from sklearn.ensemble import AdaBoostClassifier\n",
    "from sklearn.ensemble import RandomForestClassifier"
   ]
  },
  {
   "cell_type": "code",
   "execution_count": 86,
   "metadata": {
    "scrolled": false
   },
   "outputs": [
    {
     "name": "stdout",
     "output_type": "stream",
     "text": [
      "../data:\r\n",
      "AmazonCat\t   Bibtex\t   Eurlex     README_Datasets\r\n",
      "AmazonCat-14K\t   Delicious\t   Mediamill  Wiki10\r\n",
      "AmazonCat-14K.zip  DeliciousLarge  RCV1-x     XMLDatasetRead\r\n",
      "\r\n",
      "../data/AmazonCat:\r\n",
      "amazonCat_test.txt  amazonCat_train.txt  X_te.npz  X_tr.npz  Y_te.npz  Y_tr.npz\r\n",
      "\r\n",
      "../data/AmazonCat-14K:\r\n",
      "amazonCat-14K_test.txt\t X_te.npz  Y_te.npz\r\n",
      "amazonCat-14K_train.txt  X_tr.npz  Y_tr.npz\r\n",
      "\r\n",
      "../data/Bibtex:\r\n",
      "Bibtex_data.txt     bibtex_tstSplit.txt  X_tr.npz  Y_tr.npz\r\n",
      "bibtex_trSplit.txt  X_te.npz\t\t Y_te.npz\r\n",
      "\r\n",
      "../data/Delicious:\r\n",
      "Delicious_data.txt\tX_te.npz  X_tr.pkl  Y_tr.npz\r\n",
      "delicious_trSplit.txt\tX_te.pkl  Y_te.npz  Y_tr.pkl\r\n",
      "delicious_tstSplit.txt\tX_tr.npz  Y_te.pkl\r\n",
      "\r\n",
      "../data/DeliciousLarge:\r\n",
      "deliciousLarge_test.txt   X_te.npz  Y_te.npz\r\n",
      "deliciousLarge_train.txt  X_tr.npz  Y_tr.npz\r\n",
      "\r\n",
      "../data/Eurlex:\r\n",
      "eurlex_test.txt  eurlex_train.txt  X_te.npz  X_tr.npz  Y_te.npz  Y_tr.npz\r\n",
      "\r\n",
      "../data/Mediamill:\r\n",
      "Mediamill_data.txt  mediamill_trSplit.txt  mediamill_tstSplit.txt\r\n",
      "\r\n",
      "../data/RCV1-x:\r\n",
      "rcv1x_test.txt\t X_te.npz  X_tr.npz  Y_te.npz  Y_tr.npz\r\n",
      "rcv1x_train.txt  X_te.pkl  X_tr.pkl  Y_te.pkl  Y_tr.pkl\r\n",
      "\r\n",
      "../data/Wiki10:\r\n",
      "wiki10_test.txt   X_te.npz  X_tr.npz  Y_te.npz\tY_tr.npz\r\n",
      "wiki10_train.txt  X_te.pkl  X_tr.pkl  Y_te.pkl\tY_tr.pkl\r\n",
      "\r\n",
      "../data/XMLDatasetRead:\r\n",
      "XMLDatasetRead\r\n",
      "\r\n",
      "../data/XMLDatasetRead/XMLDatasetRead:\r\n",
      "ReadData_Matlab  README_Datasets\r\n",
      "\r\n",
      "../data/XMLDatasetRead/XMLDatasetRead/ReadData_Matlab:\r\n",
      "make.m\tread_data.cpp  README.txt  write_data.cpp\r\n"
     ]
    }
   ],
   "source": [
    "!ls -R ../data"
   ]
  },
  {
   "cell_type": "code",
   "execution_count": 87,
   "metadata": {},
   "outputs": [
    {
     "name": "stdout",
     "output_type": "stream",
     "text": [
      "\u001b[0m\u001b[01;32m../data/Delicious/Delicious_data.txt\u001b[0m*\r\n"
     ]
    }
   ],
   "source": [
    "ls ../data/Delicious/Delicious_data.txt"
   ]
  },
  {
   "cell_type": "code",
   "execution_count": 88,
   "metadata": {
    "collapsed": true
   },
   "outputs": [],
   "source": [
    "data_dir = \"../data\"\n",
    "model_dir = \"../model/synthetic_model1\"\n",
    "#train_filename = \"/AmazonCat-14K/amazonCat-14K_train.txt\"\n",
    "#test_filename = \"/AmazonCat-14K/amazonCat-14K_test.txt\"\n",
    "#tr_split_file = \"/Bibtex/bibtex_trSplit.txt\"\n",
    "#te_split_file = \"/Bibtex/bibtex_tstSplit.txt\"\n",
    "\n",
    "path = \"/Delicious\"\n",
    "model_path = model_dir + path\n",
    "data_path = data_dir + path\n",
    "num_core = -1\n",
    "L_hat = 80\n",
    "L_hat2 = 200\n",
    "time = TicToc()"
   ]
  },
  {
   "cell_type": "code",
   "execution_count": 89,
   "metadata": {
    "collapsed": true
   },
   "outputs": [],
   "source": [
    "[X_tr, X_te, Y_tr, Y_te] = [load_npz(os.path.join(data_path, '{}.npz'.format(name)))\\\n",
    "                            for name in ['X_tr', 'X_te', 'Y_tr', 'Y_te']]"
   ]
  },
  {
   "cell_type": "code",
   "execution_count": 90,
   "metadata": {},
   "outputs": [
    {
     "data": {
      "text/plain": [
       "((12920, 500), (3185, 500), (12920, 983), (3185, 983))"
      ]
     },
     "execution_count": 90,
     "metadata": {},
     "output_type": "execute_result"
    }
   ],
   "source": [
    "X_tr.shape, X_te.shape, Y_tr.shape, Y_te.shape"
   ]
  },
  {
   "cell_type": "markdown",
   "metadata": {},
   "source": [
    "### Step 1: map to $\\hat L$ space and kNN search index\n",
    "\n",
    "We apply $$\\hat L = k \\log L$$ where $k$ indicates the sparsity of each label vector $y_i = \\{0,1\\}^L$. By default we choose k to be the 99.9% maximum sparsity to avoid extreme cases.\n",
    "\n",
    "The data in \"Eurlex\" contains $L = 5000$ labels, we are trying to map it into $\\hat L = 200$ space."
   ]
  },
  {
   "cell_type": "code",
   "execution_count": 91,
   "metadata": {},
   "outputs": [
    {
     "data": {
      "text/plain": [
       "19.035371517027865"
      ]
     },
     "execution_count": 91,
     "metadata": {},
     "output_type": "execute_result"
    }
   ],
   "source": [
    "avg_k = Y_tr.getnnz() / float(Y_tr.shape[0])\n",
    "avg_k"
   ]
  },
  {
   "cell_type": "code",
   "execution_count": 92,
   "metadata": {},
   "outputs": [
    {
     "data": {
      "text/plain": [
       "25"
      ]
     },
     "execution_count": 92,
     "metadata": {},
     "output_type": "execute_result"
    }
   ],
   "source": [
    "k = sorted([Y_tr[i, :].getnnz() for i in range(Y_tr.shape[0])], reverse=True)\\\n",
    "    [int(X_tr.shape[0]*0.01)]\n",
    "k"
   ]
  },
  {
   "cell_type": "code",
   "execution_count": 93,
   "metadata": {},
   "outputs": [
    {
     "data": {
      "text/plain": [
       "80"
      ]
     },
     "execution_count": 93,
     "metadata": {},
     "output_type": "execute_result"
    }
   ],
   "source": [
    "#L_hat = int(math.ceil(avg_k * math.log(Y_tr.shape[1], 2) * L_hat_ratio))\n",
    "L_hat"
   ]
  },
  {
   "cell_type": "code",
   "execution_count": 94,
   "metadata": {},
   "outputs": [
    {
     "name": "stdout",
     "output_type": "stream",
     "text": [
      "Elapsed time is 1.266761 seconds.\n"
     ]
    }
   ],
   "source": [
    "time.tic()\n",
    "Z_tr = util.map_2_z(Y_tr, L_hat)\n",
    "Z_tr2 = util.map_2_z(Y_tr, L_hat2)\n",
    "time.toc()"
   ]
  },
  {
   "cell_type": "code",
   "execution_count": 95,
   "metadata": {
    "collapsed": true
   },
   "outputs": [],
   "source": [
    "Z_te = util.map_2_z(Y_te, L_hat)\n",
    "Z_te2 = util.map_2_z(Y_te, L_hat2)"
   ]
  },
  {
   "cell_type": "code",
   "execution_count": 96,
   "metadata": {},
   "outputs": [
    {
     "data": {
      "text/plain": [
       "((12920, 80), (12920, 200))"
      ]
     },
     "execution_count": 96,
     "metadata": {},
     "output_type": "execute_result"
    }
   ],
   "source": [
    "Z_tr.shape, Z_tr2.shape"
   ]
  },
  {
   "cell_type": "markdown",
   "metadata": {},
   "source": [
    "### Step 2: Train Model\n",
    "\n",
    "#### 2.1 train binary classifiers on each bit"
   ]
  },
  {
   "cell_type": "code",
   "execution_count": 97,
   "metadata": {},
   "outputs": [
    {
     "name": "stdout",
     "output_type": "stream",
     "text": [
      "Elapsed time is 14.084226 seconds.\n"
     ]
    }
   ],
   "source": [
    "from sklearn.ensemble import RandomForestClassifier\n",
    "clf = RandomForestClassifier(n_jobs=-1, n_estimators=100, random_state=1)\n",
    "time.tic()\n",
    "clf.fit(X_tr, Z_tr)\n",
    "time.toc()"
   ]
  },
  {
   "cell_type": "code",
   "execution_count": 98,
   "metadata": {},
   "outputs": [
    {
     "name": "stdout",
     "output_type": "stream",
     "text": [
      "Elapsed time is 23.940752 seconds.\n"
     ]
    }
   ],
   "source": [
    "clf2 = RandomForestClassifier(n_jobs=-1, n_estimators=100, random_state=1)\n",
    "time.tic()\n",
    "clf2.fit(X_tr, Z_tr2)\n",
    "time.toc()"
   ]
  },
  {
   "cell_type": "markdown",
   "metadata": {
    "collapsed": true
   },
   "source": [
    "#### 2.2 Store the lower degree space info for kNN\n",
    "\n",
    "We use opensource faiss library from FAIR to speedup the ANN(Approximate Nearest Neighbor) search.\n",
    "\n",
    "When dimension and data size is relatively small, we use the brute force kNN search."
   ]
  },
  {
   "cell_type": "code",
   "execution_count": 99,
   "metadata": {},
   "outputs": [
    {
     "name": "stdout",
     "output_type": "stream",
     "text": [
      "Elapsed time is 0.041331 seconds.\n"
     ]
    }
   ],
   "source": [
    "# faiss brute force search\n",
    "nn_index = faiss.index_factory(Z_tr.shape[1], \"Flat\", faiss.METRIC_L2)   # build the index\n",
    "time.tic()\n",
    "nn_index.add(Z_tr.astype('float32'))\n",
    "time.toc()"
   ]
  },
  {
   "cell_type": "code",
   "execution_count": 100,
   "metadata": {},
   "outputs": [
    {
     "name": "stdout",
     "output_type": "stream",
     "text": [
      "Elapsed time is 0.006800 seconds.\n"
     ]
    }
   ],
   "source": [
    "# faiss brute force search\n",
    "nn_index2 = faiss.index_factory(Z_tr2.shape[1], \"Flat\", faiss.METRIC_L2)   # build the index\n",
    "time.tic()\n",
    "nn_index2.add(Z_tr2.astype('float32'))\n",
    "time.toc()"
   ]
  },
  {
   "cell_type": "markdown",
   "metadata": {
    "collapsed": true
   },
   "source": [
    "```Python\n",
    "# index created by index factory, Approximate kNN search\n",
    "nn_index = faiss.index_factory(Z_tr.shape[1], \"IVF100,Flat\", faiss.METRIC_L2) # need train\n",
    "nn_index.train(Z_tr.astype('float32'))\n",
    "nn_index.add(Z_tr.astype('float32'))\n",
    "print \"nlist = {}\".format(nn_index.nlist) # number of clusters, only INF has this\n",
    "print \"nprobe = {}\".format(nn_index.nprobe)\n",
    "nn_index.nprobe = 1 # number of clusters to search through, only INF has this, need to be validate\n",
    "```"
   ]
  },
  {
   "cell_type": "markdown",
   "metadata": {},
   "source": [
    "### Step 3 Prediction and Validation\n",
    "#### 3.1 Bit Flip Probability\n",
    "the classifiers predict $\\hat z$ can be viewed as transmiting z from a BSC channel with some bit flip probability, this is actually representing the prediction accuracy."
   ]
  },
  {
   "cell_type": "code",
   "execution_count": 101,
   "metadata": {},
   "outputs": [
    {
     "data": {
      "text/plain": [
       "<matplotlib.text.Text at 0x7fcf85640110>"
      ]
     },
     "execution_count": 101,
     "metadata": {},
     "output_type": "execute_result"
    },
    {
     "data": {
      "image/png": "[encoded data removed]",
      "text/plain": [
       "<matplotlib.figure.Figure at 0x7fcf858d6550>"
      ]
     },
     "metadata": {},
     "output_type": "display_data"
    }
   ],
   "source": [
    "# L_hat=80\n",
    "Z_pred1 = clf.predict(X_te)\n",
    "err1 = util.hamming(Z_te, Z_pred1)\n",
    "sns.distplot(err1)\n",
    "plt.title('bit flip probability distribution for L_hat=80')\n",
    "plt.xlabel('bit flip probability')"
   ]
  },
  {
   "cell_type": "code",
   "execution_count": 102,
   "metadata": {},
   "outputs": [
    {
     "data": {
      "text/plain": [
       "<matplotlib.text.Text at 0x7fcf84688710>"
      ]
     },
     "execution_count": 102,
     "metadata": {},
     "output_type": "execute_result"
    },
    {
     "data": {
      "image/png": "[encoded data removed]",
      "text/plain": [
       "<matplotlib.figure.Figure at 0x7fcf855d08d0>"
      ]
     },
     "metadata": {},
     "output_type": "display_data"
    }
   ],
   "source": [
    "Z_pred2 = clf2.predict(X_te)\n",
    "err2 = util.hamming(Z_te2, Z_pred2)\n",
    "sns.distplot(err2)\n",
    "plt.title('bit flip probability distribution for L_hat=200')\n",
    "plt.xlabel('bit flip probability')"
   ]
  },
  {
   "cell_type": "code",
   "execution_count": 103,
   "metadata": {},
   "outputs": [
    {
     "data": {
      "text/plain": [
       "0.35633045525902668"
      ]
     },
     "execution_count": 103,
     "metadata": {},
     "output_type": "execute_result"
    }
   ],
   "source": [
    "err1.mean()"
   ]
  },
  {
   "cell_type": "code",
   "execution_count": 104,
   "metadata": {},
   "outputs": [
    {
     "data": {
      "text/plain": [
       "0.35546310832025113"
      ]
     },
     "execution_count": 104,
     "metadata": {},
     "output_type": "execute_result"
    }
   ],
   "source": [
    "err2.mean()"
   ]
  },
  {
   "cell_type": "markdown",
   "metadata": {},
   "source": [
    "#### 3.2 Synthetic Error Correction Code\n",
    "\n",
    "test by RandomForest.predict to generate z_pred and then ues kNN to find y.\n",
    "\n",
    "We assume to have some method of recover Z_pred $\\in\\{0,1\\}^{80}$ with $<30\\%$ bit flip probability to the real Z_te. Then use this sythetic version of Z to predict Y.\n",
    "\n",
    "In comparison, we have Z_tr2 $\\in\\{0,1\\}^{200}$ and recover y from it directly.\n",
    "\n",
    "Then we compare the 2 results to see if this \"error correction\" works in terms of precision@k"
   ]
  },
  {
   "cell_type": "code",
   "execution_count": 105,
   "metadata": {
    "collapsed": true
   },
   "outputs": [],
   "source": [
    "from util import Predictor"
   ]
  },
  {
   "cell_type": "code",
   "execution_count": 106,
   "metadata": {
    "collapsed": true
   },
   "outputs": [],
   "source": [
    "class Predictor_syn(Predictor):\n",
    "    '''\n",
    "    This is the predictor with sythetic \"error correction\"\n",
    "    Replace the Z_pred who has <30% error with the real Z_te data\n",
    "    \n",
    "    Attribute:\n",
    "        clf: randomforest classifier clf.predcit(X)==>Z_pred\n",
    "        index: nn search indexer\n",
    "        Y_tr: the training data of Y in order to help kNN search\n",
    "        Z_te: real data in order to synthetic the \"error correction\"\n",
    "        \n",
    "    Method:\n",
    "        predict_z: return the partially \"corrected\" version of v_pred\n",
    "        predict: use predict_z and kNN to take a weighted version of Y\n",
    "    '''\n",
    "    def __init__(self, classifier, indexer, Y_tr, Z_te, threshold=0.3):\n",
    "        super(Predictor_syn, self).__init__(classifier, indexer, Y_tr)\n",
    "        self.Z_te = Z_te\n",
    "        self.threshold = threshold\n",
    "        \n",
    "    def predict_z(self, X):\n",
    "        '''\n",
    "        Predict Z_pred using self.clf\n",
    "        Replace Z_pred who has less than 0.3 error with the true Z_te\n",
    "        '''\n",
    "        def error(pred, real): #bit flip probability\n",
    "            return (pred!=real).sum()/float(real.shape[0])\n",
    "        Z_pred = self.clf.predict(X)\n",
    "        Z_synt =  np.array([z2 if error(z1, z2)<self.threshold else z1 \\\n",
    "                         for z1, z2 in zip(Z_pred, self.Z_te)])\n",
    "        #import pdb; pdb.set_trace()\n",
    "        return Z_synt"
   ]
  },
  {
   "cell_type": "code",
   "execution_count": 107,
   "metadata": {
    "collapsed": true
   },
   "outputs": [],
   "source": [
    "# Initialize predictors\n",
    "p1_origin = Predictor(clf, nn_index, Y_tr)\n",
    "p1_synt = Predictor_syn(clf, nn_index, Y_tr, Z_te, threshold=0.35)\n",
    "p2_origin = Predictor(clf2, nn_index2, Y_tr)"
   ]
  },
  {
   "cell_type": "code",
   "execution_count": null,
   "metadata": {
    "collapsed": true
   },
   "outputs": [],
   "source": []
  },
  {
   "cell_type": "code",
   "execution_count": 108,
   "metadata": {
    "scrolled": true
   },
   "outputs": [
    {
     "name": "stdout",
     "output_type": "stream",
     "text": [
      "p@1 for predictor p1_origin:\t 0.608163265306\n",
      "\n",
      "p@3 for predictor p1_origin:\t 0.564835164835\n",
      "\n",
      "p@5 for predictor p1_origin:\t 0.522762951334\n",
      "\n"
     ]
    }
   ],
   "source": [
    "import util\n",
    "Y_pred = p1_origin.predict(X_te)\n",
    "for i in np.arange(1,6,2):\n",
    "    print \"p@{} for predictor {}:\\t {}\\n\".format(i, 'p1_origin' ,util.precision_at_k(Y_te, Y_pred, i))"
   ]
  },
  {
   "cell_type": "code",
   "execution_count": 109,
   "metadata": {},
   "outputs": [
    {
     "name": "stdout",
     "output_type": "stream",
     "text": [
      "p@1 for predictor p1_synt:\t 0.656200941915\n",
      "\n",
      "p@3 for predictor p1_synt:\t 0.619256933543\n",
      "\n",
      "p@5 for predictor p1_synt:\t 0.586436420722\n",
      "\n"
     ]
    }
   ],
   "source": [
    "Y_pred = p1_synt.predict(X_te)\n",
    "for i in np.arange(1,6,2):\n",
    "    print \"p@{} for predictor {}:\\t {}\\n\".format(i, 'p1_synt' ,util.precision_at_k(Y_te, Y_pred, i))"
   ]
  },
  {
   "cell_type": "code",
   "execution_count": 111,
   "metadata": {},
   "outputs": [
    {
     "data": {
      "text/plain": [
       "<matplotlib.text.Text at 0x7fcf8472c690>"
      ]
     },
     "execution_count": 111,
     "metadata": {},
     "output_type": "execute_result"
    },
    {
     "data": {
      "image/png": "[encoded data removed]",
      "text/plain": [
       "<matplotlib.figure.Figure at 0x7fcf8576ddd0>"
      ]
     },
     "metadata": {},
     "output_type": "display_data"
    }
   ],
   "source": [
    "Z_pred_syn = p1_synt.predict_z(X_te)\n",
    "err = util.hamming(Z_te, Z_pred_syn)\n",
    "sns.distplot(err)\n",
    "plt.title('bit flip probability distribution for L_hat=200')\n",
    "plt.xlabel('bit flip probability')"
   ]
  },
  {
   "cell_type": "code",
   "execution_count": 26,
   "metadata": {},
   "outputs": [
    {
     "name": "stdout",
     "output_type": "stream",
     "text": [
      "p@1 for predictor p2_origin:\t 0.62103610675\n",
      "\n",
      "p@3 for predictor p2_origin:\t 0.580952380952\n",
      "\n",
      "p@5 for predictor p2_origin:\t 0.542857142857\n",
      "\n"
     ]
    }
   ],
   "source": [
    "Y_pred = p2_origin.predict(X_te)\n",
    "for i in np.arange(1,6,2):\n",
    "    print \"p@{} for predictor {}:\\t {}\\n\".format(i, 'p2_origin' ,util.precision_at_k(Y_te, Y_pred, i))"
   ]
  },
  {
   "cell_type": "markdown",
   "metadata": {},
   "source": [
    "#### 3.3 Simulate the \"perfect error correctin\" on different threshold\n",
    "\n",
    "In the process, the encoding embeding space dimension $\\hat L'$ is related to the correcting threshold we use.\n",
    "\n",
    "let's assume the correcting threshold to be t, the redundent bit to be $C=\\hat  L'-\\hat L$, then we have:\n",
    "\n",
    "\\begin{align*}\n",
    "    &\\frac{C}{2}=t(\\hat L+C)\\\\\n",
    "    \\Rightarrow& \\hat L' = (1+\\frac{2t}{1-2t})\\hat L\n",
    "\\end{align*}"
   ]
  },
  {
   "cell_type": "code",
   "execution_count": 27,
   "metadata": {
    "collapsed": true
   },
   "outputs": [],
   "source": [
    "from util import precision_at_k\n",
    "precision_L80_synt = []\n",
    "precision_L_new = []\n",
    "threshold_range = np.arange(0.3,0.5,0.05)\n",
    "for threshold in threshold_range:\n",
    "    # synthetic prediction on L_hat=80\n",
    "    p_synt = Predictor_syn(clf, nn_index, Y_tr, Z_te, threshold)\n",
    "    Y_synt = p_synt.predict(X_te)\n",
    "    precision_L80_synt.append(precision_at_k(Y_te, Y_synt, 1))\n",
    "    \n",
    "    # prediction on L_hat_new\n",
    "    L_hat_new = int((1+2*threshold/(1-2*threshold))*L_hat)\n",
    "    Z_tr_new = util.map_2_z(Y_tr, L_hat_new)\n",
    "    # classifier\n",
    "    clf_new = RandomForestClassifier(n_jobs=-1, n_estimators=100, random_state=1)\n",
    "    clf_new.fit(X_tr, Z_tr_new)\n",
    "    # knn index\n",
    "    nn_index_new = faiss.index_factory(Z_tr_new.shape[1], \"Flat\", faiss.METRIC_L2)   # build the index\n",
    "    nn_index_new.add(Z_tr_new.astype('float32'))\n",
    "    p_new = Predictor(clf_new, nn_index_new, Y_tr)\n",
    "    Y_pred_new = p_new.predict(X_te)\n",
    "    precision_L_new.append(precision_at_k(Y_te, Y_pred_new, 1))\n",
    "pk_origin = precision_at_k(Y_te, p1_origin.predict(X_te))"
   ]
  },
  {
   "cell_type": "code",
   "execution_count": 42,
   "metadata": {
    "scrolled": false
   },
   "outputs": [
    {
     "data": {
      "text/plain": [
       "<matplotlib.legend.Legend at 0x7f90fd36f710>"
      ]
     },
     "execution_count": 42,
     "metadata": {},
     "output_type": "execute_result"
    },
    {
     "data": {
      "image/png": "[encoded data removed]",
      "text/plain": [
       "<matplotlib.figure.Figure at 0x7f90fcfb7210>"
      ]
     },
     "metadata": {},
     "output_type": "display_data"
    }
   ],
   "source": [
    "plt.plot(threshold_range, precision_L80_synt, label='synthetic correction')\n",
    "plt.plot(threshold_range, precision_L_new, label='encoded embedding space')\n",
    "plt.axhline(y=pk_origin, label='original model L_hat=80',color='r', linestyle='-')\n",
    "plt.title('comparison between perfect error correction and redundent embedding')\n",
    "plt.ylabel('precision@1')\n",
    "plt.xlabel('correction threshold')\n",
    "plt.legend()"
   ]
  },
  {
   "cell_type": "code",
   "execution_count": 31,
   "metadata": {
    "collapsed": true
   },
   "outputs": [],
   "source": [
    "L_hat_new = 500\n",
    "Z_tr_new = util.map_2_z(Y_tr, L_hat_new)\n",
    "# classifier\n",
    "clf_new = RandomForestClassifier(n_jobs=-1, n_estimators=100, random_state=1)\n",
    "clf_new.fit(X_tr, Z_tr_new)\n",
    "# knn index\n",
    "nn_index_new = faiss.index_factory(Z_tr_new.shape[1], \"Flat\", faiss.METRIC_L2)   # build the index\n",
    "nn_index_new.add(Z_tr_new.astype('float32'))\n",
    "p_new = Predictor(clf_new, nn_index_new, Y_tr)\n"
   ]
  },
  {
   "cell_type": "markdown",
   "metadata": {
    "collapsed": true
   },
   "source": [
    "### 4. Real Error Correction Code\n",
    "Use BCH code to encode the embeded vector z into z' and then use the same predictor\n"
   ]
  },
  {
   "cell_type": "code",
   "execution_count": 19,
   "metadata": {},
   "outputs": [],
   "source": [
    "import scipy.io as sio"
   ]
  },
  {
   "cell_type": "code",
   "execution_count": 14,
   "metadata": {},
   "outputs": [
    {
     "data": {
      "text/plain": [
       "(12920, 80)"
      ]
     },
     "execution_count": 14,
     "metadata": {},
     "output_type": "execute_result"
    }
   ],
   "source": [
    "Z_tr.shape"
   ]
  },
  {
   "cell_type": "code",
   "execution_count": 38,
   "metadata": {},
   "outputs": [
    {
     "data": {
      "text/plain": [
       "(3185, 80)"
      ]
     },
     "execution_count": 38,
     "metadata": {},
     "output_type": "execute_result"
    }
   ],
   "source": [
    "Z_te.shape"
   ]
  },
  {
   "cell_type": "code",
   "execution_count": 46,
   "metadata": {
    "collapsed": true
   },
   "outputs": [],
   "source": [
    "sio.savemat(model_path + '/data_py.mat', {'Z_tr':Z_tr, 'Z_te':Z_te})"
   ]
  },
  {
   "cell_type": "code",
   "execution_count": 20,
   "metadata": {},
   "outputs": [
    {
     "data": {
      "text/plain": [
       "'../model/synthetic_model1/Delicious'"
      ]
     },
     "execution_count": 20,
     "metadata": {},
     "output_type": "execute_result"
    }
   ],
   "source": [
    "model_path"
   ]
  },
  {
   "cell_type": "markdown",
   "metadata": {},
   "source": [
    "## Experiment 1 BCH\n",
    "L_hat = 76\n",
    "\n",
    "encode L_hat' = 511\n",
    "\n",
    "BCH error correction capacity:85\n"
   ]
  },
  {
   "cell_type": "code",
   "execution_count": 58,
   "metadata": {},
   "outputs": [],
   "source": [
    "Z_tr_76 = Z_tr[:, 0:76]\n",
    "Z_te_76 = Z_te[:, 0:76]\n",
    "Z_tr_511 = sio.loadmat(model_path + '/data.mat')['Z_tr_511']# using matlab BCH encode with each bit"
   ]
  },
  {
   "cell_type": "code",
   "execution_count": 59,
   "metadata": {},
   "outputs": [
    {
     "data": {
      "text/plain": [
       "(12920, 511)"
      ]
     },
     "execution_count": 59,
     "metadata": {},
     "output_type": "execute_result"
    }
   ],
   "source": [
    "Z_tr_511.shape"
   ]
  },
  {
   "cell_type": "code",
   "execution_count": 60,
   "metadata": {},
   "outputs": [
    {
     "data": {
      "text/plain": [
       "(12920, 76)"
      ]
     },
     "execution_count": 60,
     "metadata": {},
     "output_type": "execute_result"
    }
   ],
   "source": [
    "Z_tr_76.shape"
   ]
  },
  {
   "cell_type": "code",
   "execution_count": 55,
   "metadata": {},
   "outputs": [],
   "source": [
    "# create knn index\n",
    "nn_index_76 = faiss.index_factory(Z_tr_76.shape[1], \"Flat\", faiss.METRIC_L2)   # build the index\n",
    "nn_index_76.add(Z_tr_76.astype('float32'))"
   ]
  },
  {
   "cell_type": "code",
   "execution_count": 57,
   "metadata": {
    "scrolled": true
   },
   "outputs": [
    {
     "data": {
      "text/plain": [
       "RandomForestClassifier(bootstrap=True, class_weight=None, criterion='gini',\n",
       "            max_depth=None, max_features='auto', max_leaf_nodes=None,\n",
       "            min_impurity_split=1e-07, min_samples_leaf=1,\n",
       "            min_samples_split=2, min_weight_fraction_leaf=0.0,\n",
       "            n_estimators=100, n_jobs=-1, oob_score=False, random_state=1,\n",
       "            verbose=0, warm_start=False)"
      ]
     },
     "execution_count": 57,
     "metadata": {},
     "output_type": "execute_result"
    }
   ],
   "source": [
    "from sklearn.ensemble import RandomForestClassifier\n",
    "clf_511 = RandomForestClassifier(n_jobs=-1, n_estimators=100, random_state=1)\n",
    "clf_511.fit(X_tr, Z_tr_511)"
   ]
  },
  {
   "cell_type": "code",
   "execution_count": 63,
   "metadata": {},
   "outputs": [],
   "source": [
    "Z_pred_511 = clf_511.predict(X_te)"
   ]
  },
  {
   "cell_type": "code",
   "execution_count": 67,
   "metadata": {
    "collapsed": true
   },
   "outputs": [],
   "source": [
    "sio.savemat(model_path +'/data_py.mat', {'Z_tr':Z_tr, 'Z_te':Z_te, 'Z_pred_511':Z_pred_511})"
   ]
  },
  {
   "cell_type": "code",
   "execution_count": 73,
   "metadata": {},
   "outputs": [],
   "source": [
    "# matlab decode\n",
    "Z_pred_76 = sio.loadmat(model_path + '/data.mat')['Z_pred_76']"
   ]
  },
  {
   "cell_type": "code",
   "execution_count": 74,
   "metadata": {},
   "outputs": [
    {
     "data": {
      "text/plain": [
       "(3185, 76)"
      ]
     },
     "execution_count": 74,
     "metadata": {},
     "output_type": "execute_result"
    }
   ],
   "source": [
    "Z_pred_76.shape"
   ]
  },
  {
   "cell_type": "code",
   "execution_count": 78,
   "metadata": {},
   "outputs": [
    {
     "data": {
      "text/plain": [
       "<matplotlib.text.Text at 0x7fcf8576dbd0>"
      ]
     },
     "execution_count": 78,
     "metadata": {},
     "output_type": "execute_result"
    },
    {
     "data": {
      "image/png": "[encoded data removed]",
      "text/plain": [
       "<matplotlib.figure.Figure at 0x7fcf8623fa50>"
      ]
     },
     "metadata": {},
     "output_type": "display_data"
    }
   ],
   "source": [
    "err = util.hamming(Z_te_76, Z_pred_76)\n",
    "sns.distplot(err)\n",
    "plt.title('bit flip probability distribution for L_hat=76, encode L_hat = 511')\n",
    "plt.xlabel('bit flip probability')"
   ]
  },
  {
   "cell_type": "code",
   "execution_count": 71,
   "metadata": {
    "collapsed": true
   },
   "outputs": [],
   "source": [
    "clf_76 = RandomForestClassifier(n_jobs=-1, n_estimators=100, random_state=1)\n",
    "clf_76.fit(X_tr, Z_tr_76)\n",
    "Z_pred_76_origin = clf_76.predict(X_te)"
   ]
  },
  {
   "cell_type": "code",
   "execution_count": 82,
   "metadata": {},
   "outputs": [
    {
     "data": {
      "text/plain": [
       "0.6006279434850863"
      ]
     },
     "execution_count": 82,
     "metadata": {},
     "output_type": "execute_result"
    }
   ],
   "source": [
    "dist, ind = nn_index_76.search(np.ascontiguousarray(Z_pred_76).astype('float32'), 80)\n",
    "Y_pred_76_511 = [np.sum([Y_tr[indij]/float(distij*distij+0.01)\\\n",
    "                for indij, distij in zip(indi, disti)])\\\n",
    "                for indi, disti in zip(ind,dist)]\n",
    "util.precision_at_k(Y_te, Y_pred_76_511, 1)"
   ]
  },
  {
   "cell_type": "markdown",
   "metadata": {},
   "source": [
    "## Experiment 2: reed-solo\n",
    "\n",
    "L_hat = 80\n",
    "\n",
    "encode L_hat' = 511\n",
    "\n",
    "we use GF(2), where 2 bit represent a symbol"
   ]
  },
  {
   "cell_type": "code",
   "execution_count": null,
   "metadata": {
    "collapsed": true
   },
   "outputs": [],
   "source": [
    "rt"
   ]
  }
 ],
 "metadata": {
  "kernelspec": {
   "display_name": "Python 2",
   "language": "python",
   "name": "python2"
  },
  "language_info": {
   "codemirror_mode": {
    "name": "ipython",
    "version": 2
   },
   "file_extension": ".py",
   "mimetype": "text/x-python",
   "name": "python",
   "nbconvert_exporter": "python",
   "pygments_lexer": "ipython2",
   "version": "2.7.13"
  }
 },
 "nbformat": 4,
 "nbformat_minor": 2
}
