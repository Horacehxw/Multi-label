{
 "cells": [
  {
   "cell_type": "markdown",
   "metadata": {},
   "source": [
    "# Synthetic Model\n",
    "use gaussian model to simultate training and learning dataset. use compression and error correcting code to handle the single label classification problem.\n",
    "\n",
    "## Data Generation\n",
    "Y -> label: L dimension one hot vector. each entry represent a class.\n",
    "\n",
    "X -> featues: $4\\times L$ dimentsion. mean=Bernouli($\\frac{1}{2}$), variance = var.\n",
    "\n",
    "## Training Process\n",
    "We compress the label Y into binary representation of $\\hat Y=\\{0,1\\}^{\\hat L}$ where $\\hat L = \\log L$. Then train a bianry regressor on each bit of $\\hat Y$.\n",
    "\n",
    "In the testing process, we view the classifier as a Binary Erasure Channel and threshold the score of each label.\n"
   ]
  },
  {
   "cell_type": "code",
   "execution_count": 104,
   "metadata": {
    "collapsed": true
   },
   "outputs": [],
   "source": [
    "BIT_LABEL = 8\n",
    "DIM_LABEL = 2**8\n",
    "DIM_FEATURE = DIM_LABEL*4\n",
    "VARIANCE = 0.8\n",
    "THRESHOLD = 0.25\n",
    "NUM_DATA = 10000\n",
    "SEED = 0"
   ]
  },
  {
   "cell_type": "code",
   "execution_count": 105,
   "metadata": {
    "collapsed": true
   },
   "outputs": [],
   "source": [
    "# genetate synthetic data\n",
    "import numpy as np\n",
    "from numpy.random import binomial\n",
    "from numpy.random import normal\n",
    "from numpy.random import randint\n",
    "np.random.seed(SEED)\n",
    "X_mean = binomial(n=1, p=0.5, size=(DIM_LABEL, DIM_FEATURE))#genrate mean of each class\n",
    "Y = randint(DIM_LABEL, size=(NUM_DATA))\n",
    "X = np.array([normal(X_mean[y], scale=VARIANCE) for y in Y])\n",
    "\n",
    "from util import num_to_bin\n",
    "Y_bin = np.array([num_to_bin(y, BIT_LABEL) for y in Y]) # compress Y into binary format\n",
    "\n",
    "#split training and test data set\n",
    "from sklearn.model_selection import train_test_split\n",
    "X_tr, X_te, Y_tr, Y_te = train_test_split(X, Y_bin, test_size=0.33)"
   ]
  },
  {
   "cell_type": "code",
   "execution_count": 106,
   "metadata": {
    "collapsed": true
   },
   "outputs": [],
   "source": [
    "# train OvsA classifiers on raw data\n",
    "from sklearn.linear_model import LogisticRegression\n",
    "def train_bit(bit):\n",
    "    clf = LogisticRegression(solver='sag')\n",
    "    clf.fit(y=Y_tr[:, bit], X=X_tr)\n",
    "    return clf"
   ]
  },
  {
   "cell_type": "code",
   "execution_count": 107,
   "metadata": {
    "scrolled": true
   },
   "outputs": [],
   "source": [
    "from joblib import Parallel, delayed # Multitread\n",
    "origin_clfs = Parallel(n_jobs=-1)(delayed(train_bit)( i) for i in range(Y_tr.shape[1]))"
   ]
  },
  {
   "cell_type": "code",
   "execution_count": 108,
   "metadata": {
    "collapsed": true
   },
   "outputs": [],
   "source": [
    "Y_prob = np.array([clf.predict_proba(X_te)[:,1] for clf in origin_clfs]).T\n",
    "Y_pred = np.array([clf.predict(X_te) for clf in origin_clfs]).T"
   ]
  },
  {
   "cell_type": "code",
   "execution_count": 109,
   "metadata": {},
   "outputs": [
    {
     "data": {
      "text/plain": [
       "0.82897727272727273"
      ]
     },
     "execution_count": 109,
     "metadata": {},
     "output_type": "execute_result"
    }
   ],
   "source": [
    "(Y_pred==Y_te).sum()/float(Y_te.shape[0]*Y_te.shape[1])"
   ]
  },
  {
   "cell_type": "code",
   "execution_count": 110,
   "metadata": {
    "collapsed": true
   },
   "outputs": [],
   "source": [
    "# test the accuracy of threshold data, 0.5 if it is erased\n",
    "acc = []\n",
    "erase = []\n",
    "for clip in np.arange(0.01, 0.5, 0.01):\n",
    "    Y_clip = np.apply_along_axis(lambda row: \\\n",
    "                        np.array([0 if x < clip else 1 if x>1-clip else 0.5 for x in row]), \\\n",
    "                        0, Y_prob)\n",
    "    acc.append((Y_clip==Y_te).sum()/float((Y_clip!=0.5).sum()))\n",
    "    erase.append((Y_clip==0.5).sum()/float(Y_te.shape[0]*Y_te.shape[1]))"
   ]
  },
  {
   "cell_type": "code",
   "execution_count": 113,
   "metadata": {},
   "outputs": [
    {
     "data": {
      "text/plain": [
       "<matplotlib.legend.Legend at 0x7f5e37d7bd90>"
      ]
     },
     "execution_count": 113,
     "metadata": {},
     "output_type": "execute_result"
    },
    {
     "data": {
      "image/png": "[encoded data removed]",
      "text/plain": [
       "<matplotlib.figure.Figure at 0x7f5e37ebaad0>"
      ]
     },
     "metadata": {},
     "output_type": "display_data"
    }
   ],
   "source": [
    "%matplotlib inline\n",
    "import matplotlib.pyplot as plt\n",
    "plt.plot(np.arange(0.01, 0.5, 0.01), acc, label='acc')\n",
    "plt.plot(np.arange(0.01, 0.5, 0.01), erase, label='erase')\n",
    "plt.xlabel('threshold')\n",
    "plt.legend()"
   ]
  },
  {
   "cell_type": "code",
   "execution_count": 91,
   "metadata": {
    "collapsed": true
   },
   "outputs": [],
   "source": [
    "from reedsolo import RSCodec, ReedSolomonError"
   ]
  },
  {
   "cell_type": "code",
   "execution_count": 138,
   "metadata": {
    "collapsed": true
   },
   "outputs": [],
   "source": [
    "rs = RSCodec()"
   ]
  },
  {
   "cell_type": "code",
   "execution_count": 139,
   "metadata": {},
   "outputs": [
    {
     "data": {
      "text/plain": [
       "[]"
      ]
     },
     "execution_count": 139,
     "metadata": {},
     "output_type": "execute_result"
    }
   ],
   "source": [
    "list(rs.decode(rs.encode([0,1,1,0])))"
   ]
  },
  {
   "cell_type": "code",
   "execution_count": null,
   "metadata": {
    "collapsed": true
   },
   "outputs": [],
   "source": []
  }
 ],
 "metadata": {
  "kernelspec": {
   "display_name": "Python 2",
   "language": "python",
   "name": "python2"
  },
  "language_info": {
   "codemirror_mode": {
    "name": "ipython",
    "version": 2
   },
   "file_extension": ".py",
   "mimetype": "text/x-python",
   "name": "python",
   "nbconvert_exporter": "python",
   "pygments_lexer": "ipython2",
   "version": "2.7.13"
  }
 },
 "nbformat": 4,
 "nbformat_minor": 2
}
