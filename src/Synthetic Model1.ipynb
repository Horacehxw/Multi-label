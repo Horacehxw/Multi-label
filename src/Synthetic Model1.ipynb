{
 "cells": [
  {
   "cell_type": "markdown",
   "metadata": {},
   "source": [
    "# Synthetic Model\n",
    "use gaussian model to simultate training and learning dataset. use compression and error correcting code to handle the single label classification problem.\n",
    "\n",
    "## Data Generation\n",
    "Y -> label: L dimension one hot vector. each entry represent a class.\n",
    "\n",
    "X -> featues: $4\\times L$ dimentsion. mean=Bernouli($\\frac{1}{2}$), variance = var.\n",
    "\n",
    "## Training Process\n",
    "We compress the label Y into binary representation of $\\hat Y=\\{0,1\\}^{\\hat L}$ where $\\hat L = \\log L$. Then train a bianry regressor on each bit of $\\hat Y$.\n",
    "\n",
    "In the testing process, we view the classifier as a Binary Erasure Channel and threshold the score of each label.\n"
   ]
  },
  {
   "cell_type": "code",
   "execution_count": 9,
   "metadata": {
    "collapsed": true
   },
   "outputs": [],
   "source": [
    "BIT_LABEL = 8\n",
    "DIM_LABEL = 2**8\n",
    "DIM_FEATURE = DIM_LABEL*4\n",
    "VARIANCE = 1\n",
    "THRESHOLD = 0.25\n",
    "NUM_DATA = 10000\n",
    "SEED = 0\n",
    "ORIGIN_PATH = '../model/synthetic_model1'"
   ]
  },
  {
   "cell_type": "code",
   "execution_count": 7,
   "metadata": {},
   "outputs": [],
   "source": [
    "import numpy as np\n",
    "from numpy.random import binomial\n",
    "from numpy.random import normal\n",
    "from numpy.random import randint\n",
    "np.random.seed(SEED)\n",
    "X_mean = binomial(n=1, p=0.5, size=(DIM_LABEL, DIM_FEATURE))#genrate mean of each class\n",
    "Y = randint(DIM_LABEL, size=(NUM_DATA))\n",
    "X = np.array([normal(X_mean[y]) for y in Y])\n",
    "\n",
    "from util import num_to_bin\n",
    "Y_bin = np.array([num_to_bin(y, BIT_LABEL) for y in Y]) # compress Y into binary format\n",
    "\n",
    "#split training and test data set\n",
    "from sklearn.model_selection import train_test_split\n",
    "X_tr, X_te, Y_tr, Y_te = train_test_split(X, Y_bin, test_size=0.33)"
   ]
  },
  {
   "cell_type": "code",
   "execution_count": null,
   "metadata": {
    "collapsed": true
   },
   "outputs": [],
   "source": []
  }
 ],
 "metadata": {
  "kernelspec": {
   "display_name": "Python 2",
   "language": "python",
   "name": "python2"
  },
  "language_info": {
   "codemirror_mode": {
    "name": "ipython",
    "version": 2
   },
   "file_extension": ".py",
   "mimetype": "text/x-python",
   "name": "python",
   "nbconvert_exporter": "python",
   "pygments_lexer": "ipython2",
   "version": "2.7.13"
  }
 },
 "nbformat": 4,
 "nbformat_minor": 2
}
