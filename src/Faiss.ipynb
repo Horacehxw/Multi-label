{
 "cells": [
  {
   "cell_type": "code",
   "execution_count": 1,
   "metadata": {},
   "outputs": [
    {
     "name": "stderr",
     "output_type": "stream",
     "text": [
      "Failed to load GPU Faiss: No module named swigfaiss_gpu\n",
      "Faiss falling back to CPU-only.\n"
     ]
    }
   ],
   "source": [
    "import numpy as np\n",
    "import faiss\n",
    "from sklearn.neighbors import KDTree #KDTree for fast kNN search\n",
    "from pytictoc import TicToc"
   ]
  },
  {
   "cell_type": "code",
   "execution_count": 2,
   "metadata": {
    "collapsed": true
   },
   "outputs": [],
   "source": [
    "time = TicToc() # timer"
   ]
  },
  {
   "cell_type": "code",
   "execution_count": 38,
   "metadata": {
    "collapsed": true
   },
   "outputs": [],
   "source": [
    "d = 64                      # dimension\n",
    "nb = 100000                      # database size\n",
    "nq = 10000                       # nb of queries\n",
    "np.random.seed(1234)             # make reproducible\n",
    "xb = np.random.random((nb, d)).astype('float32')\n",
    "xb[:, 0] += np.arange(nb) / 1000.\n",
    "xq = np.random.random((nq, d)).astype('float32')\n",
    "xq[:, 0] += np.arange(nq) / 1000."
   ]
  },
  {
   "cell_type": "code",
   "execution_count": 39,
   "metadata": {},
   "outputs": [
    {
     "data": {
      "text/plain": [
       "array([  0.00000000e+00,   1.00000000e-03,   2.00000000e-03, ...,\n",
       "         9.99700000e+00,   9.99800000e+00,   9.99900000e+00])"
      ]
     },
     "execution_count": 39,
     "metadata": {},
     "output_type": "execute_result"
    }
   ],
   "source": [
    "np.arange(nq) / 1000."
   ]
  },
  {
   "cell_type": "code",
   "execution_count": 40,
   "metadata": {},
   "outputs": [
    {
     "name": "stdout",
     "output_type": "stream",
     "text": [
      "Elapsed time is 0.000613 seconds.\n"
     ]
    },
    {
     "data": {
      "text/plain": [
       "True"
      ]
     },
     "execution_count": 40,
     "metadata": {},
     "output_type": "execute_result"
    }
   ],
   "source": [
    "# brute force example with multithreading \n",
    "time.tic()\n",
    "index = faiss.IndexFlatL2(d) # build index with dim d\n",
    "time.toc()\n",
    "index.is_trained # automatic trained"
   ]
  },
  {
   "cell_type": "code",
   "execution_count": 41,
   "metadata": {},
   "outputs": [
    {
     "name": "stdout",
     "output_type": "stream",
     "text": [
      "Elapsed time is 0.007320 seconds.\n",
      "100000\n"
     ]
    }
   ],
   "source": [
    "time.tic()\n",
    "index.add(xb)\n",
    "time.toc()\n",
    "print index.ntotal"
   ]
  },
  {
   "cell_type": "code",
   "execution_count": 42,
   "metadata": {},
   "outputs": [
    {
     "name": "stdout",
     "output_type": "stream",
     "text": [
      "Elapsed time is 1.650822 seconds.\n",
      "[[ 6.81549835  6.88946533  7.39567947  7.42902565]\n",
      " [ 6.60411072  6.67969513  6.72096252  6.82868195]\n",
      " [ 6.47038651  6.85786057  7.00437927  7.03656387]\n",
      " ..., \n",
      " [ 6.07269287  6.57675171  6.61395264  6.7322998 ]\n",
      " [ 6.63751221  6.64874268  6.85787964  7.00964355]\n",
      " [ 6.21836853  6.45251465  6.54876709  6.58129883]]\n",
      "[[  381   207   210   477]\n",
      " [  526   911   142    72]\n",
      " [  838   527  1290   425]\n",
      " ..., \n",
      " [11353 11103 10164  9787]\n",
      " [10571 10664 10632  9638]\n",
      " [ 9628  9554 10036  9582]]\n"
     ]
    }
   ],
   "source": [
    "k = 4 # k-Nearest Neighbor\n",
    "time.tic()\n",
    "dist, ide = index.search(xq, k)\n",
    "time.toc()\n",
    "print dist\n",
    "print ide"
   ]
  },
  {
   "cell_type": "code",
   "execution_count": 8,
   "metadata": {},
   "outputs": [
    {
     "name": "stdout",
     "output_type": "stream",
     "text": [
      "Elapsed time is 4.207135 seconds.\n"
     ]
    }
   ],
   "source": [
    "# KD tree is really slow\n",
    "time.tic()\n",
    "kd_tree = KDTree(xb)\n",
    "time.toc()"
   ]
  },
  {
   "cell_type": "code",
   "execution_count": 9,
   "metadata": {},
   "outputs": [
    {
     "name": "stdout",
     "output_type": "stream",
     "text": [
      "Elapsed time is 6.896273 seconds.\n",
      "[[ 2.61065333  2.62477918  2.71949963  2.72562302]\n",
      " [ 2.56984655  2.58451163  2.59248252  2.61317433]\n",
      " [ 2.54369485  2.61875207  2.64657795  2.65265269]\n",
      " ..., \n",
      " [ 2.46428394  2.56450564  2.5717739   2.59465104]\n",
      " [ 2.57630874  2.57852202  2.6187449   2.6475746 ]\n",
      " [ 2.49366122  2.54017325  2.55904871  2.56540661]]\n",
      "[[  381   207   210   477]\n",
      " [  526   911   142    72]\n",
      " [  838   527  1290   425]\n",
      " ..., \n",
      " [11353 11103 10164  9787]\n",
      " [10571 10664 10632  9638]\n",
      " [ 9628  9554 10036  9582]]\n"
     ]
    }
   ],
   "source": [
    "time.tic()\n",
    "dist, ide = kd_tree.query(xq, k)\n",
    "time.toc()\n",
    "print dist\n",
    "print ide"
   ]
  },
  {
   "cell_type": "code",
   "execution_count": 43,
   "metadata": {},
   "outputs": [
    {
     "name": "stdout",
     "output_type": "stream",
     "text": [
      "Elapsed time is 0.028498 seconds.\n"
     ]
    }
   ],
   "source": [
    "# Approximate kNN --> search only in the corresponding bin\n",
    "nlist = 10\n",
    "quantizer = faiss.IndexFlatL2(d)  # the other index\n",
    "index = faiss.IndexIVFFlat(quantizer, d, nlist, faiss.METRIC_L2)\n",
    "       # here we specify METRIC_L2, by default it performs inner-product search\n",
    "time.tic()\n",
    "index.train(xb)\n",
    "time.toc()"
   ]
  },
  {
   "cell_type": "code",
   "execution_count": 44,
   "metadata": {},
   "outputs": [
    {
     "name": "stdout",
     "output_type": "stream",
     "text": [
      "Elapsed time is 0.024559 seconds.\n",
      "Elapsed time is 0.495172 seconds.\n"
     ]
    }
   ],
   "source": [
    "time.tic()\n",
    "index.add(xb)                  # add may be a bit slower as well\n",
    "time.toc()\n",
    "time.tic()\n",
    "dist, ide = index.search(xq, k)\n",
    "time.toc()"
   ]
  },
  {
   "cell_type": "code",
   "execution_count": 45,
   "metadata": {},
   "outputs": [
    {
     "name": "stdout",
     "output_type": "stream",
     "text": [
      "[[  381   207   210   477]\n",
      " [  526   911   142    72]\n",
      " [  838   527  1290   425]\n",
      " ..., \n",
      " [11353 11103 10164  9787]\n",
      " [10571 10664 10632  9638]\n",
      " [ 9628  9554 10036  9582]]\n"
     ]
    }
   ],
   "source": [
    "print ide"
   ]
  },
  {
   "cell_type": "code",
   "execution_count": null,
   "metadata": {
    "collapsed": true
   },
   "outputs": [],
   "source": [
    "# lossy compression in the model\n"
   ]
  }
 ],
 "metadata": {
  "kernelspec": {
   "display_name": "Python 2",
   "language": "python",
   "name": "python2"
  },
  "language_info": {
   "codemirror_mode": {
    "name": "ipython",
    "version": 2
   },
   "file_extension": ".py",
   "mimetype": "text/x-python",
   "name": "python",
   "nbconvert_exporter": "python",
   "pygments_lexer": "ipython2",
   "version": "2.7.13"
  }
 },
 "nbformat": 4,
 "nbformat_minor": 2
}
