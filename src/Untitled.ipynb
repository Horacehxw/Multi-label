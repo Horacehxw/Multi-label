{
 "cells": [
  {
   "cell_type": "code",
   "execution_count": 6,
   "metadata": {},
   "outputs": [
    {
     "name": "stdout",
     "output_type": "stream",
     "text": [
      "\u001b[0m\u001b[34;42mAmazonCat\u001b[0m/  \u001b[34;42mBibtex\u001b[0m/  \u001b[34;42mDelicious\u001b[0m/  \u001b[34;42mEurlex\u001b[0m/  \u001b[34;42mMediamill\u001b[0m/  \u001b[34;42mRCV1-x\u001b[0m/  \u001b[34;42mWiki10\u001b[0m/\r\n"
     ]
    }
   ],
   "source": [
    "ls"
   ]
  },
  {
   "cell_type": "code",
   "execution_count": 7,
   "metadata": {},
   "outputs": [
    {
     "name": "stdout",
     "output_type": "stream",
     "text": [
      "/home/horacehxw/research/Multi-label/data/Delicious\n"
     ]
    }
   ],
   "source": [
    "cd Delicious/"
   ]
  },
  {
   "cell_type": "code",
   "execution_count": 8,
   "metadata": {},
   "outputs": [
    {
     "name": "stdout",
     "output_type": "stream",
     "text": [
      "\u001b[0m\u001b[01;32mDelicious_data.txt\u001b[0m*  \u001b[01;32mdelicious_trSplit.txt\u001b[0m*  \u001b[01;32mdelicious_tstSplit.txt\u001b[0m*\r\n"
     ]
    }
   ],
   "source": [
    "ls"
   ]
  },
  {
   "cell_type": "code",
   "execution_count": 19,
   "metadata": {},
   "outputs": [
    {
     "name": "stdout",
     "output_type": "stream",
     "text": [
      "  16106  310708 4981827 Delicious_data.txt\r\n"
     ]
    }
   ],
   "source": [
    "!wc Delicious_data.txt"
   ]
  },
  {
   "cell_type": "code",
   "execution_count": 16,
   "metadata": {},
   "outputs": [
    {
     "name": "stdout",
     "output_type": "stream",
     "text": [
      "  3185  31850 169152 delicious_tstSplit.txt\r\n"
     ]
    }
   ],
   "source": [
    "!wc delicious_tstSplit.txt"
   ]
  },
  {
   "cell_type": "code",
   "execution_count": 18,
   "metadata": {},
   "outputs": [
    {
     "name": "stdout",
     "output_type": "stream",
     "text": [
      " 12920 129200 686088 delicious_trSplit.txt\r\n"
     ]
    }
   ],
   "source": [
    "!wc delicious_trSplit.txt"
   ]
  },
  {
   "cell_type": "code",
   "execution_count": 20,
   "metadata": {
    "scrolled": true
   },
   "outputs": [
    {
     "name": "stdout",
     "output_type": "stream",
     "text": [
      "7773 5951 4889 5150 12202 10140 2046 5959 13337 2756\r\n",
      "5845 13532 13637 7577 11233 8310 6494 11935 14224 1548\r\n",
      "10744 9670 5157 1427 3736 14330 14013 14070 15402 2150\r\n",
      "8579 4478 3410 10697 2132 8381 14369 2515 12969 3880\r\n",
      "13171 7090 15992 9758 14665 10942 11859 6949 10183 1836\r\n",
      "15296 4887 10488 2482 3473 219 7251 13543 15115 811\r\n",
      "9713 15912 11905 15229 9161 2965 6310 8503 856 15917\r\n",
      "2056 7946 7014 1389 2824 3509 8519 7887 12726 14968\r\n",
      "8699 10328 720 12436 15440 7882 6011 13842 11898 6141\r\n",
      "2067 1068 11429 4911 7824 5443 10183 463 2829 8778\r\n"
     ]
    }
   ],
   "source": [
    "!head delicious_trSplit.txt"
   ]
  },
  {
   "cell_type": "code",
   "execution_count": 21,
   "metadata": {},
   "outputs": [
    {
     "name": "stdout",
     "output_type": "stream",
     "text": [
      "16105 500 983\r",
      "\r\n",
      "77,91,315,544,575,621,718,818,819,834,908 60:1.000000 248:1.000000 279:1.000000 316:1.000000 490:1.000000\r",
      "\r\n",
      "82,99,205,357,365,386,387,395,396,398,470,625,664,941,958,960 89:1.000000 173:1.000000 180:1.000000 242:1.000000 352:1.000000 423:1.000000 475:1.000000\r",
      "\r\n",
      "76,332,333,453,552,799 6:1.000000 7:1.000000 11:1.000000 14:1.000000 15:1.000000 26:1.000000 29:1.000000 45:1.000000 46:1.000000 47:1.000000 52:1.000000 60:1.000000 62:1.000000 63:1.000000 77:1.000000 87:1.000000 90:1.000000 100:1.000000 102:1.000000 106:1.000000 116:1.000000 119:1.000000 120:1.000000 123:1.000000 124:1.000000 126:1.000000 127:1.000000 132:1.000000 151:1.000000 152:1.000000 153:1.000000 164:1.000000 168:1.000000 170:1.000000 171:1.000000 173:1.000000 174:1.000000 177:1.000000 179:1.000000 180:1.000000 183:1.000000 184:1.000000 185:1.000000 191:1.000000 206:1.000000 208:1.000000 215:1.000000 224:1.000000 228:1.000000 229:1.000000 233:1.000000 242:1.000000 245:1.000000 249:1.000000 252:1.000000 257:1.000000 259:1.000000 260:1.000000 261:1.000000 273:1.000000 274:1.000000 279:1.000000 286:1.000000 296:1.000000 297:1.000000 304:1.000000 307:1.000000 308:1.000000 331:1.000000 332:1.000000 341:1.000000 342:1.000000 343:1.000000 346:1.000000 347:1.000000 352:1.000000 358:1.000000 368:1.000000 369:1.000000 370:1.000000 371:1.000000 372:1.000000 378:1.000000 379:1.000000 385:1.000000 387:1.000000 388:1.000000 389:1.000000 391:1.000000 393:1.000000 394:1.000000 395:1.000000 396:1.000000 400:1.000000 410:1.000000 419:1.000000 422:1.000000 436:1.000000 439:1.000000 446:1.000000 447:1.000000 458:1.000000 463:1.000000 467:1.000000 468:1.000000 469:1.000000 471:1.000000 472:1.000000 479:1.000000 483:1.000000 485:1.000000 486:1.000000 488:1.000000\r",
      "\r\n",
      "332,333,339,353,456,507,573,574,615,731,783,788,799 6:1.000000 11:1.000000 14:1.000000 18:1.000000 19:1.000000 28:1.000000 29:1.000000 35:1.000000 37:1.000000 45:1.000000 49:1.000000 59:1.000000 62:1.000000 63:1.000000 65:1.000000 77:1.000000 79:1.000000 94:1.000000 95:1.000000 107:1.000000 112:1.000000 116:1.000000 119:1.000000 120:1.000000 124:1.000000 126:1.000000 127:1.000000 129:1.000000 130:1.000000 131:1.000000 135:1.000000 138:1.000000 145:1.000000 148:1.000000 150:1.000000 151:1.000000 153:1.000000 159:1.000000 161:1.000000 162:1.000000 164:1.000000 168:1.000000 170:1.000000 171:1.000000 173:1.000000 177:1.000000 179:1.000000 183:1.000000 184:1.000000 185:1.000000 186:1.000000 191:1.000000 203:1.000000 206:1.000000 210:1.000000 212:1.000000 217:1.000000 236:1.000000 242:1.000000 247:1.000000 250:1.000000 261:1.000000 265:1.000000 267:1.000000 269:1.000000 273:1.000000 276:1.000000 279:1.000000 287:1.000000 291:1.000000 301:1.000000 302:1.000000 311:1.000000 323:1.000000 328:1.000000 329:1.000000 331:1.000000 332:1.000000 333:1.000000 337:1.000000 339:1.000000 342:1.000000 347:1.000000 350:1.000000 353:1.000000 355:1.000000 358:1.000000 365:1.000000 369:1.000000 370:1.000000 378:1.000000 379:1.000000 383:1.000000 388:1.000000 393:1.000000 402:1.000000 405:1.000000 411:1.000000 415:1.000000 418:1.000000 419:1.000000 422:1.000000 425:1.000000 427:1.000000 435:1.000000 437:1.000000 442:1.000000 443:1.000000 446:1.000000 447:1.000000 453:1.000000 454:1.000000 455:1.000000 463:1.000000 469:1.000000 477:1.000000 480:1.000000 488:1.000000 495:1.000000\r",
      "\r\n",
      "77,104,108,205,223,275,276,285,286,296,378,381,440,484,488,531,541,543,632,724,733,881,941,977 19:1.000000 48:1.000000 89:1.000000 92:1.000000 107:1.000000\r",
      "\r\n",
      "16,22,25,156,205,315,345,387,456,591,597,598,760,899,924,960,982 8:1.000000 11:1.000000 54:1.000000 61:1.000000 70:1.000000 97:1.000000 98:1.000000 105:1.000000 140:1.000000 142:1.000000 143:1.000000 154:1.000000 155:1.000000 188:1.000000 268:1.000000 273:1.000000 283:1.000000 295:1.000000 322:1.000000 324:1.000000 325:1.000000 326:1.000000 342:1.000000 361:1.000000 363:1.000000 408:1.000000 421:1.000000 446:1.000000 454:1.000000 457:1.000000 462:1.000000 470:1.000000 493:1.000000 494:1.000000\r",
      "\r\n",
      "58,68,109,189,205,452,479,534,535,553,554,643,809,858,876,897,898,930,931,967,980 0:1.000000 6:1.000000 11:1.000000 13:1.000000 60:1.000000 72:1.000000 77:1.000000 100:1.000000 139:1.000000 150:1.000000 156:1.000000 170:1.000000 180:1.000000 206:1.000000 208:1.000000 217:1.000000 218:1.000000 229:1.000000 230:1.000000 234:1.000000 248:1.000000 257:1.000000 279:1.000000 284:1.000000 285:1.000000 288:1.000000 290:1.000000 294:1.000000 300:1.000000 339:1.000000 341:1.000000 376:1.000000 396:1.000000 397:1.000000 414:1.000000 416:1.000000 433:1.000000 440:1.000000 448:1.000000 452:1.000000 477:1.000000 486:1.000000 495:1.000000\r",
      "\r\n",
      "63,77,102,223,255,315,378,488,493,541,575,600,606,677,678,679,682,709,718,733,754,770,860 5:1.000000 6:1.000000 7:1.000000 107:1.000000 137:1.000000 159:1.000000 179:1.000000 196:1.000000 204:1.000000 244:1.000000 257:1.000000 260:1.000000 267:1.000000 273:1.000000 276:1.000000 294:1.000000 304:1.000000 316:1.000000 331:1.000000 335:1.000000 400:1.000000 463:1.000000 472:1.000000\r",
      "\r\n",
      "137,304,452,504,505,762,876,974,977 180:1.000000 351:1.000000 463:1.000000\r",
      "\r\n"
     ]
    }
   ],
   "source": [
    "!head Delicious_data.txt"
   ]
  },
  {
   "cell_type": "code",
   "execution_count": 17,
   "metadata": {},
   "outputs": [
    {
     "name": "stdout",
     "output_type": "stream",
     "text": [
      "WC(1)                            User Commands                           WC(1)\r\n",
      "\r\n",
      "N\bNA\bAM\bME\bE\r\n",
      "       wc - print newline, word, and byte counts for each file\r\n",
      "\r\n",
      "S\bSY\bYN\bNO\bOP\bPS\bSI\bIS\bS\r\n",
      "       w\bwc\bc [_\bO_\bP_\bT_\bI_\bO_\bN]... [_\bF_\bI_\bL_\bE]...\r\n",
      "       w\bwc\bc [_\bO_\bP_\bT_\bI_\bO_\bN]... _\b-_\b-_\bf_\bi_\bl_\be_\bs_\b0_\b-_\bf_\br_\bo_\bm_\b=_\bF\r\n",
      "\r\n",
      "D\bDE\bES\bSC\bCR\bRI\bIP\bPT\bTI\bIO\bON\bN\r\n",
      "       Print newline, word, and byte counts for each FILE, and a total line if\r\n",
      "       more than one FILE is specified.  A word is a non-zero-length  sequence\r\n",
      "       of characters delimited by white space.\r\n",
      "\r\n",
      "       With no FILE, or when FILE is -, read standard input.\r\n",
      "\r\n",
      "       The  options  below  may  be  used  to select which counts are printed,\r\n",
      "       always in the following order: newline, word, character, byte,  maximum\r\n",
      "       line length.\r\n",
      "\r\n",
      "       -\b-c\bc, -\b--\b-b\bby\byt\bte\bes\bs\r\n",
      "              print the byte counts\r\n",
      "\r\n",
      "       -\b-m\bm, -\b--\b-c\bch\bha\bar\brs\bs\r\n",
      "              print the character counts\r\n",
      "\r\n",
      "       -\b-l\bl, -\b--\b-l\bli\bin\bne\bes\bs\r\n",
      "              print the newline counts\r\n",
      "\r\n",
      "       -\b--\b-f\bfi\bil\ble\bes\bs0\b0-\b-f\bfr\bro\bom\bm=_\bF\r\n",
      "              read  input  from the files specified by NUL-terminated names in\r\n",
      "              file F; If F is - then read names from standard input\r\n",
      "\r\n",
      "       -\b-L\bL, -\b--\b-m\bma\bax\bx-\b-l\bli\bin\bne\be-\b-l\ble\ben\bng\bgt\bth\bh\r\n",
      "              print the maximum display width\r\n",
      "\r\n",
      "       -\b-w\bw, -\b--\b-w\bwo\bor\brd\bds\bs\r\n",
      "              print the word counts\r\n",
      "\r\n",
      "       -\b--\b-h\bhe\bel\blp\bp display this help and exit\r\n",
      "\r\n",
      "       -\b--\b-v\bve\ber\brs\bsi\bio\bon\bn\r\n",
      "              output version information and exit\r\n",
      "\r\n",
      "A\bAU\bUT\bTH\bHO\bOR\bR\r\n",
      "       Written by Paul Rubin and David MacKenzie.\r\n",
      "\r\n",
      "R\bRE\bEP\bPO\bOR\bRT\bTI\bIN\bNG\bG B\bBU\bUG\bGS\bS\r\n",
      "       GNU coreutils online help: <http://www.gnu.org/software/coreutils/>\r\n",
      "       Report wc translation bugs to <http://translationproject.org/team/>\r\n",
      "\r\n",
      "C\bCO\bOP\bPY\bYR\bRI\bIG\bGH\bHT\bT\r\n",
      "       Copyright © 2016 Free Software Foundation, Inc.   License  GPLv3+:  GNU\r\n",
      "       GPL version 3 or later <http://gnu.org/licenses/gpl.html>.\r\n",
      "       This  is  free  software:  you  are free to change and redistribute it.\r\n",
      "       There is NO WARRANTY, to the extent permitted by law.\r\n",
      "\r\n",
      "S\bSE\bEE\bE A\bAL\bLS\bSO\bO\r\n",
      "       Full documentation at: <http://www.gnu.org/software/coreutils/wc>\r\n",
      "       or available locally via: info '(coreutils) wc invocation'\r\n",
      "\r\n",
      "GNU coreutils 8.25               February 2017                           WC(1)\r\n"
     ]
    }
   ],
   "source": [
    "!man wc"
   ]
  },
  {
   "cell_type": "code",
   "execution_count": null,
   "metadata": {
    "collapsed": true
   },
   "outputs": [],
   "source": []
  }
 ],
 "metadata": {
  "kernelspec": {
   "display_name": "Python 2",
   "language": "python",
   "name": "python2"
  },
  "language_info": {
   "codemirror_mode": {
    "name": "ipython",
    "version": 2
   },
   "file_extension": ".py",
   "mimetype": "text/x-python",
   "name": "python",
   "nbconvert_exporter": "python",
   "pygments_lexer": "ipython2",
   "version": "2.7.13"
  }
 },
 "nbformat": 4,
 "nbformat_minor": 2
}
