{
 "cells": [
  {
   "cell_type": "markdown",
   "metadata": {},
   "source": [
    "**author: Xiaowu He. horace_hxw_cal@berkeley.edu**\n",
    "\n",
    "# Multi-label Classification Note\n",
    "## 1. ECOC(multi-class setting)\n",
    "#### step 1: map the class to the coresponding **binary** vector $[1,0,...,1]^T$ using the error correction codes.:\n",
    "- Exhaustive code\n",
    "- Col Selection from Exhaustive code (Hill Climbing)\n",
    "- Randomize Hill Climbing\n",
    "- BCH code\n",
    "\n",
    "#### step 2: use maching learning algorithms to create the probability vector of each position to be 1.\n",
    "- Decision Tree\n",
    "- Nueral Network\n",
    "- **create muliple binary classifiers for each position**\n",
    "\n",
    "#### step 3： recover the origin class vector according to the cloest $\\ell_1$ distance\n",
    "\n",
    "## 2. MLGT (Group Testing)\n",
    "The basic idea is to form group of labels and test each data point whether or not inside that group.\n",
    "1. Construct  a specific binary matrix $A_{m\\times d}$ and compress the original binary-label vector by $z = A \\quad or \\quad  y$ using matrix boolean opration. Then train the classifiers based on vector z.\n",
    "2. Predicting process is to set the position $l$ of group vector to 1 iff $|supp(A^{(l)}) - supp(\\hat{z}))| < \\frac{e}{2}$. where the supp() means the set of indexees of nonzero enties in a given vector.\n",
    "\n",
    "## 3. Haffman Tree Based multi-class Classification\n",
    "constructing a haffman tree based on the frequency of each label. and train a binary classifier at each node of the tree.\n",
    "\n",
    "**this can reduce the average classification and training time.**\n",
    "\n",
    "## 4. ECOC in Multi-label setting\n",
    "Assume there are m labels in total and each data point has no more than k labels.\n",
    "1. we can map each label into a binary representation and concat them into a binary vector of leangth $k\\log m$. If some data point doesn't have enough labels, add a default number to maintain the length.\n",
    "2. Add **parity check**`    ` to the above vector using Error Correction Code\n",
    "2. Train binary classifier on each digit.\n"
   ]
  },
  {
   "cell_type": "markdown",
   "metadata": {},
   "source": [
    "# Implement ECOC in Multi-label Classification\n",
    "## Set up\n",
    "we are given a set of labeled trianing data $\\{(x_i,y_i)\\}_{i=1}^{n}$, where $x_i \\in \\mathbb{R}^p$ are the input features and $y_i \\in \\{0,1\\}^d$ are vectors indicating the labels of each data point.\n",
    "\n",
    "In practice, the label vector $y_i$ are sparse. We assume that the labels are at most k-sparse. And want to compress the label vectors into $k \\cdot \\log m$ length by concating the binary representation of each label index into a binary vector."
   ]
  },
  {
   "cell_type": "code",
   "execution_count": 1,
   "metadata": {},
   "outputs": [
    {
     "name": "stdout",
     "output_type": "stream",
     "text": [
      "data_clean.py  data_util.py   ECOC_Multi-label.ipynb  LDPC.ipynb\r\n",
      "data_clean.sh  data_util.pyc  LDPC\r\n"
     ]
    }
   ],
   "source": [
    "!ls"
   ]
  },
  {
   "cell_type": "code",
   "execution_count": 2,
   "metadata": {
    "collapsed": true
   },
   "outputs": [],
   "source": [
    "%matplotlib inline\n",
    "import data_util\n",
    "import matplotlib.pyplot as plt\n",
    "import numpy as np\n",
    "from data_util import DataPoint\n",
    "import math\n",
    "from LDPC.LDPCGenerator import LDPCCoder"
   ]
  },
  {
   "cell_type": "code",
   "execution_count": 3,
   "metadata": {},
   "outputs": [
    {
     "name": "stdout",
     "output_type": "stream",
     "text": [
      "../data:\r\n",
      "AmazonCat  Bibtex  Delicious  Eurlex  Mediamill  RCV1-x  Wiki10\r\n",
      "\r\n",
      "../data/AmazonCat:\r\n",
      "amazonCat_test.txt  amazonCat_train.txt\r\n",
      "\r\n",
      "../data/Bibtex:\r\n",
      "Bibtex_data.txt  bibtex_trSplit.txt  bibtex_tstSplit.txt\r\n",
      "\r\n",
      "../data/Delicious:\r\n",
      "Delicious_data.txt  delicious_trSplit.txt  delicious_tstSplit.txt\r\n",
      "\r\n",
      "../data/Eurlex:\r\n",
      "eurlex_test.txt  eurlex_train.txt\r\n",
      "\r\n",
      "../data/Mediamill:\r\n",
      "Mediamill_data.txt  mediamill_trSplit.txt  mediamill_tstSplit.txt\r\n",
      "\r\n",
      "../data/RCV1-x:\r\n",
      "rcv1x_test.txt\trcv1x_train.txt\r\n",
      "\r\n",
      "../data/Wiki10:\r\n",
      "wiki10_test.txt  wiki10_train.txt\r\n"
     ]
    }
   ],
   "source": [
    "!ls -R ../data"
   ]
  },
  {
   "cell_type": "code",
   "execution_count": 4,
   "metadata": {
    "collapsed": true
   },
   "outputs": [],
   "source": [
    "data_path = \"../data\"\n",
    "filename = data_path + \"/Eurlex/eurlex_train.txt\"\n",
    "data, num_point, num_feature, num_label = data_util.read_file(filename)"
   ]
  },
  {
   "cell_type": "code",
   "execution_count": 5,
   "metadata": {},
   "outputs": [
    {
     "name": "stdout",
     "output_type": "stream",
     "text": [
      "num_point=15539, num_label=3993, num_feature=5000\n"
     ]
    }
   ],
   "source": [
    "print(\"num_point={}, num_label={}, num_feature={}\".format(num_point, num_label, num_feature))"
   ]
  },
  {
   "cell_type": "markdown",
   "metadata": {},
   "source": [
    "## Step 1: Calculate the distribution of number of labels in each data point\n",
    "if the maximum number k is relatively small, set the length of our label vector into $k\\cdot \\left \\lceil {\\log m} \\right \\rceil$"
   ]
  },
  {
   "cell_type": "code",
   "execution_count": 6,
   "metadata": {},
   "outputs": [
    {
     "data": {
      "text/plain": [
       "<matplotlib.text.Text at 0x7f8dfafbfe90>"
      ]
     },
     "execution_count": 6,
     "metadata": {},
     "output_type": "execute_result"
    },
    {
     "data": {
      "image/png": "[encoded data removed]",
      "text/plain": [
       "<matplotlib.figure.Figure at 0x7f8dfc89e5d0>"
      ]
     },
     "metadata": {},
     "output_type": "display_data"
    }
   ],
   "source": [
    "# find the distribution of num of labels in each data point\n",
    "label_lengths = [0 for _ in range(num_label + 1)]\n",
    "for data_point in data:\n",
    "    label_lengths[len(data_point.labels)] += 1\n",
    "plt.plot(label_lengths[:100])\n",
    "plt.title(\"the distribution of labels numbers\")"
   ]
  },
  {
   "cell_type": "code",
   "execution_count": 7,
   "metadata": {},
   "outputs": [
    {
     "name": "stdout",
     "output_type": "stream",
     "text": [
      "(15539, 15539)\n"
     ]
    },
    {
     "data": {
      "image/png": "[encoded data removed]",
      "text/plain": [
       "<matplotlib.figure.Figure at 0x7f8e2af09950>"
      ]
     },
     "metadata": {},
     "output_type": "display_data"
    }
   ],
   "source": [
    "# find the distribution of num of features in each data point\n",
    "feature_lengths = [0 for _ in range(num_feature + 1)]\n",
    "for data_point in data:\n",
    "    feature_lengths[len(data_point.features)] += 1\n",
    "plt.plot(feature_lengths[:5000])\n",
    "plt.title(\"the distribution of feature numbers\")\n",
    "print(sum(label_lengths), sum(feature_lengths))"
   ]
  },
  {
   "cell_type": "code",
   "execution_count": 8,
   "metadata": {},
   "outputs": [
    {
     "name": "stdout",
     "output_type": "stream",
     "text": [
      "99% of data points has less than 9 labels and less than 1205 features\n"
     ]
    }
   ],
   "source": [
    "# find the 99% value over a population\n",
    "def find_percent(data, population, percent=0.99):\n",
    "    target = population*(1-percent)\n",
    "    for i in range(len(data)):\n",
    "        population -= data[i]\n",
    "        if population <= target:\n",
    "            return i\n",
    "\n",
    "label_k = find_percent(label_lengths, num_point)\n",
    "print(\"99% of data points has less than {} labels and less than {} features\"\\\n",
    "      .format(label_k, find_percent(feature_lengths, num_point)))"
   ]
  },
  {
   "cell_type": "code",
   "execution_count": 9,
   "metadata": {},
   "outputs": [
    {
     "name": "stdout",
     "output_type": "stream",
     "text": [
      "length = 5001\n"
     ]
    },
    {
     "data": {
      "text/plain": [
       "<matplotlib.text.Text at 0x7f8df8dcc650>"
      ]
     },
     "execution_count": 9,
     "metadata": {},
     "output_type": "execute_result"
    },
    {
     "data": {
      "image/png": "[encoded data removed]",
      "text/plain": [
       "<matplotlib.figure.Figure at 0x7f8df8df0050>"
      ]
     },
     "metadata": {},
     "output_type": "display_data"
    }
   ],
   "source": [
    "# find the distribution of usage of each feature\n",
    "feature_nums = [0 for _ in range(num_feature + 1)]\n",
    "print (\"length = {}\".format(len(feature_nums)))\n",
    "for data_point in data:\n",
    "    for feature in data_point.features:\n",
    "        try:\n",
    "            feature_nums[feature] += 1\n",
    "        except IndexError:\n",
    "            print feature\n",
    "plt.plot(sorted(feature_nums))\n",
    "plt.title(\"the distribution of feature's usage\")"
   ]
  },
  {
   "cell_type": "code",
   "execution_count": 10,
   "metadata": {},
   "outputs": [
    {
     "name": "stdout",
     "output_type": "stream",
     "text": [
      "the range of lables are (0, 3992)\n",
      "the range of features are (0, 4999)\n"
     ]
    }
   ],
   "source": [
    "labels_set, features_set = set(), set()\n",
    "for data_point in data:\n",
    "    for label in data_point.labels:\n",
    "        labels_set.add(label)\n",
    "    for feature in data_point.features:\n",
    "        features_set.add(feature)\n",
    "print(\"the range of lables are ({}, {})\\nthe range of features are ({}, {})\"\\\n",
    "     .format(min(labels_set), max(labels_set), min(features_set), max(features_set)))"
   ]
  },
  {
   "cell_type": "markdown",
   "metadata": {},
   "source": [
    "The above information might be useful for furthur optimize the parameters.\n",
    "\n",
    "## Step 2: Generator Label vectors\n",
    "The training and predicting process can be viewed as a channel transmition during a binary symetric channel. We first do source encoding to compress the labels information and then do channel encoding to ad the parity check to resist the channel error.\n",
    "### 2.1 Source Encoding: create the compressed lable vec\n",
    "For each data point's label, we first translate its labels into binary form and then concat them one by one in ascent order. the default value for the label vector would be \"111..1\".\n"
   ]
  },
  {
   "cell_type": "code",
   "execution_count": 11,
   "metadata": {},
   "outputs": [
    {
     "data": {
      "text/plain": [
       "array([1, 0, 0, 1, 1, 1, 1, 1])"
      ]
     },
     "execution_count": 11,
     "metadata": {},
     "output_type": "execute_result"
    }
   ],
   "source": [
    "def num_to_bin(x, length=None):\n",
    "    '''\n",
    "    convert a single lable to corresponding binary vector\n",
    "    '''\n",
    "    if length == None:\n",
    "        length=int(math.log(x)/math.log(2)) + 1\n",
    "    bits = [0]*length\n",
    "    i = 0\n",
    "    while x:\n",
    "        bits[i] = x%2\n",
    "        x >>= 1\n",
    "        i+=1\n",
    "    return bits\n",
    "\n",
    "def l_to_vec(labels, k, length):\n",
    "    '''\n",
    "    compress the lable vector.\n",
    "    input:\n",
    "        k: maximum non-zero entries of lable in a data point\n",
    "        length: length of each binary bevtor for a label\n",
    "    '''\n",
    "\n",
    "    labels.sort() #ascending order\n",
    "    default_place = [1]*length\n",
    "    vec = []\n",
    "    for i in range(k):\n",
    "        if i < len(labels):\n",
    "            vec.extend(num_to_bin(labels[i], length))\n",
    "        else:\n",
    "            vec.extend(default_place)\n",
    "    return (np.array(vec))\n",
    "    \n",
    "l_to_vec([1,2,3], 4, 2)\n"
   ]
  },
  {
   "cell_type": "code",
   "execution_count": 12,
   "metadata": {
    "collapsed": true
   },
   "outputs": [],
   "source": [
    "ms_length = int(math.log(max(labels_set))/math.log(2)) + 1\n",
    "Y_tr = [l_to_vec(data_point.labels, label_k, ms_length) for data_point in data]"
   ]
  },
  {
   "cell_type": "code",
   "execution_count": 13,
   "metadata": {},
   "outputs": [
    {
     "data": {
      "text/plain": [
       "108"
      ]
     },
     "execution_count": 13,
     "metadata": {},
     "output_type": "execute_result"
    }
   ],
   "source": [
    "len(Y_tr[0])"
   ]
  },
  {
   "cell_type": "markdown",
   "metadata": {},
   "source": [
    "### 2.2 Channel Encoding: Add parity check to label vector\n",
    "we apply the traditional error correcting codes to the label vector to get a fixed length new output vector.\n",
    "\n",
    "Here, we use the LDPC(Low-density parity-check code) to encode the  compessed label vectors.\n",
    "\n",
    "The details of LDPC can be seen [here](https://en.wikipedia.org/wiki/Low-density_parity-check_code)\n",
    "\n",
    "the LDPCCoder class is like this:\n",
    "```Python\n",
    "    >> ldpc = LDPCCoder(10)\n",
    "    >> received_codeword = ldpc.encode([0,0,0,1,0,1,1,1,1,1])\n",
    "    >> for i in xrange(len(received_codeword)):\n",
    "    ....   if np.random.rand() > 0.95:\n",
    "    ....   received_codeword[i] = 1 - received_codeword[i]\n",
    "    >> ldpc.decode(received_codeword)\n",
    "    array([0, 0, 0, 1, 0, 1, 1, 1, 1, 1])\n",
    "```"
   ]
  },
  {
   "cell_type": "code",
   "execution_count": 14,
   "metadata": {},
   "outputs": [
    {
     "name": "stdout",
     "output_type": "stream",
     "text": [
      "message length = 10, code_word length =24\n"
     ]
    }
   ],
   "source": [
    "n = 10 # we can translate 10 bits.\n",
    "ldpc = LDPCCoder(n, flip_p=0.05)\n",
    "print(\"message length = {}, code_word length ={}\".format(ldpc.bits, ldpc.code_length))"
   ]
  },
  {
   "cell_type": "code",
   "execution_count": 15,
   "metadata": {
    "collapsed": true
   },
   "outputs": [],
   "source": [
    "Y_tr = [ldpc.encode(label_vec) for label_vec in Y_tr]"
   ]
  },
  {
   "cell_type": "code",
   "execution_count": 16,
   "metadata": {},
   "outputs": [
    {
     "data": {
      "text/plain": [
       "264"
      ]
     },
     "execution_count": 16,
     "metadata": {},
     "output_type": "execute_result"
    }
   ],
   "source": [
    "len(Y_tr[0]) "
   ]
  },
  {
   "cell_type": "markdown",
   "metadata": {},
   "source": [
    "## Step3: train the classifiers\n",
    "train binary classifers for each of the input (X_tr,Y_tr) data"
   ]
  },
  {
   "cell_type": "code",
   "execution_count": 17,
   "metadata": {
    "collapsed": true
   },
   "outputs": [],
   "source": [
    "from sklearn import svm"
   ]
  }
 ],
 "metadata": {
  "kernelspec": {
   "display_name": "Python 2",
   "language": "python",
   "name": "python2"
  },
  "language_info": {
   "codemirror_mode": {
    "name": "ipython",
    "version": 2
   },
   "file_extension": ".py",
   "mimetype": "text/x-python",
   "name": "python",
   "nbconvert_exporter": "python",
   "pygments_lexer": "ipython2",
   "version": "2.7.13"
  }
 },
 "nbformat": 4,
 "nbformat_minor": 2
}
