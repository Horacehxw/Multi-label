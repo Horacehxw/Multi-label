{
 "cells": [
  {
   "cell_type": "markdown",
   "metadata": {},
   "source": [
    "# Multi-lable classificatin\n"
   ]
  },
  {
   "cell_type": "code",
   "execution_count": 68,
   "metadata": {
    "collapsed": true
   },
   "outputs": [],
   "source": [
    "%matplotlib inline\n",
    "import math\n",
    "import os\n",
    "import data_util\n",
    "#from data_util import DataPoint\n",
    "import matplotlib.pyplot as plt\n",
    "import numpy as np\n",
    "import pandas as pd\n",
    "import seaborn as sns\n",
    "\n",
    "from sklearn.preprocessing import MultiLabelBinarizer # convert y to {0,1}^L\n",
    "from sklearn.preprocessing import StandardScaler # normalize features \n",
    "from sklearn.feature_extraction import DictVectorizer # extract feature vector to x\n",
    "from numpy.random import normal # generate transforming matrix\n",
    "from sklearn.neighbors import KDTree #KDTree for fast kNN search\n",
    "from sklearn.externals import joblib # store classifiers\n",
    "from sklearn.linear_model import LogisticRegression\n",
    "from sklearn.svm import LinearSVC\n",
    "from sklearn.feature_selection import SelectPercentile\n",
    "from sklearn.feature_selection import VarianceThreshold\n",
    "from sklearn.metrics import average_precision_score\n",
    "from joblib import Parallel, delayed # Multitread"
   ]
  },
  {
   "cell_type": "code",
   "execution_count": 69,
   "metadata": {
    "scrolled": true
   },
   "outputs": [
    {
     "name": "stdout",
     "output_type": "stream",
     "text": [
      "../data:\r\n",
      "AmazonCat  Bibtex  Delicious  Eurlex  Mediamill  RCV1-x  Wiki10\r\n",
      "\r\n",
      "../data/AmazonCat:\r\n",
      "amazonCat_test.txt  amazonCat_train.txt\r\n",
      "\r\n",
      "../data/Bibtex:\r\n",
      "Bibtex_data.txt  bibtex_trSplit.txt  bibtex_tstSplit.txt\r\n",
      "\r\n",
      "../data/Delicious:\r\n",
      "Delicious_data.txt  delicious_trSplit.txt  delicious_tstSplit.txt\r\n",
      "\r\n",
      "../data/Eurlex:\r\n",
      "eurlex_test.txt  eurlex_train.txt\r\n",
      "\r\n",
      "../data/Mediamill:\r\n",
      "Mediamill_data.txt  mediamill_trSplit.txt  mediamill_tstSplit.txt\r\n",
      "\r\n",
      "../data/RCV1-x:\r\n",
      "rcv1x_test.txt\trcv1x_train.txt\r\n",
      "\r\n",
      "../data/Wiki10:\r\n",
      "wiki10_test.txt  wiki10_train.txt\r\n"
     ]
    }
   ],
   "source": [
    "!ls -R ../data"
   ]
  },
  {
   "cell_type": "code",
   "execution_count": 70,
   "metadata": {},
   "outputs": [
    {
     "name": "stdout",
     "output_type": "stream",
     "text": [
      "  3185  31850 169152 ../data/Delicious/delicious_tstSplit.txt\r\n"
     ]
    }
   ],
   "source": [
    "!wc ../data/Delicious/delicious_tstSplit.txt"
   ]
  },
  {
   "cell_type": "code",
   "execution_count": 71,
   "metadata": {
    "collapsed": true
   },
   "outputs": [],
   "source": [
    "data_dir = \"../data\"\n",
    "model_dir = \"../.model2\"\n",
    "train_filename = \"/Delicious/Delicious_data.txt\"\n",
    "#test_filename = \"/Wiki10/wiki10_test.txt\"\n",
    "tr_split_file = \"/Delicious/delicious_trSplit.txt\"\n",
    "te_split_file = \"/Delicious/delicious_tstSplit.txt\"\n",
    "\n",
    "path = os.path.dirname(train_filename)\n",
    "model_path = model_dir + path\n",
    "num_core = 8\n",
    "L_hat_ratio = 0.15"
   ]
  },
  {
   "cell_type": "code",
   "execution_count": 72,
   "metadata": {
    "scrolled": true
   },
   "outputs": [
    {
     "name": "stdout",
     "output_type": "stream",
     "text": [
      "num_point=16105, num_label=983, num_feature=500\n"
     ]
    }
   ],
   "source": [
    "tr_data, num_point, num_feature, num_label = data_util.read_file(data_dir+train_filename)\n",
    "print(\"num_point={}, num_label={}, num_feature={}\".format(num_point, num_label, num_feature))"
   ]
  },
  {
   "cell_type": "code",
   "execution_count": 73,
   "metadata": {
    "collapsed": true
   },
   "outputs": [],
   "source": [
    "#te_data, _, _, _ = data_util.read_file(data_dir+test_filename)"
   ]
  },
  {
   "cell_type": "code",
   "execution_count": 74,
   "metadata": {
    "collapsed": true
   },
   "outputs": [],
   "source": [
    "tr_split = data_util.split_data(data=tr_data, split_file=data_dir+tr_split_file)\n",
    "te_split = data_util.split_data(data=tr_data, split_file=data_dir+te_split_file)"
   ]
  },
  {
   "cell_type": "code",
   "execution_count": 75,
   "metadata": {},
   "outputs": [],
   "source": [
    "X_tr, Y_tr, X_te, Y_te = data_util.data_transform(tr_split, te_split, num_label)"
   ]
  },
  {
   "cell_type": "markdown",
   "metadata": {},
   "source": [
    "## Explore Data Analysis"
   ]
  },
  {
   "cell_type": "code",
   "execution_count": 76,
   "metadata": {},
   "outputs": [
    {
     "data": {
      "text/plain": [
       "<matplotlib.text.Text at 0x7f37d79d8bd0>"
      ]
     },
     "execution_count": 76,
     "metadata": {},
     "output_type": "execute_result"
    },
    {
     "data": {
      "image/png": "[encoded data removed]",
      "text/plain": [
       "<matplotlib.figure.Figure at 0x7f37e2b63490>"
      ]
     },
     "metadata": {},
     "output_type": "display_data"
    }
   ],
   "source": [
    "# number of labels for each data point\n",
    "plt.plot(sorted([Y.sum() for Y in Y_tr], reverse=True))\n",
    "plt.ylabel('number of labels')\n",
    "plt.xlabel('data points')\n",
    "plt.title('distribution of label numbers')"
   ]
  },
  {
   "cell_type": "code",
   "execution_count": 77,
   "metadata": {},
   "outputs": [
    {
     "data": {
      "text/plain": [
       "<matplotlib.text.Text at 0x7f37d79ba910>"
      ]
     },
     "execution_count": 77,
     "metadata": {},
     "output_type": "execute_result"
    },
    {
     "data": {
      "image/png": "[encoded data removed]",
      "text/plain": [
       "<matplotlib.figure.Figure at 0x7f37d79edcd0>"
      ]
     },
     "metadata": {},
     "output_type": "display_data"
    }
   ],
   "source": [
    "# usage of tail feature\n",
    "plt.plot(sorted([np.count_nonzero(X_tr[:,i]) for i in range(X_tr.shape[1])], reverse=True))\n",
    "plt.title('occurrence of tail features')"
   ]
  },
  {
   "cell_type": "markdown",
   "metadata": {},
   "source": [
    "## Binary mapping + kNN\n",
    "data set $(x,y)^d$, where $y_i=\\{1, 0\\}^L$\n",
    "\n",
    "we want to map y into lower space by $$z = [M\\cdot y]$$ where M is a multivariant i,i,d Gaussian matrix, and $[]$ is tkaing the sign.\n",
    "\n",
    "Then we train binary classifiers on each bit of $z \\in \\{0, 1\\}^{\\hat L}$\n",
    "\n",
    "For each test point, we predict its $\\hat z$ and then use kNN to find the nearest k neighbors from $z=[My]$ which is all our lower degree space's mapping.\n",
    "\n",
    "### Step 0: data preposseing\n",
    "normalize features and select prominent features"
   ]
  },
  {
   "cell_type": "code",
   "execution_count": 78,
   "metadata": {},
   "outputs": [
    {
     "data": {
      "text/plain": [
       "(12920, 500)"
      ]
     },
     "execution_count": 78,
     "metadata": {},
     "output_type": "execute_result"
    }
   ],
   "source": [
    "# normalize features\n",
    "scaler = StandardScaler().fit(X_tr)\n",
    "X_tr = scaler.transform(X_tr)\n",
    "X_te = scaler.transform(X_te)\n",
    "X_tr.shape"
   ]
  },
  {
   "cell_type": "markdown",
   "metadata": {},
   "source": [
    "### Step 1: map to $\\hat L$ space and construct KD-tree\n",
    "\n",
    "The apply $$\\hat L = k \\log L$$ where $k$ indicates the sparsity of each label vector $y_i = \\{0,1\\}^L$. By default we choose k to be the 99.9% maximum sparsity to avoid extreme cases.\n",
    "\n",
    "The data in \"Eurlex\" contains $L = 5000$ labels, we are trying to map it into $\\hat L = 200$ space."
   ]
  },
  {
   "cell_type": "code",
   "execution_count": 79,
   "metadata": {},
   "outputs": [
    {
     "data": {
      "text/plain": [
       "25"
      ]
     },
     "execution_count": 79,
     "metadata": {},
     "output_type": "execute_result"
    }
   ],
   "source": [
    "k = sorted([Y.sum() for Y in Y_tr], reverse=True)[int(num_point*0.001)]\n",
    "k"
   ]
  },
  {
   "cell_type": "code",
   "execution_count": 80,
   "metadata": {
    "collapsed": true
   },
   "outputs": [],
   "source": [
    "np.random.seed(0)\n",
    "L_hat = k * math.log(Y_tr.shape[1], 2) * L_hat_ratio\n",
    "M = normal(size=(int(math.ceil(L_hat)), Y_tr.shape[1]))"
   ]
  },
  {
   "cell_type": "code",
   "execution_count": 81,
   "metadata": {
    "collapsed": true
   },
   "outputs": [],
   "source": [
    "Z_tr = M.dot(Y_tr.T).T # z = n*\\hat L\n",
    "Z_tr = np.apply_along_axis(lambda x: [0 if elem < 0 else 1 for elem in x], 0, Z_tr) #sign"
   ]
  },
  {
   "cell_type": "code",
   "execution_count": 82,
   "metadata": {
    "scrolled": true
   },
   "outputs": [
    {
     "data": {
      "text/plain": [
       "(12920, 38)"
      ]
     },
     "execution_count": 82,
     "metadata": {},
     "output_type": "execute_result"
    }
   ],
   "source": [
    "Z_tr.shape"
   ]
  },
  {
   "cell_type": "code",
   "execution_count": 83,
   "metadata": {},
   "outputs": [
    {
     "data": {
      "text/plain": [
       "(12920, 983)"
      ]
     },
     "execution_count": 83,
     "metadata": {},
     "output_type": "execute_result"
    }
   ],
   "source": [
    "Y_tr.shape"
   ]
  },
  {
   "cell_type": "markdown",
   "metadata": {},
   "source": [
    "### Step 2: Train Model\n",
    "\n",
    "#### 2.1 train binary classifiers on each bit"
   ]
  },
  {
   "cell_type": "code",
   "execution_count": 84,
   "metadata": {
    "collapsed": true
   },
   "outputs": [],
   "source": [
    "def train_bit(bit):\n",
    "    print \"Trianning model for the {}th bit\\n... ... ... \\n\".format(bit)\n",
    "    #clf = LogisticRegression(solver='sag')\n",
    "    clf = LinearSVC(dual=False)\n",
    "    clf.fit(y=Z_tr[:, bit], X=X_tr)\n",
    "    joblib.dump(clf, os.path.join(model_path , 'label{}.pkl'.format(bit)))\n",
    "    print \"{}th bit's model successfully stored in {}/label{}.pkl\\n\".format(bit, model_path, bit)"
   ]
  },
  {
   "cell_type": "markdown",
   "metadata": {},
   "source": [
    "```Python\n",
    "for bit in range(Z_tr.shape[1]):\n",
    "    print \"Trianning model for the {}th bit\\n... ... ... \\n\".format(bit)\n",
    "    #clf = LogisticRegression(solver='sag')\n",
    "    clf = LinearSVC(dual=False)\n",
    "    clf.fit(y=Z_tr[:, bit], X=X_tr)\n",
    "    joblib.dump(clf, os.path.join(model_path , 'label{}.pkl'.format(bit)))\n",
    "    print \"{}th bit's model successfully stored in {}/label{}.pkl\\n\".format(bit, model_path, bit)\n",
    "```"
   ]
  },
  {
   "cell_type": "code",
   "execution_count": 85,
   "metadata": {
    "scrolled": true
   },
   "outputs": [
    {
     "name": "stdout",
     "output_type": "stream",
     "text": [
      "Trianning model for the 2th bit\n",
      "... ... ... \n",
      "Trianning model for the 5th bit\n",
      "... ... ... \n",
      "Trianning model for the 1th bit\n",
      "... ... ... \n",
      "Trianning model for the 0th bit\n",
      "... ... ... \n",
      "Trianning model for the 3th bit\n",
      "... ... ... \n",
      "Trianning model for the 4th bit\n",
      "... ... ... \n",
      "\n",
      "\n",
      "\n",
      "\n",
      "Trianning model for the 6th bit\n",
      "... ... ... \n",
      "Trianning model for the 7th bit\n",
      "... ... ... \n",
      "\n",
      "\n",
      "\n",
      "\n",
      "0th bit's model successfully stored in ../.model2/Delicious/label0.pkl\n",
      "\n",
      "Trianning model for the 8th bit\n",
      "... ... ... \n",
      "\n",
      "4th bit's model successfully stored in ../.model2/Delicious/label4.pkl\n",
      "\n",
      "Trianning model for the 9th bit\n",
      "... ... ... \n",
      "\n",
      "1th bit's model successfully stored in ../.model2/Delicious/label1.pkl\n",
      "\n",
      "Trianning model for the 10th bit\n",
      "... ... ... \n",
      "\n",
      "2th bit's model successfully stored in ../.model2/Delicious/label2.pkl\n",
      "\n",
      "Trianning model for the 11th bit\n",
      "... ... ... \n",
      "\n",
      "3th bit's model successfully stored in ../.model2/Delicious/label3.pkl\n",
      "\n",
      "Trianning model for the 12th bit\n",
      "... ... ... \n",
      "\n",
      "6th bit's model successfully stored in ../.model2/Delicious/label6.pkl\n",
      "\n",
      "Trianning model for the 13th bit\n",
      "... ... ... \n",
      "\n",
      "5th bit's model successfully stored in ../.model2/Delicious/label5.pkl\n",
      "\n",
      "Trianning model for the 14th bit\n",
      "... ... ... \n",
      "\n",
      "7th bit's model successfully stored in ../.model2/Delicious/label7.pkl\n",
      "\n",
      "Trianning model for the 15th bit\n",
      "... ... ... \n",
      "\n",
      "8th bit's model successfully stored in ../.model2/Delicious/label8.pkl\n",
      "\n",
      "Trianning model for the 16th bit\n",
      "... ... ... \n",
      "\n",
      "13th bit's model successfully stored in ../.model2/Delicious/label13.pkl\n",
      "\n",
      "Trianning model for the 17th bit\n",
      "... ... ... \n",
      "\n",
      "14th bit's model successfully stored in ../.model2/Delicious/label14.pkl\n",
      "\n",
      "Trianning model for the 18th bit\n",
      "... ... ... \n",
      "\n",
      "9th bit's model successfully stored in ../.model2/Delicious/label9.pkl\n",
      "\n",
      "Trianning model for the 19th bit\n",
      "... ... ... \n",
      "\n",
      "12th bit's model successfully stored in ../.model2/Delicious/label12.pkl\n",
      "\n",
      "Trianning model for the 20th bit\n",
      "... ... ... \n",
      "\n",
      "11th bit's model successfully stored in ../.model2/Delicious/label11.pkl\n",
      "\n",
      "Trianning model for the 21th bit\n",
      "... ... ... \n",
      "\n",
      "10th bit's model successfully stored in ../.model2/Delicious/label10.pkl\n",
      "\n",
      "Trianning model for the 22th bit\n",
      "... ... ... \n",
      "\n",
      "16th bit's model successfully stored in ../.model2/Delicious/label16.pkl\n",
      "\n",
      "Trianning model for the 23th bit\n",
      "... ... ... \n",
      "\n",
      "15th bit's model successfully stored in ../.model2/Delicious/label15.pkl\n",
      "\n",
      "Trianning model for the 24th bit\n",
      "... ... ... \n",
      "\n",
      "22th bit's model successfully stored in ../.model2/Delicious/label22.pkl\n",
      "\n",
      "Trianning model for the 25th bit\n",
      "... ... ... \n",
      "\n",
      "17th bit's model successfully stored in ../.model2/Delicious/label17.pkl\n",
      "\n",
      "Trianning model for the 26th bit\n",
      "... ... ... \n",
      "\n",
      "23th bit's model successfully stored in ../.model2/Delicious/label23.pkl\n",
      "\n",
      "Trianning model for the 27th bit\n",
      "... ... ... \n",
      "\n",
      "24th bit's model successfully stored in ../.model2/Delicious/label24.pkl\n",
      "\n",
      "Trianning model for the 28th bit\n",
      "... ... ... \n",
      "\n",
      "18th bit's model successfully stored in ../.model2/Delicious/label18.pkl\n",
      "\n",
      "Trianning model for the 29th bit\n",
      "... ... ... \n",
      "\n",
      "20th bit's model successfully stored in ../.model2/Delicious/label20.pkl\n",
      "\n",
      "Trianning model for the 30th bit\n",
      "... ... ... \n",
      "\n",
      "19th bit's model successfully stored in ../.model2/Delicious/label19.pkl\n",
      "\n",
      "Trianning model for the 31th bit\n",
      "... ... ... \n",
      "\n",
      "21th bit's model successfully stored in ../.model2/Delicious/label21.pkl\n",
      "\n",
      "Trianning model for the 32th bit\n",
      "... ... ... \n",
      "\n",
      "26th bit's model successfully stored in ../.model2/Delicious/label26.pkl\n",
      "\n",
      "Trianning model for the 33th bit\n",
      "... ... ... \n",
      "\n",
      "25th bit's model successfully stored in ../.model2/Delicious/label25.pkl\n",
      "\n",
      "Trianning model for the 34th bit\n",
      "... ... ... \n",
      "\n",
      "28th bit's model successfully stored in ../.model2/Delicious/label28.pkl\n",
      "\n",
      "Trianning model for the 35th bit\n",
      "... ... ... \n",
      "\n",
      "32th bit's model successfully stored in ../.model2/Delicious/label32.pkl\n",
      "\n",
      "Trianning model for the 36th bit\n",
      "... ... ... \n",
      "\n",
      "27th bit's model successfully stored in ../.model2/Delicious/label27.pkl\n",
      "\n",
      "Trianning model for the 37th bit\n",
      "... ... ... \n",
      "\n",
      "29th bit's model successfully stored in ../.model2/Delicious/label29.pkl\n",
      "\n",
      "31th bit's model successfully stored in ../.model2/Delicious/label31.pkl\n",
      "\n",
      "30th bit's model successfully stored in ../.model2/Delicious/label30.pkl\n",
      "\n",
      "34th bit's model successfully stored in ../.model2/Delicious/label34.pkl\n",
      "\n",
      "36th bit's model successfully stored in ../.model2/Delicious/label36.pkl\n",
      "\n",
      "35th bit's model successfully stored in ../.model2/Delicious/label35.pkl\n",
      "\n",
      "33th bit's model successfully stored in ../.model2/Delicious/label33.pkl\n",
      "\n",
      "37th bit's model successfully stored in ../.model2/Delicious/label37.pkl\n",
      "\n"
     ]
    },
    {
     "data": {
      "text/plain": [
       "[None,\n",
       " None,\n",
       " None,\n",
       " None,\n",
       " None,\n",
       " None,\n",
       " None,\n",
       " None,\n",
       " None,\n",
       " None,\n",
       " None,\n",
       " None,\n",
       " None,\n",
       " None,\n",
       " None,\n",
       " None,\n",
       " None,\n",
       " None,\n",
       " None,\n",
       " None,\n",
       " None,\n",
       " None,\n",
       " None,\n",
       " None,\n",
       " None,\n",
       " None,\n",
       " None,\n",
       " None,\n",
       " None,\n",
       " None,\n",
       " None,\n",
       " None,\n",
       " None,\n",
       " None,\n",
       " None,\n",
       " None,\n",
       " None,\n",
       " None]"
      ]
     },
     "execution_count": 85,
     "metadata": {},
     "output_type": "execute_result"
    }
   ],
   "source": [
    "from joblib import Parallel, delayed # Multitread\n",
    "Parallel(n_jobs=num_core)(delayed(train_bit)(i) for i in range(Z_tr.shape[1]))"
   ]
  },
  {
   "cell_type": "code",
   "execution_count": 86,
   "metadata": {},
   "outputs": [
    {
     "data": {
      "text/plain": [
       "38"
      ]
     },
     "execution_count": 86,
     "metadata": {},
     "output_type": "execute_result"
    }
   ],
   "source": [
    "# load the classifiers\n",
    "clfs = []\n",
    "for bit in range(Z_tr.shape[1]):\n",
    "    clfs.append(joblib.load(os.path.join(model_path , 'label{}.pkl'.format(bit))))\n",
    "len(clfs)"
   ]
  },
  {
   "cell_type": "markdown",
   "metadata": {
    "collapsed": true
   },
   "source": [
    "#### 2.2 Store the lower degree space info for kNN\n",
    "\n",
    "We use opensource faiss library from FAIR to speedup the ANN(Approximate Nearest Neighbor) search"
   ]
  },
  {
   "cell_type": "code",
   "execution_count": 87,
   "metadata": {
    "collapsed": true
   },
   "outputs": [],
   "source": [
    "# can't install faiss, use kd_tree\n",
    "kd_tree = KDTree(Z_tr) #kNN search\n",
    "#dist, ind = kd_tree.query(Z_tr[0].reshape(1,-1), k=3) #usage"
   ]
  },
  {
   "cell_type": "code",
   "execution_count": 88,
   "metadata": {
    "collapsed": true
   },
   "outputs": [],
   "source": [
    "z_bits = []\n",
    "for clf in clfs:\n",
    "    z_bit = clf.predict(X_te)\n",
    "    z_bits.append(z_bit)\n",
    "Z_pred = np.column_stack(z_bits)"
   ]
  },
  {
   "cell_type": "markdown",
   "metadata": {},
   "source": [
    "### Step 3 Prediction and Validation"
   ]
  },
  {
   "cell_type": "code",
   "execution_count": 89,
   "metadata": {
    "collapsed": true
   },
   "outputs": [],
   "source": [
    "# k=1 without voting\n",
    "dist, ind = kd_tree.query(Z_pred, k=1) # can set k > 1 and vote\n",
    "Y_pred = np.array([Y_tr[index[0]] for index in ind])"
   ]
  },
  {
   "cell_type": "code",
   "execution_count": 90,
   "metadata": {},
   "outputs": [
    {
     "data": {
      "text/plain": [
       "0.24758251907878956"
      ]
     },
     "execution_count": 90,
     "metadata": {},
     "output_type": "execute_result"
    }
   ],
   "source": [
    "average_precision_score(y_true=Y_te, y_score=Y_pred, average='weighted')"
   ]
  },
  {
   "cell_type": "code",
   "execution_count": 91,
   "metadata": {
    "collapsed": true
   },
   "outputs": [],
   "source": [
    "# k=5 with unweighted vote\n",
    "dist, ind = kd_tree.query(Z_pred, k=20)\n"
   ]
  },
  {
   "cell_type": "code",
   "execution_count": 92,
   "metadata": {
    "collapsed": true
   },
   "outputs": [],
   "source": [
    "Y_pred = np.array([np.sum([Y_tr[index[i]] for i in range(len(index))], axis=0) for index in ind])"
   ]
  },
  {
   "cell_type": "code",
   "execution_count": 93,
   "metadata": {
    "scrolled": true
   },
   "outputs": [
    {
     "data": {
      "text/plain": [
       "array([[0, 0, 1, ..., 0, 3, 0],\n",
       "       [0, 0, 0, ..., 0, 0, 0],\n",
       "       [0, 0, 0, ..., 0, 0, 0],\n",
       "       ..., \n",
       "       [1, 0, 1, ..., 0, 0, 0],\n",
       "       [0, 0, 0, ..., 0, 0, 0],\n",
       "       [0, 0, 0, ..., 0, 0, 0]])"
      ]
     },
     "execution_count": 93,
     "metadata": {},
     "output_type": "execute_result"
    }
   ],
   "source": [
    "Y_pred"
   ]
  },
  {
   "cell_type": "code",
   "execution_count": 94,
   "metadata": {},
   "outputs": [
    {
     "data": {
      "text/plain": [
       "(3185, 983)"
      ]
     },
     "execution_count": 94,
     "metadata": {},
     "output_type": "execute_result"
    }
   ],
   "source": [
    "Y_te.shape"
   ]
  },
  {
   "cell_type": "code",
   "execution_count": 95,
   "metadata": {
    "collapsed": true
   },
   "outputs": [],
   "source": [
    "success = 0\n",
    "for i in range(len(Y_pred)):\n",
    "    index = np.argmax(Y_pred[i])\n",
    "    if (Y_te[i, index] == 1):\n",
    "        success += 1\n",
    "preat1 = success / float(len(Y_pred))"
   ]
  },
  {
   "cell_type": "code",
   "execution_count": 96,
   "metadata": {},
   "outputs": [
    {
     "data": {
      "text/plain": [
       "0.5419152276295134"
      ]
     },
     "execution_count": 96,
     "metadata": {},
     "output_type": "execute_result"
    }
   ],
   "source": [
    "preat1"
   ]
  },
  {
   "cell_type": "code",
   "execution_count": null,
   "metadata": {
    "collapsed": true
   },
   "outputs": [],
   "source": []
  }
 ],
 "metadata": {
  "kernelspec": {
   "display_name": "Python 2",
   "language": "python",
   "name": "python2"
  },
  "language_info": {
   "codemirror_mode": {
    "name": "ipython",
    "version": 2
   },
   "file_extension": ".py",
   "mimetype": "text/x-python",
   "name": "python",
   "nbconvert_exporter": "python",
   "pygments_lexer": "ipython2",
   "version": "2.7.13"
  }
 },
 "nbformat": 4,
 "nbformat_minor": 2
}
