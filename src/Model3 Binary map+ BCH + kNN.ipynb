{
 "cells": [
  {
   "cell_type": "markdown",
   "metadata": {},
   "source": [
    "# Multi-lable classificatin\n"
   ]
  },
  {
   "cell_type": "code",
   "execution_count": 11,
   "metadata": {
    "collapsed": true
   },
   "outputs": [],
   "source": [
    "%matplotlib inline\n",
    "import math\n",
    "import os\n",
    "import data_util\n",
    "import BMapModel\n",
    "#from data_util import DataPoint\n",
    "import matplotlib.pyplot as plt\n",
    "import numpy as np\n",
    "import pandas as pd\n",
    "import seaborn as sns\n",
    "import faiss\n",
    "# import joblib # version incompatibel with sklearn's joblib and can't load the previous model\n",
    "\n",
    "\n",
    "from sklearn.externals import joblib # store classifiers\n",
    "from sklearn.preprocessing import MultiLabelBinarizer # convert y to {0,1}^L\n",
    "from sklearn.preprocessing import StandardScaler # normalize features \n",
    "from sklearn.feature_extraction import DictVectorizer # extract feature vector to x\n",
    "from numpy.random import normal # generate transforming matrix\n",
    "from sklearn.neighbors import KDTree #KDTree for fast kNN search\n",
    "from sklearn.linear_model import LogisticRegression\n",
    "from sklearn.svm import LinearSVC\n",
    "from sklearn.feature_selection import SelectPercentile\n",
    "from sklearn.feature_selection import VarianceThreshold\n",
    "from sklearn.metrics import average_precision_score\n",
    "from joblib import Parallel, delayed # Multitread\n",
    "from pytictoc import TicToc"
   ]
  },
  {
   "cell_type": "code",
   "execution_count": 12,
   "metadata": {
    "scrolled": true
   },
   "outputs": [
    {
     "name": "stdout",
     "output_type": "stream",
     "text": [
      "../data:\r\n",
      "AmazonCat  Delicious  Mediamill  README_Datasets  XMLDatasetRead\r\n",
      "Bibtex\t   Eurlex     RCV1-x\t Wiki10\r\n",
      "\r\n",
      "../data/AmazonCat:\r\n",
      "amazonCat_test.txt  amazonCat_train.txt\r\n",
      "\r\n",
      "../data/Bibtex:\r\n",
      "Bibtex_data.txt  bibtex_trSplit.txt  bibtex_tstSplit.txt\r\n",
      "\r\n",
      "../data/Delicious:\r\n",
      "Delicious_data.txt  delicious_trSplit.txt  delicious_tstSplit.txt\r\n",
      "\r\n",
      "../data/Eurlex:\r\n",
      "eurlex_test.txt  eurlex_train.txt\r\n",
      "\r\n",
      "../data/Mediamill:\r\n",
      "Mediamill_data.txt  mediamill_trSplit.txt  mediamill_tstSplit.txt\r\n",
      "\r\n",
      "../data/RCV1-x:\r\n",
      "rcv1x_test.txt\trcv1x_train.txt\r\n",
      "\r\n",
      "../data/Wiki10:\r\n",
      "wiki10_test.txt  wiki10_train.txt\r\n",
      "\r\n",
      "../data/XMLDatasetRead:\r\n",
      "XMLDatasetRead\r\n",
      "\r\n",
      "../data/XMLDatasetRead/XMLDatasetRead:\r\n",
      "ReadData_Matlab  README_Datasets\r\n",
      "\r\n",
      "../data/XMLDatasetRead/XMLDatasetRead/ReadData_Matlab:\r\n",
      "make.m\tread_data.cpp  README.txt  write_data.cpp\r\n"
     ]
    }
   ],
   "source": [
    "!ls -R ../data"
   ]
  },
  {
   "cell_type": "code",
   "execution_count": 13,
   "metadata": {},
   "outputs": [
    {
     "name": "stdout",
     "output_type": "stream",
     "text": [
      "\u001b[0m\u001b[01;32m../data/Delicious/Delicious_data.txt\u001b[0m*\r\n"
     ]
    }
   ],
   "source": [
    "ls ../data/Delicious/Delicious_data.txt"
   ]
  },
  {
   "cell_type": "code",
   "execution_count": 14,
   "metadata": {
    "collapsed": true
   },
   "outputs": [],
   "source": [
    "data_dir = \"../data\"\n",
    "model_dir = \"../model/model3\"\n",
    "train_filename = \"/Delicious/Delicious_data.txt\"\n",
    "#test_filename = \"/Eurlex/eurlex_test.txt\"\n",
    "tr_split_file = \"/Delicious/delicious_trSplit.txt\"\n",
    "te_split_file = \"/Delicious/delicious_tstSplit.txt\"\n",
    "\n",
    "path = os.path.dirname(train_filename)\n",
    "model_path = model_dir + path\n",
    "num_core = 8\n",
    "L_hat_ratio =1\n",
    "time = TicToc()"
   ]
  },
  {
   "cell_type": "code",
   "execution_count": 15,
   "metadata": {
    "scrolled": true
   },
   "outputs": [
    {
     "name": "stdout",
     "output_type": "stream",
     "text": [
      "num_point=16105, num_label=983, num_feature=500\n"
     ]
    }
   ],
   "source": [
    "tr_data, num_point, num_feature, num_label = data_util.read_file(data_dir+train_filename)\n",
    "print(\"num_point={}, num_label={}, num_feature={}\".format(num_point, num_label, num_feature))"
   ]
  },
  {
   "cell_type": "code",
   "execution_count": 16,
   "metadata": {
    "collapsed": true
   },
   "outputs": [],
   "source": [
    "#te_data, _, _, _ = data_util.read_file(data_dir+test_filename)"
   ]
  },
  {
   "cell_type": "code",
   "execution_count": 17,
   "metadata": {
    "collapsed": true
   },
   "outputs": [],
   "source": [
    "tr_split = data_util.split_data(data=tr_data, split_file=data_dir+tr_split_file)\n",
    "te_split = data_util.split_data(data=tr_data, split_file=data_dir+te_split_file)"
   ]
  },
  {
   "cell_type": "code",
   "execution_count": 18,
   "metadata": {
    "collapsed": true
   },
   "outputs": [],
   "source": [
    "X_tr, Y_tr, X_te, Y_te = data_util.data_transform(tr_split, te_split, num_label)"
   ]
  },
  {
   "cell_type": "markdown",
   "metadata": {},
   "source": [
    "## Binary mapping + BCH + kNN\n",
    "data set $(x,y)^d$, where $y_i=\\{1, 0\\}^L$\n",
    "\n",
    "we want to map y into lower space by $$z = [M\\cdot y]$$ where M is a multivariant i,i,d Gaussian matrix, and $[]$ is tkaing the sign.\n",
    "\n",
    "Then we add redundency to z and get the encoded z' by applying the BCH error correction code. $z' \\in \\{1,0\\}^{redundency*\\hat L}$\n",
    "\n",
    "Then we train binary classifiers on each bit of $z' \\in \\{0, 1\\}^{\\hat L}$\n",
    "\n",
    "For each test point, we predict its $\\hat {z'}$ and decode $\\hat z$ then use kNN to find the nearest k neighbors from $z=[My]$ which is all our lower degree space's mapping.\n",
    "\n",
    "### Step 0: data preposseing\n",
    "normalize features and select prominent features"
   ]
  },
  {
   "cell_type": "code",
   "execution_count": 19,
   "metadata": {},
   "outputs": [
    {
     "data": {
      "text/plain": [
       "(12920, 500)"
      ]
     },
     "execution_count": 19,
     "metadata": {},
     "output_type": "execute_result"
    }
   ],
   "source": [
    "# normalize features\n",
    "X_tr = StandardScaler().fit_transform(X_tr)\n",
    "X_te = StandardScaler().fit_transform(X_te)\n",
    "X_tr.shape"
   ]
  },
  {
   "cell_type": "markdown",
   "metadata": {},
   "source": [
    "### Step 1: map to $\\hat L$ space and construct KD-tree\n",
    "\n",
    "The apply $$\\hat L = k \\log L$$ where $k$ indicates the sparsity of each label vector $y_i = \\{0,1\\}^L$. By default we choose k to be the 99.9% maximum sparsity to avoid extreme cases.\n",
    "\n",
    "The data in \"Eurlex\" contains $L = 5000$ labels, we are trying to map it into $\\hat L = 200$ space."
   ]
  },
  {
   "cell_type": "code",
   "execution_count": 12,
   "metadata": {},
   "outputs": [
    {
     "data": {
      "text/plain": [
       "12"
      ]
     },
     "execution_count": 12,
     "metadata": {},
     "output_type": "execute_result"
    }
   ],
   "source": [
    "k = sorted([Y.sum() for Y in Y_tr], reverse=True)[int(num_point*0.001)]\n",
    "k"
   ]
  },
  {
   "cell_type": "code",
   "execution_count": 13,
   "metadata": {
    "collapsed": true
   },
   "outputs": [],
   "source": [
    "np.random.seed(0)\n",
    "L_hat = int(math.ceil(k * math.log(Y_tr.shape[1], 2) * L_hat_ratio))\n",
    "M = normal(size=(L_hat, Y_tr.shape[1]))\n",
    "Z_tr = M.dot(Y_tr.T).T # z = n*\\hat L\n",
    "Z_tr = np.apply_along_axis(lambda x: [0 if elem < 0 else 1 for elem in x], 0, Z_tr) #sign"
   ]
  },
  {
   "cell_type": "code",
   "execution_count": 14,
   "metadata": {
    "scrolled": true
   },
   "outputs": [
    {
     "data": {
      "text/plain": [
       "(15539, 144)"
      ]
     },
     "execution_count": 14,
     "metadata": {},
     "output_type": "execute_result"
    }
   ],
   "source": [
    "Z_tr.shape"
   ]
  },
  {
   "cell_type": "code",
   "execution_count": 29,
   "metadata": {},
   "outputs": [
    {
     "ename": "ImportError",
     "evalue": "./bchlib.so: undefined symbol: PyUnicode_AsUTF8",
     "output_type": "error",
     "traceback": [
      "\u001b[0;31m---------------------------------------------------------------------------\u001b[0m",
      "\u001b[0;31mImportError\u001b[0m                               Traceback (most recent call last)",
      "\u001b[0;32m<ipython-input-29-a2dbbcf086c9>\u001b[0m in \u001b[0;36m<module>\u001b[0;34m()\u001b[0m\n\u001b[0;32m----> 1\u001b[0;31m \u001b[0;32mimport\u001b[0m \u001b[0mbchlib\u001b[0m\u001b[0;34m\u001b[0m\u001b[0m\n\u001b[0m",
      "\u001b[0;31mImportError\u001b[0m: ./bchlib.so: undefined symbol: PyUnicode_AsUTF8"
     ]
    }
   ],
   "source": [
    "import bchlib"
   ]
  },
  {
   "cell_type": "code",
   "execution_count": 15,
   "metadata": {},
   "outputs": [
    {
     "data": {
      "text/plain": [
       "(15539, 3993)"
      ]
     },
     "execution_count": 15,
     "metadata": {},
     "output_type": "execute_result"
    }
   ],
   "source": []
  },
  {
   "cell_type": "markdown",
   "metadata": {},
   "source": [
    "### Step 2: Train Model\n",
    "\n",
    "#### 2.1 train binary classifiers on each bit"
   ]
  },
  {
   "cell_type": "code",
   "execution_count": null,
   "metadata": {
    "collapsed": true
   },
   "outputs": [],
   "source": [
    "def train_bit(bit):\n",
    "    print \"Trianning model for the {}th bit\\n... ... ... \\n\".format(bit)\n",
    "    #clf = LogisticRegression(solver='sag')\n",
    "    clf = LinearSVC(dual=False)\n",
    "    clf.fit(y=Z_tr[:, bit], X=X_tr)\n",
    "    joblib.dump(clf, os.path.join(model_path , 'label{}.pkl'.format(bit)))\n",
    "    print \"{}th bit's model successfully stored in {}/label{}.pkl\\n\".format(bit, model_path, bit)"
   ]
  },
  {
   "cell_type": "code",
   "execution_count": null,
   "metadata": {
    "collapsed": true,
    "scrolled": true
   },
   "outputs": [],
   "source": [
    "from joblib import Parallel, delayed # Multitread\n",
    "Parallel(n_jobs=num_core)(delayed(train_bit)(i) for i in range(Z_tr.shape[1]))"
   ]
  },
  {
   "cell_type": "markdown",
   "metadata": {
    "collapsed": true
   },
   "source": [
    "#### 2.2 Store the lower degree space info for kNN\n",
    "\n",
    "We use opensource faiss library from FAIR to speedup the ANN(Approximate Nearest Neighbor) search.\n",
    "\n",
    "When dimension and data size is relatively small, we use the brute force kNN search."
   ]
  },
  {
   "cell_type": "code",
   "execution_count": 16,
   "metadata": {
    "collapsed": true
   },
   "outputs": [],
   "source": [
    "# faiss brute force search\n",
    "nn_index = faiss.index_factory(Z_tr.shape[1], \"Flat\", faiss.METRIC_L2)   # build the index\n",
    "nn_index.add(Z_tr.astype('float32'))"
   ]
  },
  {
   "cell_type": "markdown",
   "metadata": {
    "collapsed": true
   },
   "source": [
    "```Python\n",
    "# index created by index factory\n",
    "nn_index = faiss.index_factory(Z_tr.shape[1], \"IVF100,Flat\", faiss.METRIC_L2) # need train\n",
    "nn_index.train(Z_tr.astype('float32'))\n",
    "nn_index.add(Z_tr.astype('float32'))\n",
    "\n",
    "print nn_index.nlist # number of clusters, only INF has this\n",
    "nn_index.nprobe = 1 # number of clusters to search through, only INF has this, need to be validate\n",
    "```"
   ]
  },
  {
   "cell_type": "markdown",
   "metadata": {},
   "source": [
    "### Step 3 Prediction and Validation"
   ]
  },
  {
   "cell_type": "code",
   "execution_count": 17,
   "metadata": {
    "collapsed": true
   },
   "outputs": [],
   "source": [
    "model = BMapModel.BM_Predictor(L_hat, nn_index, Y_tr, model_path)"
   ]
  },
  {
   "cell_type": "code",
   "execution_count": 18,
   "metadata": {},
   "outputs": [
    {
     "name": "stdout",
     "output_type": "stream",
     "text": [
      "Elapsed time is 4.268343 seconds.\n"
     ]
    }
   ],
   "source": [
    "# k=1 without voting\n",
    "time.tic()\n",
    "Y_pred = model.vote_y(X_te, 20) # 1 nearest neighbor\n",
    "time.toc()"
   ]
  },
  {
   "cell_type": "code",
   "execution_count": 19,
   "metadata": {},
   "outputs": [
    {
     "name": "stderr",
     "output_type": "stream",
     "text": [
      "/home/horacehxw/anaconda2/lib/python2.7/site-packages/sklearn/metrics/ranking.py:415: RuntimeWarning: invalid value encountered in true_divide\n",
      "  recall = tps / tps[-1]\n"
     ]
    },
    {
     "data": {
      "text/plain": [
       "nan"
      ]
     },
     "execution_count": 19,
     "metadata": {},
     "output_type": "execute_result"
    }
   ],
   "source": [
    "average_precision_score(y_true=Y_te, y_score=Y_pred, average='weighted')"
   ]
  },
  {
   "cell_type": "code",
   "execution_count": 20,
   "metadata": {
    "collapsed": true
   },
   "outputs": [],
   "source": [
    "def precision_at_k(truth, vote, k):\n",
    "    '''\n",
    "    evaluate precision at k for a vote vector\n",
    "    p@k = num of correct prediction in topk / k\n",
    "    '''\n",
    "    success = 0\n",
    "    for i in range(len(truth)):\n",
    "        # find the k-largest index using partition selet\n",
    "        # topk are not sorted, np.argsort(vote[topk]) can do that but not needed here\n",
    "        topk = np.argpartition(vote[i], -k)[-k:] \n",
    "        success += np.sum(truth[i, topk])\n",
    "    return success / ((float(len(truth)))*k)"
   ]
  },
  {
   "cell_type": "code",
   "execution_count": 21,
   "metadata": {},
   "outputs": [
    {
     "data": {
      "text/plain": [
       "0.58624310842740879"
      ]
     },
     "execution_count": 21,
     "metadata": {},
     "output_type": "execute_result"
    }
   ],
   "source": [
    "Y_pred = model.vote_y(X_te, 20)\n",
    "precision_at_k(Y_te, Y_pred, 1)"
   ]
  },
  {
   "cell_type": "markdown",
   "metadata": {
    "collapsed": true
   },
   "source": [
    "#### 3.2 optimize hyperparameter\n",
    "use  k fold cross validation to optimize over "
   ]
  },
  {
   "cell_type": "code",
   "execution_count": 22,
   "metadata": {
    "collapsed": true
   },
   "outputs": [],
   "source": [
    "from sklearn.model_selection import KFold"
   ]
  },
  {
   "cell_type": "code",
   "execution_count": 27,
   "metadata": {
    "collapsed": true
   },
   "outputs": [],
   "source": [
    "def validate(L_hat, pk=1, vote=20): # simple forkable parallel for loop body\n",
    "    #k_fold = KFold(n_splits=fold)\n",
    "    print \"L_hat is now {}\\n\".format(L_hat)\n",
    "    p_sum = 0\n",
    "   # for train_index, test_index in k_fold.split(X_tr):\n",
    "    x_train = X_tr\n",
    "    y_train = Y_tr\n",
    "    x_test = X_te\n",
    "    y_test = Y_te\n",
    "\n",
    "    # map and create kNN index\n",
    "    np.random.seed(0) # reproduce\n",
    "    M = normal(size=(L_hat, y_train.shape[1]))\n",
    "    z_train = M.dot(y_train.T).T # z = n*\\hat L\n",
    "    z_train = np.apply_along_axis(lambda x: [0 if elem < 0 else 1 for elem in x], 0, z_train) #sign\n",
    "    # faiss brute force search\n",
    "    knn_index = faiss.index_factory(z_train.shape[1], \"Flat\", faiss.METRIC_L2)   # build the index\n",
    "    knn_index.add(z_train.astype('float32'))\n",
    "\n",
    "    # construct model\n",
    "    model = BMapModel.BM_Predictor(L_hat, knn_index, y_train, model_path)\n",
    "    #predict and calculate p@k score\n",
    "    y_pred = model.vote_y(x_test, vote)\n",
    "    # precision@pk\n",
    "    #p_sum += precision_at_k(y_test, y_pred, k=pk)\n",
    "    return precision_at_k(y_test, y_pred, k=pk)\n",
    "        "
   ]
  },
  {
   "cell_type": "code",
   "execution_count": 34,
   "metadata": {
    "collapsed": true
   },
   "outputs": [],
   "source": [
    "# Optimize L_hat's value on the metric precision@k\n",
    "pk=1\n",
    "vote=40\n",
    "L_hat_range = range(1, 144)"
   ]
  },
  {
   "cell_type": "code",
   "execution_count": 35,
   "metadata": {
    "scrolled": true
   },
   "outputs": [
    {
     "name": "stdout",
     "output_type": "stream",
     "text": [
      "L_hat is now 1\n",
      "L_hat is now 2\n",
      "\n",
      "L_hat is now 5\n",
      "L_hat is now 4\n",
      "L_hat is now 3\n",
      "L_hat is now 6\n",
      "\n",
      "L_hat is now 8\n",
      "\n",
      "L_hat is now 7\n",
      "\n",
      "\n",
      "\n",
      "\n",
      "\n",
      "L_hat is now 9\n",
      "\n",
      "L_hat is now 10\n",
      "\n",
      "L_hat is now 11\n",
      "\n",
      "L_hat is now 12\n",
      "\n",
      "L_hat is now 13\n",
      "\n",
      "L_hat is now 14\n",
      "L_hat is now 15\n",
      "\n",
      "\n",
      "L_hat is now 16\n",
      "\n",
      "L_hat is now 17\n",
      "\n",
      "L_hat is now 18\n",
      "\n",
      "L_hat is now 19\n",
      "\n",
      "L_hat is now 20\n",
      "\n",
      "L_hat is now 21\n",
      "\n",
      "L_hat is now 22\n",
      "\n",
      "L_hat is now 23\n",
      "\n",
      "L_hat is now 24\n",
      "\n",
      "L_hat is now 25\n",
      "\n",
      "L_hat is now 26\n",
      "\n",
      "L_hat is now 27\n",
      "\n",
      "L_hat is now 28\n",
      "\n",
      "L_hat is now 29\n",
      "\n",
      "L_hat is now 30\n",
      "\n",
      "L_hat is now 31\n",
      "\n",
      "L_hat is now 32\n",
      "\n",
      "L_hat is now 33\n",
      "\n",
      "L_hat is now 34\n",
      "\n",
      "L_hat is now 35\n",
      "\n",
      "L_hat is now 36\n",
      "\n",
      "L_hat is now 37\n",
      "\n",
      "L_hat is now 38\n",
      "\n",
      "L_hat is now 39\n",
      "\n",
      "L_hat is now 40\n",
      "\n",
      "L_hat is now 41\n",
      "\n",
      "L_hat is now 42\n",
      "\n",
      "L_hat is now 43\n",
      "\n",
      "L_hat is now 44\n",
      "\n",
      "L_hat is now 45\n",
      "\n",
      "L_hat is now 46\n",
      "\n",
      "L_hat is now 47\n",
      "\n",
      "L_hat is now 48\n",
      "\n",
      "L_hat is now 49\n",
      "\n",
      "L_hat is now 50\n",
      "\n",
      "L_hat is now 51\n",
      "\n",
      "L_hat is now 52\n",
      "\n",
      "L_hat is now 53\n",
      "\n",
      "L_hat is now 54\n",
      "\n",
      "L_hat is now 55\n",
      "\n",
      "L_hat is now 56\n",
      "\n",
      "L_hat is now 57\n",
      "\n",
      "L_hat is now 58\n",
      "\n",
      "L_hat is now 59\n",
      "\n",
      "L_hat is now 60\n",
      "\n",
      "L_hat is now 61\n",
      "\n",
      "L_hat is now 62\n",
      "\n",
      "L_hat is now 63\n",
      "\n",
      "L_hat is now 64\n",
      "\n",
      "L_hat is now 65\n",
      "\n",
      "L_hat is now 66\n",
      "\n",
      "L_hat is now 67\n",
      "\n",
      "L_hat is now 68\n",
      "\n",
      "L_hat is now 69\n",
      "\n",
      "L_hat is now 70\n",
      "\n",
      "L_hat is now 71\n",
      "\n",
      "L_hat is now 72\n",
      "\n",
      "L_hat is now 73\n",
      "\n",
      "L_hat is now 74\n",
      "\n",
      "L_hat is now 75\n",
      "\n",
      "L_hat is now 76\n",
      "\n",
      "L_hat is now 77\n",
      "\n",
      "L_hat is now 78\n",
      "\n",
      "L_hat is now 79\n",
      "\n",
      "L_hat is now 80\n",
      "\n",
      "L_hat is now 81\n",
      "\n",
      "L_hat is now 82\n",
      "\n",
      "L_hat is now 83\n",
      "\n",
      "L_hat is now 84\n",
      "\n",
      "L_hat is now 85\n",
      "\n",
      "L_hat is now 86\n",
      "\n",
      "L_hat is now 87\n",
      "\n",
      "L_hat is now 88\n",
      "\n",
      "L_hat is now 89\n",
      "\n",
      "L_hat is now 90\n",
      "\n",
      "L_hat is now 91\n",
      "\n",
      "L_hat is now 92\n",
      "\n",
      "L_hat is now 93\n",
      "\n",
      "L_hat is now 94\n",
      "\n",
      "L_hat is now 95\n",
      "\n",
      "L_hat is now 96\n",
      "\n",
      "L_hat is now 97\n",
      "\n",
      "L_hat is now 98\n",
      "\n",
      "L_hat is now 99\n",
      "\n",
      "L_hat is now 100\n",
      "\n",
      "L_hat is now 101\n",
      "\n",
      "L_hat is now 102\n",
      "\n",
      "L_hat is now 103\n",
      "\n",
      "L_hat is now 104\n",
      "\n",
      "L_hat is now 105\n",
      "\n",
      "L_hat is now 106\n",
      "\n",
      "L_hat is now 107\n",
      "\n",
      "L_hat is now 108\n",
      "\n",
      "L_hat is now 109\n",
      "\n",
      "L_hat is now 110\n",
      "\n",
      "L_hat is now 111\n",
      "\n",
      "L_hat is now 112\n",
      "\n",
      "L_hat is now 113\n",
      "\n",
      "L_hat is now 114\n",
      "\n",
      "L_hat is now 115\n",
      "\n",
      "L_hat is now 116\n",
      "\n",
      "L_hat is now 117\n",
      "\n",
      "L_hat is now 118\n",
      "\n",
      "L_hat is now 119\n",
      "\n",
      "L_hat is now 120\n",
      "\n",
      "L_hat is now 121\n",
      "\n",
      "L_hat is now 122\n",
      "\n",
      "L_hat is now 123\n",
      "\n",
      "L_hat is now 124\n",
      "\n",
      "L_hat is now 125\n",
      "\n",
      "L_hat is now 126\n",
      "\n",
      "L_hat is now 127\n",
      "\n",
      "L_hat is now 128\n",
      "\n",
      "L_hat is now 129\n",
      "\n",
      "L_hat is now 130\n",
      "\n",
      "L_hat is now 131\n",
      "\n",
      "L_hat is now 132\n",
      "\n",
      "L_hat is now 133\n",
      "\n",
      "L_hat is now 134\n",
      "\n",
      "L_hat is now 135\n",
      "\n",
      "L_hat is now 136\n",
      "\n",
      "L_hat is now 137\n",
      "\n",
      "L_hat is now 138\n",
      "\n",
      "L_hat is now 139\n",
      "\n",
      "L_hat is now 140\n",
      "\n",
      "L_hat is now 141\n",
      "\n",
      "L_hat is now 142\n",
      "\n",
      "L_hat is now 143\n",
      "\n"
     ]
    }
   ],
   "source": [
    "L_hat_score = Parallel(n_jobs=num_core)(delayed(validate)(L_hat, pk, vote) for L_hat in L_hat_range)"
   ]
  },
  {
   "cell_type": "code",
   "execution_count": 37,
   "metadata": {
    "scrolled": true
   },
   "outputs": [
    {
     "data": {
      "text/plain": [
       "<matplotlib.text.Text at 0x7f96a8f46a50>"
      ]
     },
     "execution_count": 37,
     "metadata": {},
     "output_type": "execute_result"
    },
    {
     "data": {
      "image/png": "[encoded data removed]",
      "text/plain": [
       "<matplotlib.figure.Figure at 0x7f96a8fe63d0>"
      ]
     },
     "metadata": {},
     "output_type": "display_data"
    }
   ],
   "source": [
    "plt.plot(L_hat_range, L_hat_score)\n",
    "plt.xlabel('L_hat')\n",
    "plt.ylabel('precision@{}'.format(pk))\n",
    "plt.title('delicious validation on L_hat')"
   ]
  },
  {
   "cell_type": "code",
   "execution_count": null,
   "metadata": {
    "collapsed": true
   },
   "outputs": [],
   "source": []
  }
 ],
 "metadata": {
  "kernelspec": {
   "display_name": "Python 2",
   "language": "python",
   "name": "python2"
  },
  "language_info": {
   "codemirror_mode": {
    "name": "ipython",
    "version": 2
   },
   "file_extension": ".py",
   "mimetype": "text/x-python",
   "name": "python",
   "nbconvert_exporter": "python",
   "pygments_lexer": "ipython2",
   "version": "2.7.13"
  }
 },
 "nbformat": 4,
 "nbformat_minor": 2
}
