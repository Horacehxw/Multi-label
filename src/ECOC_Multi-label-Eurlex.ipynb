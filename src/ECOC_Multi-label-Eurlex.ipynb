{
 "cells": [
  {
   "cell_type": "markdown",
   "metadata": {},
   "source": [
    "**author: Xiaowu He. horace_hxw_cal@berkeley.edu**\n",
    "\n",
    "# Multi-label Classification Note\n",
    "## 1. ECOC(multi-class setting)\n",
    "#### step 1: map the class to the coresponding **binary** vector $[1,0,...,1]^T$ using the error correction codes.:\n",
    "- Exhaustive code\n",
    "- Col Selection from Exhaustive code (Hill Climbing)\n",
    "- Randomize Hill Climbing\n",
    "- BCH code\n",
    "\n",
    "#### step 2: use maching learning algorithms to create the probability vector of each position to be 1.\n",
    "- Decision Tree\n",
    "- Nueral Network\n",
    "- **create muliple binary classifiers for each position**\n",
    "\n",
    "#### step 3： recover the origin class vector according to the cloest $\\ell_1$ distance\n",
    "\n",
    "## 2. MLGT (Group Testing)\n",
    "The basic idea is to form group of labels and test each data point whether or not inside that group.\n",
    "1. Construct  a specific binary matrix $A_{m\\times d}$ and compress the original binary-label vector by $z = A \\quad or \\quad  y$ using matrix boolean opration. Then train the classifiers based on vector z.\n",
    "2. Predicting process is to set the position $l$ of group vector to 1 iff $|supp(A^{(l)}) - supp(\\hat{z}))| < \\frac{e}{2}$. where the supp() means the set of indexees of nonzero enties in a given vector.\n",
    "\n",
    "## 3. Haffman Tree Based multi-class Classification\n",
    "constructing a haffman tree based on the frequency of each label. and train a binary classifier at each node of the tree.\n",
    "\n",
    "**this can reduce the average classification and training time.**\n",
    "\n",
    "## 4. ECOC in Multi-label setting\n",
    "Assume there are m labels in total and each data point has no more than k labels.\n",
    "1. we can map each label into a binary representation and concat them into a binary vector of leangth $k\\log m$. If some data point doesn't have enough labels, add a default number to maintain the length.\n",
    "2. Add **parity check**`    ` to the above vector using Error Correction Code\n",
    "2. Train binary classifier on each digit.\n"
   ]
  },
  {
   "cell_type": "markdown",
   "metadata": {},
   "source": [
    "# Implement ECOC in Multi-label Classification\n",
    "## Set up\n",
    "we are given a set of labeled trianing data $\\{(x_i,y_i)\\}_{i=1}^{n}$, where $x_i \\in \\mathbb{R}^p$ are the input features and $y_i \\in \\{0,1\\}^d$ are vectors indicating the labels of each data point.\n",
    "\n",
    "In practice, the label vector $y_i$ are sparse. We assume that the labels are at most k-sparse. And want to compress the label vectors into $k \\cdot \\log m$ length by concating the binary representation of each label index into a binary vector."
   ]
  },
  {
   "cell_type": "code",
   "execution_count": 1,
   "metadata": {},
   "outputs": [
    {
     "name": "stdout",
     "output_type": "stream",
     "text": [
      "data_clean.py  data_util.pyc\t\t      LDPC\r\n",
      "data_clean.sh  ECOC_Multi-label-Eurlex.ipynb  LDPC.ipynb\r\n",
      "data_util.py   ECOC_Multi-label.ipynb\t      Untitled.ipynb\r\n"
     ]
    }
   ],
   "source": [
    "!ls"
   ]
  },
  {
   "cell_type": "code",
   "execution_count": 2,
   "metadata": {
    "collapsed": true
   },
   "outputs": [],
   "source": [
    "%matplotlib inline\n",
    "import data_util\n",
    "import matplotlib.pyplot as plt\n",
    "import numpy as np\n",
    "from data_util import DataPoint\n",
    "import math\n",
    "from LDPC.LDPCGenerator import LDPCCoder\n",
    "import os"
   ]
  },
  {
   "cell_type": "code",
   "execution_count": 3,
   "metadata": {
    "scrolled": false
   },
   "outputs": [
    {
     "name": "stdout",
     "output_type": "stream",
     "text": [
      "../data:\r\n",
      ".  ..  AmazonCat  Bibtex  Delicious  Eurlex  Mediamill\tRCV1-x\tWiki10\r\n",
      "\r\n",
      "../data/AmazonCat:\r\n",
      ".  ..  amazonCat_test.txt  amazonCat_train.txt\r\n",
      "\r\n",
      "../data/Bibtex:\r\n",
      ".  ..  Bibtex_data.txt\tbibtex_trSplit.txt  bibtex_tstSplit.txt\r\n",
      "\r\n",
      "../data/Delicious:\r\n",
      ".  ..  Delicious_data.txt  delicious_trSplit.txt  delicious_tstSplit.txt\r\n",
      "\r\n",
      "../data/Eurlex:\r\n",
      ".  ..  eurlex_test.txt\teurlex_train.txt\r\n",
      "\r\n",
      "../data/Mediamill:\r\n",
      ".  ..  Mediamill_data.txt  mediamill_trSplit.txt  mediamill_tstSplit.txt\r\n",
      "\r\n",
      "../data/RCV1-x:\r\n",
      ".  ..  rcv1x_test.txt  rcv1x_train.txt\r\n",
      "\r\n",
      "../data/Wiki10:\r\n",
      ".  ..  wiki10_test.txt\twiki10_train.txt\r\n"
     ]
    }
   ],
   "source": [
    "!ls -Ra ../data"
   ]
  },
  {
   "cell_type": "code",
   "execution_count": 4,
   "metadata": {
    "collapsed": true
   },
   "outputs": [],
   "source": [
    "data_dir = \"../data\"\n",
    "model_dir = \"../.model\"\n",
    "filename = \"/Eurlex/eurlex_train.txt\"\n",
    "\n",
    "path = os.path.dirname(filename)\n",
    "model_path = model_dir + path"
   ]
  },
  {
   "cell_type": "code",
   "execution_count": 5,
   "metadata": {},
   "outputs": [
    {
     "name": "stdout",
     "output_type": "stream",
     "text": [
      "num_point=15539, num_label=3993, num_feature=5000\n"
     ]
    }
   ],
   "source": [
    "data, num_point, num_feature, num_label = data_util.read_file(data_dir+filename)\n",
    "print(\"num_point={}, num_label={}, num_feature={}\".format(num_point, num_label, num_feature))"
   ]
  },
  {
   "cell_type": "markdown",
   "metadata": {},
   "source": [
    "## Step 1: Calculate the distribution of number of labels in each data point\n",
    "if the maximum number k is relatively small, set the length of our label vector into $k\\cdot \\left \\lceil {\\log m} \\right \\rceil$"
   ]
  },
  {
   "cell_type": "code",
   "execution_count": 6,
   "metadata": {},
   "outputs": [
    {
     "data": {
      "text/plain": [
       "<matplotlib.text.Text at 0x7f92b34fcbd0>"
      ]
     },
     "execution_count": 6,
     "metadata": {},
     "output_type": "execute_result"
    },
    {
     "data": {
      "image/png": "[encoded data removed]",
      "text/plain": [
       "<matplotlib.figure.Figure at 0x7f92b80b2f10>"
      ]
     },
     "metadata": {},
     "output_type": "display_data"
    }
   ],
   "source": [
    "# find the distribution of num of labels in each data point\n",
    "label_lengths = [0 for _ in range(num_label + 1)]\n",
    "for data_point in data:\n",
    "    label_lengths[len(data_point.labels)] += 1\n",
    "plt.plot(label_lengths[:20])\n",
    "plt.title(\"the distribution of labels numbers\")"
   ]
  },
  {
   "cell_type": "code",
   "execution_count": 7,
   "metadata": {},
   "outputs": [
    {
     "name": "stdout",
     "output_type": "stream",
     "text": [
      "(15539, 15539)\n"
     ]
    },
    {
     "data": {
      "image/png": "[encoded data removed]",
      "text/plain": [
       "<matplotlib.figure.Figure at 0x7f92e0133c90>"
      ]
     },
     "metadata": {},
     "output_type": "display_data"
    }
   ],
   "source": [
    "# find the distribution of num of features in each data point\n",
    "feature_lengths = [0 for _ in range(num_feature + 1)]\n",
    "for data_point in data:\n",
    "    feature_lengths[len(data_point.features)] += 1\n",
    "plt.plot(feature_lengths[:5000])\n",
    "plt.title(\"the distribution of feature numbers\")\n",
    "print(sum(label_lengths), sum(feature_lengths))"
   ]
  },
  {
   "cell_type": "code",
   "execution_count": 8,
   "metadata": {},
   "outputs": [
    {
     "name": "stdout",
     "output_type": "stream",
     "text": [
      "99% of data points has less than 9 labels and less than 1205 features\n"
     ]
    }
   ],
   "source": [
    "# find the 99% value over a population\n",
    "def find_percent(data, population, percent=0.99):\n",
    "    target = population*(1-percent)\n",
    "    for i in range(len(data)):\n",
    "        population -= data[i]\n",
    "        if population <= target:\n",
    "            return i\n",
    "\n",
    "label_k = find_percent(label_lengths, num_point)\n",
    "print(\"99% of data points has less than {} labels and less than {} features\"\\\n",
    "      .format(label_k, find_percent(feature_lengths, num_point)))"
   ]
  },
  {
   "cell_type": "code",
   "execution_count": 9,
   "metadata": {},
   "outputs": [
    {
     "name": "stdout",
     "output_type": "stream",
     "text": [
      "length = 5001\n"
     ]
    },
    {
     "data": {
      "text/plain": [
       "<matplotlib.text.Text at 0x7f92b32ffc90>"
      ]
     },
     "execution_count": 9,
     "metadata": {},
     "output_type": "execute_result"
    },
    {
     "data": {
      "image/png": "[encoded data removed]",
      "text/plain": [
       "<matplotlib.figure.Figure at 0x7f92b33238d0>"
      ]
     },
     "metadata": {},
     "output_type": "display_data"
    }
   ],
   "source": [
    "# find the distribution of usage of each feature\n",
    "feature_nums = [0 for _ in range(num_feature + 1)]\n",
    "print (\"length = {}\".format(len(feature_nums)))\n",
    "for data_point in data:\n",
    "    for feature in data_point.features:\n",
    "        try:\n",
    "            feature_nums[feature] += 1\n",
    "        except IndexError:\n",
    "            print feature\n",
    "plt.plot(sorted(feature_nums))\n",
    "plt.title(\"the distribution of feature's usage\")"
   ]
  },
  {
   "cell_type": "markdown",
   "metadata": {},
   "source": [
    "### Prominent Features\n",
    "Because there're too many features to train, we choose to use only prominent features (features which were used by more than $\\frac{1}{5}$ of data points). This is slightly different from the MLGT paper because we don't have enough computing power."
   ]
  },
  {
   "cell_type": "code",
   "execution_count": 10,
   "metadata": {},
   "outputs": [
    {
     "name": "stdout",
     "output_type": "stream",
     "text": [
      "prominent featre num: 45\n"
     ]
    }
   ],
   "source": [
    "# find all prominent features\n",
    "prominent_feature = set()\n",
    "prominent_frac = 0.5\n",
    "for feature in range(len(feature_nums)):\n",
    "    if feature_nums[feature] >= num_point * prominent_frac:\n",
    "        prominent_feature.add(feature)\n",
    "print (\"prominent featre num: {}\".format(len(prominent_feature)))"
   ]
  },
  {
   "cell_type": "code",
   "execution_count": 11,
   "metadata": {
    "collapsed": true
   },
   "outputs": [],
   "source": [
    "# remove non-prominent features\n",
    "for data_point in data:\n",
    "    new_feature = {}\n",
    "    for feature in data_point.features:\n",
    "        if feature in prominent_feature:\n",
    "            new_feature[feature] = data_point.features[feature]\n",
    "    data_point.features = new_feature"
   ]
  },
  {
   "cell_type": "code",
   "execution_count": 12,
   "metadata": {
    "collapsed": true
   },
   "outputs": [],
   "source": [
    "# clear useless data for memory\n",
    "feature_num = 0\n",
    "feature_lengths = 0\n",
    "label_lengths = 0"
   ]
  },
  {
   "cell_type": "markdown",
   "metadata": {},
   "source": [
    "The above information might be useful for furthur optimize the parameters.\n",
    "\n",
    "## Step 2: Generator Label vectors\n",
    "The training and predicting process can be viewed as a channel transmition during a binary symetric channel. We first do source encoding to compress the labels information and then do channel encoding to ad the parity check to resist the channel error.\n",
    "### 2.1 Source Encoding: create the compressed lable vec\n",
    "For each data point's label, we first translate its labels into binary form and then concat them one by one in ascent order. the default value for the label vector would be \"111..1\".\n"
   ]
  },
  {
   "cell_type": "code",
   "execution_count": 13,
   "metadata": {
    "collapsed": true
   },
   "outputs": [],
   "source": [
    "def num_to_bin(x, length=None):\n",
    "    '''\n",
    "    convert a single lable to corresponding binary vector\n",
    "    '''\n",
    "    if length == None:\n",
    "        length=int(math.log(x)/math.log(2)) + 1\n",
    "    bits = [0]*length\n",
    "    i = 0\n",
    "    while x:\n",
    "        bits[i] = x%2\n",
    "        x >>= 1\n",
    "        i+=1\n",
    "    return bits\n",
    "\n",
    "def bin_to_num(vec):\n",
    "    pow2 = 1\n",
    "    num = 0\n",
    "    for x in vec:\n",
    "        num += x*pow2\n",
    "        pow2*=2\n",
    "    return num\n",
    "\n",
    "def l_to_vec(labels, k, length):\n",
    "    '''\n",
    "    compress the lable vector.\n",
    "    input:\n",
    "        k: maximum non-zero entries of lable in a data point\n",
    "        length: length of each binary bevtor for a label\n",
    "    '''\n",
    "    labels.sort() #ascending order\n",
    "    default_place = [1]*length\n",
    "    vec = []\n",
    "    for i in range(k):\n",
    "        if i < len(labels):\n",
    "            vec.extend(num_to_bin(labels[i], length))\n",
    "        else:\n",
    "            vec.extend(default_place)\n",
    "    return (np.array(vec))\n",
    "\n",
    "def vec_to_l(vec, length):\n",
    "    default = 2**length - 1\n",
    "    labels = []\n",
    "    for i in range(0, len(vec), length):\n",
    "        num = bin_to_num(vec[i:i+length])\n",
    "        if num != default:\n",
    "            labels.append(num)\n",
    "    return labels"
   ]
  },
  {
   "cell_type": "code",
   "execution_count": 14,
   "metadata": {},
   "outputs": [
    {
     "data": {
      "text/plain": [
       "100"
      ]
     },
     "execution_count": 14,
     "metadata": {},
     "output_type": "execute_result"
    }
   ],
   "source": [
    "bin_to_num(num_to_bin(100))"
   ]
  },
  {
   "cell_type": "code",
   "execution_count": 15,
   "metadata": {},
   "outputs": [
    {
     "data": {
      "text/plain": [
       "[1, 2, 3]"
      ]
     },
     "execution_count": 15,
     "metadata": {},
     "output_type": "execute_result"
    }
   ],
   "source": [
    "vec_to_l(l_to_vec([1,2,3], 14, 5),5)"
   ]
  },
  {
   "cell_type": "code",
   "execution_count": 16,
   "metadata": {
    "collapsed": true
   },
   "outputs": [],
   "source": [
    "ms_length = int(math.log(num_label)/math.log(2)) + 1\n",
    "Y_tr_true = [l_to_vec(data_point.labels, label_k, ms_length) for data_point in data]"
   ]
  },
  {
   "cell_type": "code",
   "execution_count": 17,
   "metadata": {},
   "outputs": [
    {
     "data": {
      "text/plain": [
       "108"
      ]
     },
     "execution_count": 17,
     "metadata": {},
     "output_type": "execute_result"
    }
   ],
   "source": [
    "len(Y_tr_true[0])"
   ]
  },
  {
   "cell_type": "markdown",
   "metadata": {},
   "source": [
    "### 2.2 Channel Encoding: Add parity check to label vector\n",
    "we apply the traditional error correcting codes to the label vector to get a fixed length new output vector.\n",
    "\n",
    "Here, we use the LDPC(Low-density parity-check code) to encode the  compessed label vectors.\n",
    "\n",
    "The details of LDPC can be seen [here](https://en.wikipedia.org/wiki/Low-density_parity-check_code)\n",
    "\n",
    "the LDPCCoder class is like this:\n",
    "```Python\n",
    "    >> ldpc = LDPCCoder(10)\n",
    "    >> received_codeword = ldpc.encode([0,0,0,1,0,1,1,1,1,1])\n",
    "    >> for i in xrange(len(received_codeword)):\n",
    "    ....   if np.random.rand() > 0.95:\n",
    "    ....   received_codeword[i] = 1 - received_codeword[i]\n",
    "    >> ldpc.decode(received_codeword)\n",
    "    array([0, 0, 0, 1, 0, 1, 1, 1, 1, 1])\n",
    "```"
   ]
  },
  {
   "cell_type": "code",
   "execution_count": 18,
   "metadata": {},
   "outputs": [
    {
     "name": "stdout",
     "output_type": "stream",
     "text": [
      "message length = 20, code_word length =42\n"
     ]
    }
   ],
   "source": [
    "n = 20 # we can translate 10 bits.\n",
    "ldpc = LDPCCoder(n, flip_p=0.1)\n",
    "print(\"message length = {}, code_word length ={}\".format(ldpc.bits, ldpc.code_length))"
   ]
  },
  {
   "cell_type": "code",
   "execution_count": 19,
   "metadata": {
    "collapsed": true
   },
   "outputs": [],
   "source": [
    "Y_tr = np.array([ldpc.encode(label_vec) for label_vec in Y_tr_true])"
   ]
  },
  {
   "cell_type": "code",
   "execution_count": 20,
   "metadata": {
    "scrolled": true
   },
   "outputs": [
    {
     "data": {
      "text/plain": [
       "(15539, 252)"
      ]
     },
     "execution_count": 20,
     "metadata": {},
     "output_type": "execute_result"
    }
   ],
   "source": [
    "Y_tr.shape"
   ]
  },
  {
   "cell_type": "markdown",
   "metadata": {},
   "source": [
    "## Step3: train the classifiers\n",
    "train binary classifers for each of the input (X_tr,Y_tr[i,:]) data.\n",
    "\n",
    "Over the transformed vector, train a binary classifier for each of them is just use the one vs rest multi-class algorithm. Here we choose the LogisticRegression algorithm in sklearn."
   ]
  },
  {
   "cell_type": "code",
   "execution_count": 21,
   "metadata": {
    "collapsed": true
   },
   "outputs": [],
   "source": [
    "from sklearn.preprocessing import StandardScaler\n",
    "from sklearn.linear_model import LogisticRegression\n",
    "from sklearn.linear_model import LinearRegression\n",
    "from sklearn.externals import joblib\n",
    "from sklearn.utils import shuffle\n",
    "from sklearn.svm import LinearSVC\n",
    "from sklearn.svm import SVC\n",
    "import os"
   ]
  },
  {
   "cell_type": "code",
   "execution_count": 22,
   "metadata": {
    "collapsed": true
   },
   "outputs": [],
   "source": [
    "# map features to corresponding position\n",
    "prominent_feature = list(prominent_feature)\n",
    "feature_to_id = {}\n",
    "for n, feature in enumerate(prominent_feature):\n",
    "    feature_to_id[feature] = n"
   ]
  },
  {
   "cell_type": "code",
   "execution_count": 23,
   "metadata": {
    "collapsed": true
   },
   "outputs": [],
   "source": [
    "def feature_to_bin(features, _feature_num):\n",
    "    vec = np.zeros(_feature_num)\n",
    "    for key in features:\n",
    "        vec[feature_to_id[key]] = features[key]\n",
    "    return vec"
   ]
  },
  {
   "cell_type": "code",
   "execution_count": 24,
   "metadata": {},
   "outputs": [
    {
     "data": {
      "text/plain": [
       "(15539, 45)"
      ]
     },
     "execution_count": 24,
     "metadata": {},
     "output_type": "execute_result"
    }
   ],
   "source": [
    "X_tr = np.array([feature_to_bin(data_point.features, len(prominent_feature)) for data_point in data])\n",
    "X_tr.shape"
   ]
  },
  {
   "cell_type": "code",
   "execution_count": 25,
   "metadata": {},
   "outputs": [
    {
     "data": {
      "text/plain": [
       "(15539, 45)"
      ]
     },
     "execution_count": 25,
     "metadata": {},
     "output_type": "execute_result"
    }
   ],
   "source": [
    "# normalize the data\n",
    "scaler = StandardScaler().fit(X_tr)\n",
    "X_tr = scaler.transform(X_tr)\n",
    "X_tr.shape"
   ]
  },
  {
   "cell_type": "code",
   "execution_count": 26,
   "metadata": {
    "collapsed": true
   },
   "outputs": [],
   "source": [
    "X_tr, Y_tr = shuffle(X_tr, Y_tr, random_state=0)"
   ]
  },
  {
   "cell_type": "code",
   "execution_count": 27,
   "metadata": {
    "collapsed": true
   },
   "outputs": [],
   "source": [
    "class fake_classifer(): #handle the case that all data in the same class...\n",
    "    def __init__(self, x):\n",
    "        self.x = x\n",
    "        \n",
    "    def predict(self, X):\n",
    "        pred = np.ones(X.shape[0], dtype=np.int)\n",
    "        return pred*self.x\n"
   ]
  },
  {
   "cell_type": "code",
   "execution_count": 111,
   "metadata": {
    "scrolled": true
   },
   "outputs": [
    {
     "name": "stdout",
     "output_type": "stream",
     "text": [
      "Trianning model for the 0th bit\n",
      "... ... ... \n",
      "Model for 0th bit successfully stored in ../.model/Eurlex/label0.pkl\n",
      "\n",
      "Trianning model for the 1th bit\n",
      "... ... ... \n",
      "Model for 1th bit successfully stored in ../.model/Eurlex/label1.pkl\n",
      "\n",
      "Trianning model for the 2th bit\n",
      "... ... ... \n",
      "Model for 2th bit successfully stored in ../.model/Eurlex/label2.pkl\n",
      "\n",
      "Trianning model for the 3th bit\n",
      "... ... ... \n",
      "Model for 3th bit successfully stored in ../.model/Eurlex/label3.pkl\n",
      "\n",
      "Trianning model for the 4th bit\n",
      "... ... ... \n",
      "Model for 4th bit successfully stored in ../.model/Eurlex/label4.pkl\n",
      "\n",
      "Trianning model for the 5th bit\n",
      "... ... ... \n",
      "Model for 5th bit successfully stored in ../.model/Eurlex/label5.pkl\n",
      "\n",
      "Trianning model for the 6th bit\n",
      "... ... ... \n",
      "Model for 6th bit successfully stored in ../.model/Eurlex/label6.pkl\n",
      "\n",
      "Trianning model for the 7th bit\n",
      "... ... ... \n",
      "Model for 7th bit successfully stored in ../.model/Eurlex/label7.pkl\n",
      "\n",
      "Trianning model for the 8th bit\n",
      "... ... ... \n",
      "Model for 8th bit successfully stored in ../.model/Eurlex/label8.pkl\n",
      "\n",
      "Trianning model for the 9th bit\n",
      "... ... ... \n",
      "Model for 9th bit successfully stored in ../.model/Eurlex/label9.pkl\n",
      "\n",
      "Trianning model for the 10th bit\n",
      "... ... ... \n",
      "Model for 10th bit successfully stored in ../.model/Eurlex/label10.pkl\n",
      "\n",
      "Trianning model for the 11th bit\n",
      "... ... ... \n",
      "Model for 11th bit successfully stored in ../.model/Eurlex/label11.pkl\n",
      "\n",
      "Trianning model for the 12th bit\n",
      "... ... ... \n",
      "Model for 12th bit successfully stored in ../.model/Eurlex/label12.pkl\n",
      "\n",
      "Trianning model for the 13th bit\n",
      "... ... ... \n",
      "Model for 13th bit successfully stored in ../.model/Eurlex/label13.pkl\n",
      "\n",
      "Trianning model for the 14th bit\n",
      "... ... ... \n",
      "Model for 14th bit successfully stored in ../.model/Eurlex/label14.pkl\n",
      "\n",
      "Trianning model for the 15th bit\n",
      "... ... ... \n",
      "Model for 15th bit successfully stored in ../.model/Eurlex/label15.pkl\n",
      "\n",
      "Trianning model for the 16th bit\n",
      "... ... ... \n",
      "Model for 16th bit successfully stored in ../.model/Eurlex/label16.pkl\n",
      "\n",
      "Trianning model for the 17th bit\n",
      "... ... ... \n",
      "Model for 17th bit successfully stored in ../.model/Eurlex/label17.pkl\n",
      "\n",
      "Trianning model for the 18th bit\n",
      "... ... ... \n",
      "Model for 18th bit successfully stored in ../.model/Eurlex/label18.pkl\n",
      "\n",
      "Trianning model for the 19th bit\n",
      "... ... ... \n",
      "Model for 19th bit successfully stored in ../.model/Eurlex/label19.pkl\n",
      "\n",
      "Trianning model for the 20th bit\n",
      "... ... ... \n",
      "Model for 20th bit successfully stored in ../.model/Eurlex/label20.pkl\n",
      "\n",
      "Trianning model for the 21th bit\n",
      "... ... ... \n",
      "Model for 21th bit successfully stored in ../.model/Eurlex/label21.pkl\n",
      "\n",
      "Trianning model for the 22th bit\n",
      "... ... ... \n",
      "Model for 22th bit successfully stored in ../.model/Eurlex/label22.pkl\n",
      "\n",
      "Trianning model for the 23th bit\n",
      "... ... ... \n",
      "Model for 23th bit successfully stored in ../.model/Eurlex/label23.pkl\n",
      "\n",
      "Trianning model for the 24th bit\n",
      "... ... ... \n",
      "Model for 24th bit successfully stored in ../.model/Eurlex/label24.pkl\n",
      "\n",
      "Trianning model for the 25th bit\n",
      "... ... ... \n",
      "Model for 25th bit successfully stored in ../.model/Eurlex/label25.pkl\n",
      "\n",
      "Trianning model for the 26th bit\n",
      "... ... ... \n",
      "Model for 26th bit successfully stored in ../.model/Eurlex/label26.pkl\n",
      "\n",
      "Trianning model for the 27th bit\n",
      "... ... ... \n",
      "Model for 27th bit successfully stored in ../.model/Eurlex/label27.pkl\n",
      "\n",
      "Trianning model for the 28th bit\n",
      "... ... ... \n",
      "Model for 28th bit successfully stored in ../.model/Eurlex/label28.pkl\n",
      "\n",
      "Trianning model for the 29th bit\n",
      "... ... ... \n",
      "Model for 29th bit successfully stored in ../.model/Eurlex/label29.pkl\n",
      "\n",
      "Trianning model for the 30th bit\n",
      "... ... ... \n",
      "Model for 30th bit successfully stored in ../.model/Eurlex/label30.pkl\n",
      "\n",
      "Trianning model for the 31th bit\n",
      "... ... ... \n",
      "Model for 31th bit successfully stored in ../.model/Eurlex/label31.pkl\n",
      "\n",
      "Trianning model for the 32th bit\n",
      "... ... ... \n",
      "Model for 32th bit successfully stored in ../.model/Eurlex/label32.pkl\n",
      "\n",
      "Trianning model for the 33th bit\n",
      "... ... ... \n",
      "Model for 33th bit successfully stored in ../.model/Eurlex/label33.pkl\n",
      "\n",
      "Trianning model for the 34th bit\n",
      "... ... ... \n",
      "Model for 34th bit successfully stored in ../.model/Eurlex/label34.pkl\n",
      "\n",
      "Trianning model for the 35th bit\n",
      "... ... ... \n",
      "Model for 35th bit successfully stored in ../.model/Eurlex/label35.pkl\n",
      "\n",
      "Trianning model for the 36th bit\n",
      "... ... ... \n",
      "Model for 36th bit successfully stored in ../.model/Eurlex/label36.pkl\n",
      "\n",
      "Trianning model for the 37th bit\n",
      "... ... ... \n",
      "Model for 37th bit successfully stored in ../.model/Eurlex/label37.pkl\n",
      "\n",
      "Trianning model for the 38th bit\n",
      "... ... ... \n",
      "Model for 38th bit successfully stored in ../.model/Eurlex/label38.pkl\n",
      "\n",
      "Trianning model for the 39th bit\n",
      "... ... ... \n",
      "39 [0 0 0 ..., 0 0 0]\n",
      "Model for 39th bit successfully stored in ../.model/Eurlex/label39.pkl\n",
      "\n",
      "Trianning model for the 40th bit\n",
      "... ... ... \n",
      "40 [0 0 0 ..., 0 0 0]\n",
      "Model for 40th bit successfully stored in ../.model/Eurlex/label40.pkl\n",
      "\n",
      "Trianning model for the 41th bit\n",
      "... ... ... \n",
      "41 [0 0 0 ..., 0 0 0]\n",
      "Model for 41th bit successfully stored in ../.model/Eurlex/label41.pkl\n",
      "\n",
      "Trianning model for the 42th bit\n",
      "... ... ... \n",
      "Model for 42th bit successfully stored in ../.model/Eurlex/label42.pkl\n",
      "\n",
      "Trianning model for the 43th bit\n",
      "... ... ... \n",
      "Model for 43th bit successfully stored in ../.model/Eurlex/label43.pkl\n",
      "\n",
      "Trianning model for the 44th bit\n",
      "... ... ... \n",
      "Model for 44th bit successfully stored in ../.model/Eurlex/label44.pkl\n",
      "\n",
      "Trianning model for the 45th bit\n",
      "... ... ... \n",
      "Model for 45th bit successfully stored in ../.model/Eurlex/label45.pkl\n",
      "\n",
      "Trianning model for the 46th bit\n",
      "... ... ... \n",
      "Model for 46th bit successfully stored in ../.model/Eurlex/label46.pkl\n",
      "\n",
      "Trianning model for the 47th bit\n",
      "... ... ... \n",
      "Model for 47th bit successfully stored in ../.model/Eurlex/label47.pkl\n",
      "\n",
      "Trianning model for the 48th bit\n",
      "... ... ... \n",
      "Model for 48th bit successfully stored in ../.model/Eurlex/label48.pkl\n",
      "\n",
      "Trianning model for the 49th bit\n",
      "... ... ... \n",
      "Model for 49th bit successfully stored in ../.model/Eurlex/label49.pkl\n",
      "\n",
      "Trianning model for the 50th bit\n",
      "... ... ... \n",
      "Model for 50th bit successfully stored in ../.model/Eurlex/label50.pkl\n",
      "\n",
      "Trianning model for the 51th bit\n",
      "... ... ... \n",
      "Model for 51th bit successfully stored in ../.model/Eurlex/label51.pkl\n",
      "\n",
      "Trianning model for the 52th bit\n",
      "... ... ... \n",
      "Model for 52th bit successfully stored in ../.model/Eurlex/label52.pkl\n",
      "\n",
      "Trianning model for the 53th bit\n",
      "... ... ... \n",
      "Model for 53th bit successfully stored in ../.model/Eurlex/label53.pkl\n",
      "\n",
      "Trianning model for the 54th bit\n",
      "... ... ... \n",
      "Model for 54th bit successfully stored in ../.model/Eurlex/label54.pkl\n",
      "\n",
      "Trianning model for the 55th bit\n",
      "... ... ... \n",
      "Model for 55th bit successfully stored in ../.model/Eurlex/label55.pkl\n",
      "\n",
      "Trianning model for the 56th bit\n",
      "... ... ... \n",
      "Model for 56th bit successfully stored in ../.model/Eurlex/label56.pkl\n",
      "\n",
      "Trianning model for the 57th bit\n",
      "... ... ... \n",
      "Model for 57th bit successfully stored in ../.model/Eurlex/label57.pkl\n",
      "\n",
      "Trianning model for the 58th bit\n",
      "... ... ... \n",
      "Model for 58th bit successfully stored in ../.model/Eurlex/label58.pkl\n",
      "\n",
      "Trianning model for the 59th bit\n",
      "... ... ... \n",
      "Model for 59th bit successfully stored in ../.model/Eurlex/label59.pkl\n",
      "\n",
      "Trianning model for the 60th bit\n",
      "... ... ... \n",
      "Model for 60th bit successfully stored in ../.model/Eurlex/label60.pkl\n",
      "\n",
      "Trianning model for the 61th bit\n",
      "... ... ... \n",
      "Model for 61th bit successfully stored in ../.model/Eurlex/label61.pkl\n",
      "\n",
      "Trianning model for the 62th bit\n",
      "... ... ... \n",
      "Model for 62th bit successfully stored in ../.model/Eurlex/label62.pkl\n",
      "\n",
      "Trianning model for the 63th bit\n",
      "... ... ... \n",
      "Model for 63th bit successfully stored in ../.model/Eurlex/label63.pkl\n",
      "\n",
      "Trianning model for the 64th bit\n",
      "... ... ... \n",
      "Model for 64th bit successfully stored in ../.model/Eurlex/label64.pkl\n",
      "\n",
      "Trianning model for the 65th bit\n",
      "... ... ... \n",
      "Model for 65th bit successfully stored in ../.model/Eurlex/label65.pkl\n",
      "\n",
      "Trianning model for the 66th bit\n",
      "... ... ... \n",
      "Model for 66th bit successfully stored in ../.model/Eurlex/label66.pkl\n",
      "\n",
      "Trianning model for the 67th bit\n",
      "... ... ... \n",
      "Model for 67th bit successfully stored in ../.model/Eurlex/label67.pkl\n",
      "\n",
      "Trianning model for the 68th bit\n",
      "... ... ... \n",
      "Model for 68th bit successfully stored in ../.model/Eurlex/label68.pkl\n",
      "\n",
      "Trianning model for the 69th bit\n",
      "... ... ... \n",
      "Model for 69th bit successfully stored in ../.model/Eurlex/label69.pkl\n",
      "\n",
      "Trianning model for the 70th bit\n",
      "... ... ... \n"
     ]
    },
    {
     "name": "stdout",
     "output_type": "stream",
     "text": [
      "Model for 70th bit successfully stored in ../.model/Eurlex/label70.pkl\n",
      "\n",
      "Trianning model for the 71th bit\n",
      "... ... ... \n",
      "Model for 71th bit successfully stored in ../.model/Eurlex/label71.pkl\n",
      "\n",
      "Trianning model for the 72th bit\n",
      "... ... ... \n",
      "Model for 72th bit successfully stored in ../.model/Eurlex/label72.pkl\n",
      "\n",
      "Trianning model for the 73th bit\n",
      "... ... ... \n",
      "Model for 73th bit successfully stored in ../.model/Eurlex/label73.pkl\n",
      "\n",
      "Trianning model for the 74th bit\n",
      "... ... ... \n",
      "Model for 74th bit successfully stored in ../.model/Eurlex/label74.pkl\n",
      "\n",
      "Trianning model for the 75th bit\n",
      "... ... ... \n",
      "Model for 75th bit successfully stored in ../.model/Eurlex/label75.pkl\n",
      "\n",
      "Trianning model for the 76th bit\n",
      "... ... ... \n",
      "Model for 76th bit successfully stored in ../.model/Eurlex/label76.pkl\n",
      "\n",
      "Trianning model for the 77th bit\n",
      "... ... ... \n",
      "Model for 77th bit successfully stored in ../.model/Eurlex/label77.pkl\n",
      "\n",
      "Trianning model for the 78th bit\n",
      "... ... ... \n",
      "Model for 78th bit successfully stored in ../.model/Eurlex/label78.pkl\n",
      "\n",
      "Trianning model for the 79th bit\n",
      "... ... ... \n",
      "Model for 79th bit successfully stored in ../.model/Eurlex/label79.pkl\n",
      "\n",
      "Trianning model for the 80th bit\n",
      "... ... ... \n",
      "Model for 80th bit successfully stored in ../.model/Eurlex/label80.pkl\n",
      "\n",
      "Trianning model for the 81th bit\n",
      "... ... ... \n",
      "81 [0 0 0 ..., 0 0 0]\n",
      "Model for 81th bit successfully stored in ../.model/Eurlex/label81.pkl\n",
      "\n",
      "Trianning model for the 82th bit\n",
      "... ... ... \n",
      "82 [0 0 0 ..., 0 0 0]\n",
      "Model for 82th bit successfully stored in ../.model/Eurlex/label82.pkl\n",
      "\n",
      "Trianning model for the 83th bit\n",
      "... ... ... \n",
      "83 [0 0 0 ..., 0 0 0]\n",
      "Model for 83th bit successfully stored in ../.model/Eurlex/label83.pkl\n",
      "\n",
      "Trianning model for the 84th bit\n",
      "... ... ... \n",
      "Model for 84th bit successfully stored in ../.model/Eurlex/label84.pkl\n",
      "\n",
      "Trianning model for the 85th bit\n",
      "... ... ... \n",
      "Model for 85th bit successfully stored in ../.model/Eurlex/label85.pkl\n",
      "\n",
      "Trianning model for the 86th bit\n",
      "... ... ... \n",
      "Model for 86th bit successfully stored in ../.model/Eurlex/label86.pkl\n",
      "\n",
      "Trianning model for the 87th bit\n",
      "... ... ... \n",
      "Model for 87th bit successfully stored in ../.model/Eurlex/label87.pkl\n",
      "\n",
      "Trianning model for the 88th bit\n",
      "... ... ... \n",
      "Model for 88th bit successfully stored in ../.model/Eurlex/label88.pkl\n",
      "\n",
      "Trianning model for the 89th bit\n",
      "... ... ... \n",
      "Model for 89th bit successfully stored in ../.model/Eurlex/label89.pkl\n",
      "\n",
      "Trianning model for the 90th bit\n",
      "... ... ... \n",
      "Model for 90th bit successfully stored in ../.model/Eurlex/label90.pkl\n",
      "\n",
      "Trianning model for the 91th bit\n",
      "... ... ... \n",
      "Model for 91th bit successfully stored in ../.model/Eurlex/label91.pkl\n",
      "\n",
      "Trianning model for the 92th bit\n",
      "... ... ... \n",
      "Model for 92th bit successfully stored in ../.model/Eurlex/label92.pkl\n",
      "\n",
      "Trianning model for the 93th bit\n",
      "... ... ... \n",
      "Model for 93th bit successfully stored in ../.model/Eurlex/label93.pkl\n",
      "\n",
      "Trianning model for the 94th bit\n",
      "... ... ... \n",
      "Model for 94th bit successfully stored in ../.model/Eurlex/label94.pkl\n",
      "\n",
      "Trianning model for the 95th bit\n",
      "... ... ... \n",
      "Model for 95th bit successfully stored in ../.model/Eurlex/label95.pkl\n",
      "\n",
      "Trianning model for the 96th bit\n",
      "... ... ... \n",
      "Model for 96th bit successfully stored in ../.model/Eurlex/label96.pkl\n",
      "\n",
      "Trianning model for the 97th bit\n",
      "... ... ... \n",
      "Model for 97th bit successfully stored in ../.model/Eurlex/label97.pkl\n",
      "\n",
      "Trianning model for the 98th bit\n",
      "... ... ... \n",
      "Model for 98th bit successfully stored in ../.model/Eurlex/label98.pkl\n",
      "\n",
      "Trianning model for the 99th bit\n",
      "... ... ... \n",
      "Model for 99th bit successfully stored in ../.model/Eurlex/label99.pkl\n",
      "\n",
      "Trianning model for the 100th bit\n",
      "... ... ... \n",
      "Model for 100th bit successfully stored in ../.model/Eurlex/label100.pkl\n",
      "\n",
      "Trianning model for the 101th bit\n",
      "... ... ... \n",
      "Model for 101th bit successfully stored in ../.model/Eurlex/label101.pkl\n",
      "\n",
      "Trianning model for the 102th bit\n",
      "... ... ... \n",
      "Model for 102th bit successfully stored in ../.model/Eurlex/label102.pkl\n",
      "\n",
      "Trianning model for the 103th bit\n",
      "... ... ... \n",
      "Model for 103th bit successfully stored in ../.model/Eurlex/label103.pkl\n",
      "\n",
      "Trianning model for the 104th bit\n",
      "... ... ... \n",
      "Model for 104th bit successfully stored in ../.model/Eurlex/label104.pkl\n",
      "\n",
      "Trianning model for the 105th bit\n",
      "... ... ... \n",
      "Model for 105th bit successfully stored in ../.model/Eurlex/label105.pkl\n",
      "\n",
      "Trianning model for the 106th bit\n",
      "... ... ... \n",
      "Model for 106th bit successfully stored in ../.model/Eurlex/label106.pkl\n",
      "\n",
      "Trianning model for the 107th bit\n",
      "... ... ... \n",
      "Model for 107th bit successfully stored in ../.model/Eurlex/label107.pkl\n",
      "\n",
      "Trianning model for the 108th bit\n",
      "... ... ... \n",
      "Model for 108th bit successfully stored in ../.model/Eurlex/label108.pkl\n",
      "\n",
      "Trianning model for the 109th bit\n",
      "... ... ... \n",
      "Model for 109th bit successfully stored in ../.model/Eurlex/label109.pkl\n",
      "\n",
      "Trianning model for the 110th bit\n",
      "... ... ... \n",
      "Model for 110th bit successfully stored in ../.model/Eurlex/label110.pkl\n",
      "\n",
      "Trianning model for the 111th bit\n",
      "... ... ... \n",
      "Model for 111th bit successfully stored in ../.model/Eurlex/label111.pkl\n",
      "\n",
      "Trianning model for the 112th bit\n",
      "... ... ... \n",
      "Model for 112th bit successfully stored in ../.model/Eurlex/label112.pkl\n",
      "\n",
      "Trianning model for the 113th bit\n",
      "... ... ... \n",
      "Model for 113th bit successfully stored in ../.model/Eurlex/label113.pkl\n",
      "\n",
      "Trianning model for the 114th bit\n",
      "... ... ... \n",
      "Model for 114th bit successfully stored in ../.model/Eurlex/label114.pkl\n",
      "\n",
      "Trianning model for the 115th bit\n",
      "... ... ... \n",
      "Model for 115th bit successfully stored in ../.model/Eurlex/label115.pkl\n",
      "\n",
      "Trianning model for the 116th bit\n",
      "... ... ... \n",
      "Model for 116th bit successfully stored in ../.model/Eurlex/label116.pkl\n",
      "\n",
      "Trianning model for the 117th bit\n",
      "... ... ... \n",
      "Model for 117th bit successfully stored in ../.model/Eurlex/label117.pkl\n",
      "\n",
      "Trianning model for the 118th bit\n",
      "... ... ... \n",
      "Model for 118th bit successfully stored in ../.model/Eurlex/label118.pkl\n",
      "\n",
      "Trianning model for the 119th bit\n",
      "... ... ... \n",
      "Model for 119th bit successfully stored in ../.model/Eurlex/label119.pkl\n",
      "\n",
      "Trianning model for the 120th bit\n",
      "... ... ... \n",
      "Model for 120th bit successfully stored in ../.model/Eurlex/label120.pkl\n",
      "\n",
      "Trianning model for the 121th bit\n",
      "... ... ... \n",
      "Model for 121th bit successfully stored in ../.model/Eurlex/label121.pkl\n",
      "\n",
      "Trianning model for the 122th bit\n",
      "... ... ... \n",
      "Model for 122th bit successfully stored in ../.model/Eurlex/label122.pkl\n",
      "\n",
      "Trianning model for the 123th bit\n",
      "... ... ... \n",
      "123 [0 0 0 ..., 0 0 0]\n",
      "Model for 123th bit successfully stored in ../.model/Eurlex/label123.pkl\n",
      "\n",
      "Trianning model for the 124th bit\n",
      "... ... ... \n",
      "124 [0 0 0 ..., 0 0 0]\n",
      "Model for 124th bit successfully stored in ../.model/Eurlex/label124.pkl\n",
      "\n",
      "Trianning model for the 125th bit\n",
      "... ... ... \n",
      "125 [0 0 0 ..., 0 0 0]\n",
      "Model for 125th bit successfully stored in ../.model/Eurlex/label125.pkl\n",
      "\n",
      "Trianning model for the 126th bit\n",
      "... ... ... \n",
      "Model for 126th bit successfully stored in ../.model/Eurlex/label126.pkl\n",
      "\n",
      "Trianning model for the 127th bit\n",
      "... ... ... \n",
      "Model for 127th bit successfully stored in ../.model/Eurlex/label127.pkl\n",
      "\n",
      "Trianning model for the 128th bit\n",
      "... ... ... \n",
      "Model for 128th bit successfully stored in ../.model/Eurlex/label128.pkl\n",
      "\n",
      "Trianning model for the 129th bit\n",
      "... ... ... \n",
      "Model for 129th bit successfully stored in ../.model/Eurlex/label129.pkl\n",
      "\n",
      "Trianning model for the 130th bit\n",
      "... ... ... \n",
      "Model for 130th bit successfully stored in ../.model/Eurlex/label130.pkl\n",
      "\n",
      "Trianning model for the 131th bit\n",
      "... ... ... \n",
      "Model for 131th bit successfully stored in ../.model/Eurlex/label131.pkl\n",
      "\n",
      "Trianning model for the 132th bit\n",
      "... ... ... \n",
      "Model for 132th bit successfully stored in ../.model/Eurlex/label132.pkl\n",
      "\n",
      "Trianning model for the 133th bit\n",
      "... ... ... \n",
      "Model for 133th bit successfully stored in ../.model/Eurlex/label133.pkl\n",
      "\n",
      "Trianning model for the 134th bit\n",
      "... ... ... \n",
      "Model for 134th bit successfully stored in ../.model/Eurlex/label134.pkl\n",
      "\n",
      "Trianning model for the 135th bit\n",
      "... ... ... \n",
      "Model for 135th bit successfully stored in ../.model/Eurlex/label135.pkl\n",
      "\n",
      "Trianning model for the 136th bit\n",
      "... ... ... \n",
      "Model for 136th bit successfully stored in ../.model/Eurlex/label136.pkl\n",
      "\n",
      "Trianning model for the 137th bit\n",
      "... ... ... \n",
      "Model for 137th bit successfully stored in ../.model/Eurlex/label137.pkl\n",
      "\n",
      "Trianning model for the 138th bit\n",
      "... ... ... \n",
      "Model for 138th bit successfully stored in ../.model/Eurlex/label138.pkl\n",
      "\n",
      "Trianning model for the 139th bit\n",
      "... ... ... \n"
     ]
    },
    {
     "name": "stdout",
     "output_type": "stream",
     "text": [
      "Model for 139th bit successfully stored in ../.model/Eurlex/label139.pkl\n",
      "\n",
      "Trianning model for the 140th bit\n",
      "... ... ... \n",
      "Model for 140th bit successfully stored in ../.model/Eurlex/label140.pkl\n",
      "\n",
      "Trianning model for the 141th bit\n",
      "... ... ... \n",
      "Model for 141th bit successfully stored in ../.model/Eurlex/label141.pkl\n",
      "\n",
      "Trianning model for the 142th bit\n",
      "... ... ... \n",
      "Model for 142th bit successfully stored in ../.model/Eurlex/label142.pkl\n",
      "\n",
      "Trianning model for the 143th bit\n",
      "... ... ... \n",
      "Model for 143th bit successfully stored in ../.model/Eurlex/label143.pkl\n",
      "\n",
      "Trianning model for the 144th bit\n",
      "... ... ... \n",
      "Model for 144th bit successfully stored in ../.model/Eurlex/label144.pkl\n",
      "\n",
      "Trianning model for the 145th bit\n",
      "... ... ... \n",
      "Model for 145th bit successfully stored in ../.model/Eurlex/label145.pkl\n",
      "\n",
      "Trianning model for the 146th bit\n",
      "... ... ... \n",
      "Model for 146th bit successfully stored in ../.model/Eurlex/label146.pkl\n",
      "\n",
      "Trianning model for the 147th bit\n",
      "... ... ... \n",
      "Model for 147th bit successfully stored in ../.model/Eurlex/label147.pkl\n",
      "\n",
      "Trianning model for the 148th bit\n",
      "... ... ... \n",
      "Model for 148th bit successfully stored in ../.model/Eurlex/label148.pkl\n",
      "\n",
      "Trianning model for the 149th bit\n",
      "... ... ... \n",
      "Model for 149th bit successfully stored in ../.model/Eurlex/label149.pkl\n",
      "\n",
      "Trianning model for the 150th bit\n",
      "... ... ... \n",
      "Model for 150th bit successfully stored in ../.model/Eurlex/label150.pkl\n",
      "\n",
      "Trianning model for the 151th bit\n",
      "... ... ... \n",
      "Model for 151th bit successfully stored in ../.model/Eurlex/label151.pkl\n",
      "\n",
      "Trianning model for the 152th bit\n",
      "... ... ... \n",
      "Model for 152th bit successfully stored in ../.model/Eurlex/label152.pkl\n",
      "\n",
      "Trianning model for the 153th bit\n",
      "... ... ... \n",
      "Model for 153th bit successfully stored in ../.model/Eurlex/label153.pkl\n",
      "\n",
      "Trianning model for the 154th bit\n",
      "... ... ... \n",
      "Model for 154th bit successfully stored in ../.model/Eurlex/label154.pkl\n",
      "\n",
      "Trianning model for the 155th bit\n",
      "... ... ... \n",
      "Model for 155th bit successfully stored in ../.model/Eurlex/label155.pkl\n",
      "\n",
      "Trianning model for the 156th bit\n",
      "... ... ... \n",
      "Model for 156th bit successfully stored in ../.model/Eurlex/label156.pkl\n",
      "\n",
      "Trianning model for the 157th bit\n",
      "... ... ... \n",
      "Model for 157th bit successfully stored in ../.model/Eurlex/label157.pkl\n",
      "\n",
      "Trianning model for the 158th bit\n",
      "... ... ... \n",
      "Model for 158th bit successfully stored in ../.model/Eurlex/label158.pkl\n",
      "\n",
      "Trianning model for the 159th bit\n",
      "... ... ... \n",
      "Model for 159th bit successfully stored in ../.model/Eurlex/label159.pkl\n",
      "\n",
      "Trianning model for the 160th bit\n",
      "... ... ... \n",
      "Model for 160th bit successfully stored in ../.model/Eurlex/label160.pkl\n",
      "\n",
      "Trianning model for the 161th bit\n",
      "... ... ... \n",
      "Model for 161th bit successfully stored in ../.model/Eurlex/label161.pkl\n",
      "\n",
      "Trianning model for the 162th bit\n",
      "... ... ... \n",
      "Model for 162th bit successfully stored in ../.model/Eurlex/label162.pkl\n",
      "\n",
      "Trianning model for the 163th bit\n",
      "... ... ... \n",
      "Model for 163th bit successfully stored in ../.model/Eurlex/label163.pkl\n",
      "\n",
      "Trianning model for the 164th bit\n",
      "... ... ... \n",
      "Model for 164th bit successfully stored in ../.model/Eurlex/label164.pkl\n",
      "\n",
      "Trianning model for the 165th bit\n",
      "... ... ... \n",
      "165 [0 0 0 ..., 0 0 0]\n",
      "Model for 165th bit successfully stored in ../.model/Eurlex/label165.pkl\n",
      "\n",
      "Trianning model for the 166th bit\n",
      "... ... ... \n",
      "166 [0 0 0 ..., 0 0 0]\n",
      "Model for 166th bit successfully stored in ../.model/Eurlex/label166.pkl\n",
      "\n",
      "Trianning model for the 167th bit\n",
      "... ... ... \n",
      "167 [0 0 0 ..., 0 0 0]\n",
      "Model for 167th bit successfully stored in ../.model/Eurlex/label167.pkl\n",
      "\n",
      "Trianning model for the 168th bit\n",
      "... ... ... \n",
      "Model for 168th bit successfully stored in ../.model/Eurlex/label168.pkl\n",
      "\n",
      "Trianning model for the 169th bit\n",
      "... ... ... \n",
      "Model for 169th bit successfully stored in ../.model/Eurlex/label169.pkl\n",
      "\n",
      "Trianning model for the 170th bit\n",
      "... ... ... \n",
      "Model for 170th bit successfully stored in ../.model/Eurlex/label170.pkl\n",
      "\n",
      "Trianning model for the 171th bit\n",
      "... ... ... \n",
      "Model for 171th bit successfully stored in ../.model/Eurlex/label171.pkl\n",
      "\n",
      "Trianning model for the 172th bit\n",
      "... ... ... \n",
      "Model for 172th bit successfully stored in ../.model/Eurlex/label172.pkl\n",
      "\n",
      "Trianning model for the 173th bit\n",
      "... ... ... \n",
      "Model for 173th bit successfully stored in ../.model/Eurlex/label173.pkl\n",
      "\n",
      "Trianning model for the 174th bit\n",
      "... ... ... \n",
      "Model for 174th bit successfully stored in ../.model/Eurlex/label174.pkl\n",
      "\n",
      "Trianning model for the 175th bit\n",
      "... ... ... \n",
      "Model for 175th bit successfully stored in ../.model/Eurlex/label175.pkl\n",
      "\n",
      "Trianning model for the 176th bit\n",
      "... ... ... \n",
      "Model for 176th bit successfully stored in ../.model/Eurlex/label176.pkl\n",
      "\n",
      "Trianning model for the 177th bit\n",
      "... ... ... \n",
      "Model for 177th bit successfully stored in ../.model/Eurlex/label177.pkl\n",
      "\n",
      "Trianning model for the 178th bit\n",
      "... ... ... \n",
      "Model for 178th bit successfully stored in ../.model/Eurlex/label178.pkl\n",
      "\n",
      "Trianning model for the 179th bit\n",
      "... ... ... \n",
      "Model for 179th bit successfully stored in ../.model/Eurlex/label179.pkl\n",
      "\n",
      "Trianning model for the 180th bit\n",
      "... ... ... \n",
      "Model for 180th bit successfully stored in ../.model/Eurlex/label180.pkl\n",
      "\n",
      "Trianning model for the 181th bit\n",
      "... ... ... \n",
      "Model for 181th bit successfully stored in ../.model/Eurlex/label181.pkl\n",
      "\n",
      "Trianning model for the 182th bit\n",
      "... ... ... \n",
      "Model for 182th bit successfully stored in ../.model/Eurlex/label182.pkl\n",
      "\n",
      "Trianning model for the 183th bit\n",
      "... ... ... \n",
      "Model for 183th bit successfully stored in ../.model/Eurlex/label183.pkl\n",
      "\n",
      "Trianning model for the 184th bit\n",
      "... ... ... \n",
      "Model for 184th bit successfully stored in ../.model/Eurlex/label184.pkl\n",
      "\n",
      "Trianning model for the 185th bit\n",
      "... ... ... \n",
      "Model for 185th bit successfully stored in ../.model/Eurlex/label185.pkl\n",
      "\n",
      "Trianning model for the 186th bit\n",
      "... ... ... \n",
      "Model for 186th bit successfully stored in ../.model/Eurlex/label186.pkl\n",
      "\n",
      "Trianning model for the 187th bit\n",
      "... ... ... \n",
      "Model for 187th bit successfully stored in ../.model/Eurlex/label187.pkl\n",
      "\n",
      "Trianning model for the 188th bit\n",
      "... ... ... \n",
      "Model for 188th bit successfully stored in ../.model/Eurlex/label188.pkl\n",
      "\n",
      "Trianning model for the 189th bit\n",
      "... ... ... \n",
      "Model for 189th bit successfully stored in ../.model/Eurlex/label189.pkl\n",
      "\n",
      "Trianning model for the 190th bit\n",
      "... ... ... \n",
      "Model for 190th bit successfully stored in ../.model/Eurlex/label190.pkl\n",
      "\n",
      "Trianning model for the 191th bit\n",
      "... ... ... \n",
      "Model for 191th bit successfully stored in ../.model/Eurlex/label191.pkl\n",
      "\n",
      "Trianning model for the 192th bit\n",
      "... ... ... \n",
      "Model for 192th bit successfully stored in ../.model/Eurlex/label192.pkl\n",
      "\n",
      "Trianning model for the 193th bit\n",
      "... ... ... \n",
      "Model for 193th bit successfully stored in ../.model/Eurlex/label193.pkl\n",
      "\n",
      "Trianning model for the 194th bit\n",
      "... ... ... \n",
      "Model for 194th bit successfully stored in ../.model/Eurlex/label194.pkl\n",
      "\n",
      "Trianning model for the 195th bit\n",
      "... ... ... \n",
      "Model for 195th bit successfully stored in ../.model/Eurlex/label195.pkl\n",
      "\n",
      "Trianning model for the 196th bit\n",
      "... ... ... \n",
      "Model for 196th bit successfully stored in ../.model/Eurlex/label196.pkl\n",
      "\n",
      "Trianning model for the 197th bit\n",
      "... ... ... \n",
      "Model for 197th bit successfully stored in ../.model/Eurlex/label197.pkl\n",
      "\n",
      "Trianning model for the 198th bit\n",
      "... ... ... \n",
      "Model for 198th bit successfully stored in ../.model/Eurlex/label198.pkl\n",
      "\n",
      "Trianning model for the 199th bit\n",
      "... ... ... \n",
      "Model for 199th bit successfully stored in ../.model/Eurlex/label199.pkl\n",
      "\n",
      "Trianning model for the 200th bit\n",
      "... ... ... \n",
      "Model for 200th bit successfully stored in ../.model/Eurlex/label200.pkl\n",
      "\n",
      "Trianning model for the 201th bit\n",
      "... ... ... \n",
      "Model for 201th bit successfully stored in ../.model/Eurlex/label201.pkl\n",
      "\n",
      "Trianning model for the 202th bit\n",
      "... ... ... \n",
      "Model for 202th bit successfully stored in ../.model/Eurlex/label202.pkl\n",
      "\n",
      "Trianning model for the 203th bit\n",
      "... ... ... \n",
      "Model for 203th bit successfully stored in ../.model/Eurlex/label203.pkl\n",
      "\n",
      "Trianning model for the 204th bit\n",
      "... ... ... \n",
      "Model for 204th bit successfully stored in ../.model/Eurlex/label204.pkl\n",
      "\n",
      "Trianning model for the 205th bit\n",
      "... ... ... \n",
      "Model for 205th bit successfully stored in ../.model/Eurlex/label205.pkl\n",
      "\n",
      "Trianning model for the 206th bit\n",
      "... ... ... \n",
      "Model for 206th bit successfully stored in ../.model/Eurlex/label206.pkl\n",
      "\n",
      "Trianning model for the 207th bit\n",
      "... ... ... \n",
      "207 [0 0 0 ..., 0 0 0]\n",
      "Model for 207th bit successfully stored in ../.model/Eurlex/label207.pkl\n",
      "\n",
      "Trianning model for the 208th bit\n",
      "... ... ... \n",
      "208 [0 0 0 ..., 0 0 0]\n",
      "Model for 208th bit successfully stored in ../.model/Eurlex/label208.pkl\n",
      "\n",
      "Trianning model for the 209th bit\n",
      "... ... ... \n",
      "209 [0 0 0 ..., 0 0 0]\n",
      "Model for 209th bit successfully stored in ../.model/Eurlex/label209.pkl\n",
      "\n",
      "Trianning model for the 210th bit\n",
      "... ... ... \n"
     ]
    },
    {
     "name": "stdout",
     "output_type": "stream",
     "text": [
      "Model for 210th bit successfully stored in ../.model/Eurlex/label210.pkl\n",
      "\n",
      "Trianning model for the 211th bit\n",
      "... ... ... \n",
      "211 [0 0 0 ..., 0 0 0]\n",
      "Model for 211th bit successfully stored in ../.model/Eurlex/label211.pkl\n",
      "\n",
      "Trianning model for the 212th bit\n",
      "... ... ... \n",
      "Model for 212th bit successfully stored in ../.model/Eurlex/label212.pkl\n",
      "\n",
      "Trianning model for the 213th bit\n",
      "... ... ... \n",
      "Model for 213th bit successfully stored in ../.model/Eurlex/label213.pkl\n",
      "\n",
      "Trianning model for the 214th bit\n",
      "... ... ... \n",
      "Model for 214th bit successfully stored in ../.model/Eurlex/label214.pkl\n",
      "\n",
      "Trianning model for the 215th bit\n",
      "... ... ... \n",
      "215 [0 0 0 ..., 0 0 0]\n",
      "Model for 215th bit successfully stored in ../.model/Eurlex/label215.pkl\n",
      "\n",
      "Trianning model for the 216th bit\n",
      "... ... ... \n",
      "Model for 216th bit successfully stored in ../.model/Eurlex/label216.pkl\n",
      "\n",
      "Trianning model for the 217th bit\n",
      "... ... ... \n",
      "Model for 217th bit successfully stored in ../.model/Eurlex/label217.pkl\n",
      "\n",
      "Trianning model for the 218th bit\n",
      "... ... ... \n",
      "Model for 218th bit successfully stored in ../.model/Eurlex/label218.pkl\n",
      "\n",
      "Trianning model for the 219th bit\n",
      "... ... ... \n",
      "Model for 219th bit successfully stored in ../.model/Eurlex/label219.pkl\n",
      "\n",
      "Trianning model for the 220th bit\n",
      "... ... ... \n",
      "Model for 220th bit successfully stored in ../.model/Eurlex/label220.pkl\n",
      "\n",
      "Trianning model for the 221th bit\n",
      "... ... ... \n",
      "Model for 221th bit successfully stored in ../.model/Eurlex/label221.pkl\n",
      "\n",
      "Trianning model for the 222th bit\n",
      "... ... ... \n",
      "Model for 222th bit successfully stored in ../.model/Eurlex/label222.pkl\n",
      "\n",
      "Trianning model for the 223th bit\n",
      "... ... ... \n",
      "Model for 223th bit successfully stored in ../.model/Eurlex/label223.pkl\n",
      "\n",
      "Trianning model for the 224th bit\n",
      "... ... ... \n",
      "Model for 224th bit successfully stored in ../.model/Eurlex/label224.pkl\n",
      "\n",
      "Trianning model for the 225th bit\n",
      "... ... ... \n",
      "Model for 225th bit successfully stored in ../.model/Eurlex/label225.pkl\n",
      "\n",
      "Trianning model for the 226th bit\n",
      "... ... ... \n",
      "226 [0 0 0 ..., 0 0 0]\n",
      "Model for 226th bit successfully stored in ../.model/Eurlex/label226.pkl\n",
      "\n",
      "Trianning model for the 227th bit\n",
      "... ... ... \n",
      "Model for 227th bit successfully stored in ../.model/Eurlex/label227.pkl\n",
      "\n",
      "Trianning model for the 228th bit\n",
      "... ... ... \n",
      "Model for 228th bit successfully stored in ../.model/Eurlex/label228.pkl\n",
      "\n",
      "Trianning model for the 229th bit\n",
      "... ... ... \n",
      "Model for 229th bit successfully stored in ../.model/Eurlex/label229.pkl\n",
      "\n",
      "Trianning model for the 230th bit\n",
      "... ... ... \n",
      "Model for 230th bit successfully stored in ../.model/Eurlex/label230.pkl\n",
      "\n",
      "Trianning model for the 231th bit\n",
      "... ... ... \n",
      "Model for 231th bit successfully stored in ../.model/Eurlex/label231.pkl\n",
      "\n",
      "Trianning model for the 232th bit\n",
      "... ... ... \n",
      "Model for 232th bit successfully stored in ../.model/Eurlex/label232.pkl\n",
      "\n",
      "Trianning model for the 233th bit\n",
      "... ... ... \n",
      "Model for 233th bit successfully stored in ../.model/Eurlex/label233.pkl\n",
      "\n",
      "Trianning model for the 234th bit\n",
      "... ... ... \n",
      "Model for 234th bit successfully stored in ../.model/Eurlex/label234.pkl\n",
      "\n",
      "Trianning model for the 235th bit\n",
      "... ... ... \n",
      "Model for 235th bit successfully stored in ../.model/Eurlex/label235.pkl\n",
      "\n",
      "Trianning model for the 236th bit\n",
      "... ... ... \n",
      "Model for 236th bit successfully stored in ../.model/Eurlex/label236.pkl\n",
      "\n",
      "Trianning model for the 237th bit\n",
      "... ... ... \n",
      "237 [0 0 0 ..., 0 0 0]\n",
      "Model for 237th bit successfully stored in ../.model/Eurlex/label237.pkl\n",
      "\n",
      "Trianning model for the 238th bit\n",
      "... ... ... \n",
      "238 [0 0 0 ..., 0 0 0]\n",
      "Model for 238th bit successfully stored in ../.model/Eurlex/label238.pkl\n",
      "\n",
      "Trianning model for the 239th bit\n",
      "... ... ... \n",
      "239 [0 0 0 ..., 0 0 0]\n",
      "Model for 239th bit successfully stored in ../.model/Eurlex/label239.pkl\n",
      "\n",
      "Trianning model for the 240th bit\n",
      "... ... ... \n",
      "240 [0 0 0 ..., 0 0 0]\n",
      "Model for 240th bit successfully stored in ../.model/Eurlex/label240.pkl\n",
      "\n",
      "Trianning model for the 241th bit\n",
      "... ... ... \n",
      "241 [0 0 0 ..., 0 0 0]\n",
      "Model for 241th bit successfully stored in ../.model/Eurlex/label241.pkl\n",
      "\n",
      "Trianning model for the 242th bit\n",
      "... ... ... \n",
      "242 [0 0 0 ..., 0 0 0]\n",
      "Model for 242th bit successfully stored in ../.model/Eurlex/label242.pkl\n",
      "\n",
      "Trianning model for the 243th bit\n",
      "... ... ... \n",
      "243 [0 0 0 ..., 0 0 0]\n",
      "Model for 243th bit successfully stored in ../.model/Eurlex/label243.pkl\n",
      "\n",
      "Trianning model for the 244th bit\n",
      "... ... ... \n",
      "244 [0 0 0 ..., 0 0 0]\n",
      "Model for 244th bit successfully stored in ../.model/Eurlex/label244.pkl\n",
      "\n",
      "Trianning model for the 245th bit\n",
      "... ... ... \n",
      "245 [0 0 0 ..., 0 0 0]\n",
      "Model for 245th bit successfully stored in ../.model/Eurlex/label245.pkl\n",
      "\n",
      "Trianning model for the 246th bit\n",
      "... ... ... \n",
      "246 [0 0 0 ..., 0 0 0]\n",
      "Model for 246th bit successfully stored in ../.model/Eurlex/label246.pkl\n",
      "\n",
      "Trianning model for the 247th bit\n",
      "... ... ... \n",
      "247 [0 0 0 ..., 0 0 0]\n",
      "Model for 247th bit successfully stored in ../.model/Eurlex/label247.pkl\n",
      "\n",
      "Trianning model for the 248th bit\n",
      "... ... ... \n",
      "248 [0 0 0 ..., 0 0 0]\n",
      "Model for 248th bit successfully stored in ../.model/Eurlex/label248.pkl\n",
      "\n",
      "Trianning model for the 249th bit\n",
      "... ... ... \n",
      "249 [0 0 0 ..., 0 0 0]\n",
      "Model for 249th bit successfully stored in ../.model/Eurlex/label249.pkl\n",
      "\n",
      "Trianning model for the 250th bit\n",
      "... ... ... \n",
      "250 [0 0 0 ..., 0 0 0]\n",
      "Model for 250th bit successfully stored in ../.model/Eurlex/label250.pkl\n",
      "\n",
      "Trianning model for the 251th bit\n",
      "... ... ... \n",
      "251 [0 0 0 ..., 0 0 0]\n",
      "Model for 251th bit successfully stored in ../.model/Eurlex/label251.pkl\n",
      "\n"
     ]
    }
   ],
   "source": [
    "\n",
    "for i in range(len(Y_tr[0])):\n",
    "    print \"Trianning model for the {}th bit\\n... ... ... \".format(i)\n",
    "    #clf = SVC()\n",
    "    clf = LogisticRegression()\n",
    "    try: \n",
    "        clf.fit(X=X_tr, y=Y_tr[:,i])\n",
    "    except ValueError:\n",
    "        print i, Y_tr[:,i]\n",
    "        if Y_tr[:, i].sum() == 0: #all classes are 0\n",
    "            clf = fake_classifer(0)\n",
    "        elif Y_tr[:, i].sum() == len(Y_tr[:, i]):\n",
    "            clf = fake_classifer(1)\n",
    "            \n",
    "    joblib.dump(clf, os.path.join(model_path , 'label{}.pkl'.format(i)))\n",
    "    print \"Model for {}th bit successfully stored in {}/label{}.pkl\\n\".format(i, model_path, i)\n"
   ]
  },
  {
   "cell_type": "code",
   "execution_count": 28,
   "metadata": {},
   "outputs": [
    {
     "data": {
      "text/plain": [
       "array([0])"
      ]
     },
     "execution_count": 28,
     "metadata": {},
     "output_type": "execute_result"
    }
   ],
   "source": [
    "clf = joblib.load(os.path.join(model_path , 'label{}.pkl'.format(0)))\n",
    "clf.predict(X_tr[1000].reshape(1,-1))"
   ]
  },
  {
   "cell_type": "markdown",
   "metadata": {},
   "source": [
    "## Step 4: Validate the Model\n",
    "We use $Precision@k$ to be our model evaluation metics. \n",
    "\n",
    "The definition can be found here: [https://en.wikipedia.org/wiki/Precision_and_recall](https://en.wikipedia.org/wiki/Precision_and_recall)\n",
    "\n"
   ]
  },
  {
   "cell_type": "code",
   "execution_count": 29,
   "metadata": {
    "collapsed": true
   },
   "outputs": [],
   "source": [
    "from sklearn.metrics import precision_score\n",
    "from sklearn.metrics import accuracy_score"
   ]
  },
  {
   "cell_type": "code",
   "execution_count": 30,
   "metadata": {
    "collapsed": true
   },
   "outputs": [],
   "source": [
    "classifiers = [] # there will be len(Y_tr[0]) binary classifiers\n",
    "for i in range(len(Y_tr[0])):\n",
    "    classifiers.append(joblib.load(os.path.join(model_path , 'label{}.pkl'.format(i))))"
   ]
  },
  {
   "cell_type": "code",
   "execution_count": 31,
   "metadata": {},
   "outputs": [
    {
     "data": {
      "text/plain": [
       "array([0, 0, 1, ..., 0, 0, 0])"
      ]
     },
     "execution_count": 31,
     "metadata": {},
     "output_type": "execute_result"
    }
   ],
   "source": [
    "classifiers[23].predict(X_tr)"
   ]
  },
  {
   "cell_type": "code",
   "execution_count": 32,
   "metadata": {
    "collapsed": true
   },
   "outputs": [],
   "source": [
    "def predict_all(clfs, X):\n",
    "    '''\n",
    "    input the features and output the original label vector\n",
    "    '''\n",
    "    # step 1, predict each bit of the encoded label\n",
    "    y_pred = np.array([clf.predict(X) for clf in clfs])\n",
    "    # step 2, resize every bit to coressponding label\n",
    "    y_pred = y_pred.T # transpose is enough\n",
    "    #print y_pred\n",
    "    # step 3, decode\n",
    "    y_pred = [ldpc.decode(y_point) for y_point in y_pred]\n",
    "    return y_pred\n",
    "    "
   ]
  },
  {
   "cell_type": "code",
   "execution_count": 33,
   "metadata": {
    "collapsed": true
   },
   "outputs": [],
   "source": [
    "y_pred = np.array([clf.predict(X_tr) for clf in classifiers])"
   ]
  },
  {
   "cell_type": "code",
   "execution_count": 34,
   "metadata": {},
   "outputs": [],
   "source": [
    "y_pred = predict_all(classifiers, X_tr)"
   ]
  },
  {
   "cell_type": "code",
   "execution_count": 35,
   "metadata": {
    "collapsed": true
   },
   "outputs": [],
   "source": [
    "y_pred = [y_point[0:len(Y_tr_true[0])] for y_point in y_pred]"
   ]
  },
  {
   "cell_type": "code",
   "execution_count": 36,
   "metadata": {
    "collapsed": true
   },
   "outputs": [],
   "source": [
    "y_pred = [vec_to_l(y_point, ms_length) for y_point in y_pred]"
   ]
  },
  {
   "cell_type": "code",
   "execution_count": 39,
   "metadata": {
    "collapsed": true
   },
   "outputs": [],
   "source": [
    "def label_to_bin(labels, _label_num):\n",
    "    vec = np.zeros(_label_num)\n",
    "    for label in labels:\n",
    "        if label > _label_num:\n",
    "            continue\n",
    "        vec[label-1] = 1\n",
    "    return vec"
   ]
  },
  {
   "cell_type": "code",
   "execution_count": 40,
   "metadata": {},
   "outputs": [],
   "source": [
    "y_pred_bin = np.array([label_to_bin(y, num_label) for y in y_pred])"
   ]
  },
  {
   "cell_type": "code",
   "execution_count": 41,
   "metadata": {
    "collapsed": true
   },
   "outputs": [],
   "source": [
    "y_true_bin = np.array([label_to_bin(y, num_label) for y in Y_tr_true])"
   ]
  },
  {
   "cell_type": "code",
   "execution_count": 42,
   "metadata": {},
   "outputs": [
    {
     "data": {
      "text/plain": [
       "0.00025116016331667274"
      ]
     },
     "execution_count": 42,
     "metadata": {},
     "output_type": "execute_result"
    }
   ],
   "source": [
    "precision_score(y_true_bin, y_pred_bin, average='samples')"
   ]
  },
  {
   "cell_type": "code",
   "execution_count": 43,
   "metadata": {},
   "outputs": [
    {
     "data": {
      "text/plain": [
       "0.0"
      ]
     },
     "execution_count": 43,
     "metadata": {},
     "output_type": "execute_result"
    }
   ],
   "source": [
    "accuracy_score(y_true_bin, y_pred_bin)"
   ]
  },
  {
   "cell_type": "code",
   "execution_count": 46,
   "metadata": {},
   "outputs": [
    {
     "data": {
      "text/plain": [
       "(35, 31015)"
      ]
     },
     "execution_count": 46,
     "metadata": {},
     "output_type": "execute_result"
    }
   ],
   "source": [
    "sumt = 0\n",
    "sumf = 0\n",
    "for i in range(y_pred_bin.shape[0]):\n",
    "    for j in range(y_pred_bin.shape[1]):\n",
    "        if y_pred_bin[i, j] == y_true_bin[i, j] and y_true_bin[i, j]==1:\n",
    "            sumt+=1\n",
    "        elif y_true_bin[i, j] == 1:\n",
    "            sumf+=1\n",
    "sumt, sumf"
   ]
  },
  {
   "cell_type": "code",
   "execution_count": null,
   "metadata": {
    "collapsed": true
   },
   "outputs": [],
   "source": []
  }
 ],
 "metadata": {
  "kernelspec": {
   "display_name": "Python 2",
   "language": "python",
   "name": "python2"
  },
  "language_info": {
   "codemirror_mode": {
    "name": "ipython",
    "version": 2
   },
   "file_extension": ".py",
   "mimetype": "text/x-python",
   "name": "python",
   "nbconvert_exporter": "python",
   "pygments_lexer": "ipython2",
   "version": "2.7.13"
  }
 },
 "nbformat": 4,
 "nbformat_minor": 2
}
