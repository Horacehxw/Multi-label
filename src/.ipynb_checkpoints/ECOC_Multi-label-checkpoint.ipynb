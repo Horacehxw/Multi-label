{
 "cells": [
  {
   "cell_type": "markdown",
   "metadata": {},
   "source": [
    "**author: Xiaowu He. horace_hxw_cal@berkeley.edu**\n",
    "\n",
    "# Multi-label Classification Note\n",
    "## 1. ECOC(multi-class setting)\n",
    "#### step 1: map the class to the coresponding **binary** vector $[1,0,...,1]^T$ using the error correction codes.:\n",
    "- Exhaustive code\n",
    "- Col Selection from Exhaustive code (Hill Climbing)\n",
    "- Randomize Hill Climbing\n",
    "- BCH code\n",
    "\n",
    "#### step 2: use maching learning algorithms to create the probability vector of each position to be 1.\n",
    "- Decision Tree\n",
    "- Nueral Network\n",
    "- **create muliple binary classifiers for each position**\n",
    "\n",
    "#### step 3： recover the origin class vector according to the cloest $\\ell_1$ distance\n",
    "\n",
    "## 2. MLGT (Group Testing)\n",
    "The basic idea is to form group of labels and test each data point whether or not inside that group.\n",
    "1. Construct  a specific binary matrix $A_{m\\times d}$ and compress the original binary-label vector by $z = A \\quad or \\quad  y$ using matrix boolean opration. Then train the classifiers based on vector z.\n",
    "2. Predicting process is to set the position $l$ of group vector to 1 iff $|supp(A^{(l)}) - supp(\\hat{z}))| < \\frac{e}{2}$. where the supp() means the set of indexees of nonzero enties in a given vector.\n",
    "\n",
    "## 3. Haffman Tree Based multi-class Classification\n",
    "constructing a haffman tree based on the frequency of each label. and train a binary classifier at each node of the tree.\n",
    "\n",
    "**this can reduce the average classification and training time.**\n",
    "\n",
    "## 4. ECOC in Multi-label setting\n",
    "Assume there are m labels in total and each data point has no more than k labels.\n",
    "1. we can map each label into a binary representation and concat them into a binary vector of leangth $k\\log m$. If some data point doesn't have enough labels, add a default number to maintain the length.\n",
    "2. Add **parity check**`    ` to the above vector using Error Correction Code\n",
    "2. Train binary classifier on each digit.\n"
   ]
  },
  {
   "cell_type": "markdown",
   "metadata": {},
   "source": [
    "# Implement ECOC in Multi-label Classification\n",
    "## Set up\n",
    "we are given a set of labeled trianing data $\\{(x_i,y_i)\\}_{i=1}^{n}$, where $x_i \\in \\mathbb{R}^p$ are the input features and $y_i \\in \\{0,1\\}^d$ are vectors indicating the labels of each data point.\n",
    "\n",
    "In practice, the label vector $y_i$ are sparse. We assume that the labels are at most k-sparse. And want to compress the label vectors into $k \\cdot \\log m$ length by concating the binary representation of each label index into a binary vector."
   ]
  },
  {
   "cell_type": "code",
   "execution_count": 1,
   "metadata": {},
   "outputs": [
    {
     "name": "stdout",
     "output_type": "stream",
     "text": [
      "data_clean.py  data_util.py   ECOC_Multi-label-Eurlex.ipynb  LDPC\r\n",
      "data_clean.sh  data_util.pyc  ECOC_Multi-label.ipynb\t     LDPC.ipynb\r\n"
     ]
    }
   ],
   "source": [
    "!ls"
   ]
  },
  {
   "cell_type": "code",
   "execution_count": 2,
   "metadata": {
    "collapsed": true
   },
   "outputs": [],
   "source": [
    "%matplotlib inline\n",
    "import data_util\n",
    "import matplotlib.pyplot as plt\n",
    "import numpy as np\n",
    "from data_util import DataPoint\n",
    "import math\n",
    "from LDPC.LDPCGenerator import LDPCCoder\n",
    "import os"
   ]
  },
  {
   "cell_type": "code",
   "execution_count": 3,
   "metadata": {
    "scrolled": false
   },
   "outputs": [
    {
     "name": "stdout",
     "output_type": "stream",
     "text": [
      "../data:\r\n",
      ".  ..  AmazonCat  Bibtex  Delicious  Eurlex  Mediamill\tRCV1-x\tWiki10\r\n",
      "\r\n",
      "../data/AmazonCat:\r\n",
      ".  ..  amazonCat_test.txt  amazonCat_train.txt\r\n",
      "\r\n",
      "../data/Bibtex:\r\n",
      ".  ..  Bibtex_data.txt\tbibtex_trSplit.txt  bibtex_tstSplit.txt\r\n",
      "\r\n",
      "../data/Delicious:\r\n",
      ".  ..  Delicious_data.txt  delicious_trSplit.txt  delicious_tstSplit.txt\r\n",
      "\r\n",
      "../data/Eurlex:\r\n",
      ".  ..  eurlex_test.txt\teurlex_train.txt\r\n",
      "\r\n",
      "../data/Mediamill:\r\n",
      ".  ..  Mediamill_data.txt  mediamill_trSplit.txt  mediamill_tstSplit.txt\r\n",
      "\r\n",
      "../data/RCV1-x:\r\n",
      ".  ..  rcv1x_test.txt  rcv1x_train.txt\r\n",
      "\r\n",
      "../data/Wiki10:\r\n",
      ".  ..  wiki10_test.txt\twiki10_train.txt\r\n"
     ]
    }
   ],
   "source": [
    "!ls -Ra ../data"
   ]
  },
  {
   "cell_type": "code",
   "execution_count": 4,
   "metadata": {
    "collapsed": true
   },
   "outputs": [],
   "source": [
    "data_dir = \"../data\"\n",
    "model_dir = \"../.model\"\n",
    "filename = \"/AmazonCat/amazonCat_train.txt\"\n",
    "\n",
    "path = os.path.dirname(filename)\n",
    "model_path = model_dir + path"
   ]
  },
  {
   "cell_type": "code",
   "execution_count": 5,
   "metadata": {},
   "outputs": [
    {
     "name": "stdout",
     "output_type": "stream",
     "text": [
      "num_point=1186239, num_label=13330, num_feature=203882\n"
     ]
    }
   ],
   "source": [
    "data, num_point, num_feature, num_label = data_util.read_file(data_dir+filename)\n",
    "print(\"num_point={}, num_label={}, num_feature={}\".format(num_point, num_label, num_feature))"
   ]
  },
  {
   "cell_type": "markdown",
   "metadata": {},
   "source": [
    "Amazon Training: num_point=1186239, num_label=13330, num_feature=203882"
   ]
  },
  {
   "cell_type": "markdown",
   "metadata": {},
   "source": [
    "## Step 1: Calculate the distribution of number of labels in each data point\n",
    "if the maximum number k is relatively small, set the length of our label vector into $k\\cdot \\left \\lceil {\\log m} \\right \\rceil$"
   ]
  },
  {
   "cell_type": "code",
   "execution_count": 6,
   "metadata": {},
   "outputs": [
    {
     "data": {
      "text/plain": [
       "<matplotlib.text.Text at 0x7f61afdaca50>"
      ]
     },
     "execution_count": 6,
     "metadata": {},
     "output_type": "execute_result"
    },
    {
     "data": {
      "image/png": "[encoded data removed]",
      "text/plain": [
       "<matplotlib.figure.Figure at 0x7f61bc1d7a50>"
      ]
     },
     "metadata": {},
     "output_type": "display_data"
    }
   ],
   "source": [
    "# find the distribution of num of labels in each data point\n",
    "label_lengths = [0 for _ in range(num_label + 1)]\n",
    "for data_point in data:\n",
    "    label_lengths[len(data_point.labels)] += 1\n",
    "plt.plot(label_lengths[:100])\n",
    "plt.title(\"the distribution of labels numbers\")"
   ]
  },
  {
   "cell_type": "code",
   "execution_count": 7,
   "metadata": {},
   "outputs": [
    {
     "name": "stdout",
     "output_type": "stream",
     "text": [
      "(1186239, 1186239)\n"
     ]
    },
    {
     "data": {
      "image/png": "[encoded data removed]",
      "text/plain": [
       "<matplotlib.figure.Figure at 0x7f61afd17d50>"
      ]
     },
     "metadata": {},
     "output_type": "display_data"
    }
   ],
   "source": [
    "# find the distribution of num of features in each data point\n",
    "feature_lengths = [0 for _ in range(num_feature + 1)]\n",
    "for data_point in data:\n",
    "    feature_lengths[len(data_point.features)] += 1\n",
    "plt.plot(feature_lengths[:5000])\n",
    "plt.title(\"the distribution of feature numbers\")\n",
    "print(sum(label_lengths), sum(feature_lengths))"
   ]
  },
  {
   "cell_type": "code",
   "execution_count": 8,
   "metadata": {},
   "outputs": [
    {
     "name": "stdout",
     "output_type": "stream",
     "text": [
      "99% of data points has less than 19 labels and less than 383 features\n"
     ]
    }
   ],
   "source": [
    "# find the 99% value over a population\n",
    "def find_percent(data, population, percent=0.99):\n",
    "    target = population*(1-percent)\n",
    "    for i in range(len(data)):\n",
    "        population -= data[i]\n",
    "        if population <= target:\n",
    "            return i\n",
    "\n",
    "label_k = find_percent(label_lengths, num_point)\n",
    "print(\"99% of data points has less than {} labels and less than {} features\"\\\n",
    "      .format(label_k, find_percent(feature_lengths, num_point)))"
   ]
  },
  {
   "cell_type": "code",
   "execution_count": 9,
   "metadata": {},
   "outputs": [
    {
     "name": "stdout",
     "output_type": "stream",
     "text": [
      "length = 203883\n"
     ]
    },
    {
     "data": {
      "text/plain": [
       "<matplotlib.text.Text at 0x7f61afbb0290>"
      ]
     },
     "execution_count": 9,
     "metadata": {},
     "output_type": "execute_result"
    },
    {
     "data": {
      "image/png": "[encoded data removed]",
      "text/plain": [
       "<matplotlib.figure.Figure at 0x7f61afd89f50>"
      ]
     },
     "metadata": {},
     "output_type": "display_data"
    }
   ],
   "source": [
    "# find the distribution of usage of each feature\n",
    "feature_nums = [0 for _ in range(num_feature + 1)]\n",
    "print (\"length = {}\".format(len(feature_nums)))\n",
    "for data_point in data:\n",
    "    for feature in data_point.features:\n",
    "        try:\n",
    "            feature_nums[feature] += 1\n",
    "        except IndexError:\n",
    "            print feature\n",
    "plt.plot(sorted(feature_nums))\n",
    "plt.title(\"the distribution of feature's usage\")"
   ]
  },
  {
   "cell_type": "markdown",
   "metadata": {},
   "source": [
    "### Prominent Features\n",
    "Because there're too many features to train, we choose to use only prominent features (features which were used by more than $\\frac{1}{5}$ of data points). This is slightly different from the MLGT paper because we don't have enough computing power."
   ]
  },
  {
   "cell_type": "code",
   "execution_count": 10,
   "metadata": {},
   "outputs": [
    {
     "name": "stdout",
     "output_type": "stream",
     "text": [
      "prominent featre num: 150\n"
     ]
    }
   ],
   "source": [
    "# find all prominent features\n",
    "prominent_feature = set()\n",
    "prominent_frac = 0.05\n",
    "for feature in range(len(feature_nums)):\n",
    "    if feature_nums[feature] >= num_point * prominent_frac:\n",
    "        prominent_feature.add(feature)\n",
    "print (\"prominent featre num: {}\".format(len(prominent_feature)))"
   ]
  },
  {
   "cell_type": "code",
   "execution_count": 11,
   "metadata": {
    "collapsed": true
   },
   "outputs": [],
   "source": [
    "# remove non-prominent features\n",
    "for data_point in data:\n",
    "    new_feature = {}\n",
    "    for feature in data_point.features:\n",
    "        if feature in prominent_feature:\n",
    "            new_feature[feature] = data_point.features[feature]\n",
    "    data_point.features = new_feature"
   ]
  },
  {
   "cell_type": "code",
   "execution_count": 12,
   "metadata": {
    "collapsed": true
   },
   "outputs": [],
   "source": [
    "# clear useless data for memory\n",
    "feature_num = 0\n",
    "feature_lengths = 0\n",
    "label_lengths = 0"
   ]
  },
  {
   "cell_type": "markdown",
   "metadata": {},
   "source": [
    "The above information might be useful for furthur optimize the parameters.\n",
    "\n",
    "## Step 2: Generator Label vectors\n",
    "The training and predicting process can be viewed as a channel transmition during a binary symetric channel. We first do source encoding to compress the labels information and then do channel encoding to ad the parity check to resist the channel error.\n",
    "### 2.1 Source Encoding: create the compressed lable vec\n",
    "For each data point's label, we first translate its labels into binary form and then concat them one by one in ascent order. the default value for the label vector would be \"111..1\".\n"
   ]
  },
  {
   "cell_type": "code",
   "execution_count": 13,
   "metadata": {},
   "outputs": [
    {
     "data": {
      "text/plain": [
       "array([1, 0, 0, 1, 1, 1, 1, 1])"
      ]
     },
     "execution_count": 13,
     "metadata": {},
     "output_type": "execute_result"
    }
   ],
   "source": [
    "def num_to_bin(x, length=None):\n",
    "    '''\n",
    "    convert a single lable to corresponding binary vector\n",
    "    '''\n",
    "    if length == None:\n",
    "        length=int(math.log(x)/math.log(2)) + 1\n",
    "    bits = [0]*length\n",
    "    i = 0\n",
    "    while x:\n",
    "        bits[i] = x%2\n",
    "        x >>= 1\n",
    "        i+=1\n",
    "    return bits\n",
    "\n",
    "def l_to_vec(labels, k, length):\n",
    "    '''\n",
    "    compress the lable vector.\n",
    "    input:\n",
    "        k: maximum non-zero entries of lable in a data point\n",
    "        length: length of each binary bevtor for a label\n",
    "    '''\n",
    "    labels.sort() #ascending order\n",
    "    default_place = [1]*length\n",
    "    vec = []\n",
    "    for i in range(k):\n",
    "        if i < len(labels):\n",
    "            vec.extend(num_to_bin(labels[i], length))\n",
    "        else:\n",
    "            vec.extend(default_place)\n",
    "    return (np.array(vec))\n",
    "    \n",
    "l_to_vec([1,2,3], 4, 2)\n"
   ]
  },
  {
   "cell_type": "code",
   "execution_count": 14,
   "metadata": {
    "collapsed": true
   },
   "outputs": [],
   "source": [
    "ms_length = int(math.log(num_label)/math.log(2)) + 1\n",
    "Y_tr = [l_to_vec(data_point.labels, label_k, ms_length) for data_point in data]"
   ]
  },
  {
   "cell_type": "code",
   "execution_count": 15,
   "metadata": {},
   "outputs": [
    {
     "data": {
      "text/plain": [
       "266"
      ]
     },
     "execution_count": 15,
     "metadata": {},
     "output_type": "execute_result"
    }
   ],
   "source": [
    "len(Y_tr[0])"
   ]
  },
  {
   "cell_type": "markdown",
   "metadata": {},
   "source": [
    "### 2.2 Channel Encoding: Add parity check to label vector\n",
    "we apply the traditional error correcting codes to the label vector to get a fixed length new output vector.\n",
    "\n",
    "Here, we use the LDPC(Low-density parity-check code) to encode the  compessed label vectors.\n",
    "\n",
    "The details of LDPC can be seen [here](https://en.wikipedia.org/wiki/Low-density_parity-check_code)\n",
    "\n",
    "the LDPCCoder class is like this:\n",
    "```Python\n",
    "    >> ldpc = LDPCCoder(10)\n",
    "    >> received_codeword = ldpc.encode([0,0,0,1,0,1,1,1,1,1])\n",
    "    >> for i in xrange(len(received_codeword)):\n",
    "    ....   if np.random.rand() > 0.95:\n",
    "    ....   received_codeword[i] = 1 - received_codeword[i]\n",
    "    >> ldpc.decode(received_codeword)\n",
    "    array([0, 0, 0, 1, 0, 1, 1, 1, 1, 1])\n",
    "```"
   ]
  },
  {
   "cell_type": "code",
   "execution_count": 16,
   "metadata": {},
   "outputs": [
    {
     "name": "stdout",
     "output_type": "stream",
     "text": [
      "message length = 20, code_word length =42\n"
     ]
    }
   ],
   "source": [
    "n = 20 # we can translate 10 bits.\n",
    "ldpc = LDPCCoder(n, flip_p=0.1)\n",
    "print(\"message length = {}, code_word length ={}\".format(ldpc.bits, ldpc.code_length))"
   ]
  },
  {
   "cell_type": "code",
   "execution_count": 17,
   "metadata": {},
   "outputs": [],
   "source": [
    "Y_tr = np.array([ldpc.encode(label_vec) for label_vec in Y_tr])"
   ]
  },
  {
   "cell_type": "code",
   "execution_count": 18,
   "metadata": {
    "scrolled": true
   },
   "outputs": [
    {
     "data": {
      "text/plain": [
       "(1186239, 588)"
      ]
     },
     "execution_count": 18,
     "metadata": {},
     "output_type": "execute_result"
    }
   ],
   "source": [
    "Y_tr.shape"
   ]
  },
  {
   "cell_type": "markdown",
   "metadata": {},
   "source": [
    "## Step3: train the classifiers\n",
    "train binary classifers for each of the input (X_tr,Y_tr[i,:]) data.\n",
    "\n",
    "Over the transformed vector, train a binary classifier for each of them is just use the one vs rest multi-class algorithm. Here we choose the LogisticRegression algorithm in sklearn."
   ]
  },
  {
   "cell_type": "code",
   "execution_count": 19,
   "metadata": {
    "collapsed": true
   },
   "outputs": [],
   "source": [
    "from sklearn.preprocessing import StandardScaler\n",
    "from sklearn.linear_model import LogisticRegression\n",
    "from sklearn.linear_model import LinearRegression\n",
    "from sklearn.externals import joblib\n",
    "from sklearn.utils import shuffle\n",
    "from sklearn.svm import LinearSVC\n",
    "from sklearn.svm import SVC\n",
    "import os"
   ]
  },
  {
   "cell_type": "code",
   "execution_count": 20,
   "metadata": {
    "collapsed": true
   },
   "outputs": [],
   "source": [
    "# map features to corresponding position\n",
    "prominent_feature = list(prominent_feature)\n",
    "feature_to_id = {}\n",
    "for n, feature in enumerate(prominent_feature):\n",
    "    feature_to_id[feature] = n"
   ]
  },
  {
   "cell_type": "code",
   "execution_count": 21,
   "metadata": {
    "collapsed": true
   },
   "outputs": [],
   "source": [
    "def feature_to_vec(features):\n",
    "    vec = np.zeros(len(prominent_feature))\n",
    "    for key in features:\n",
    "        vec[feature_to_id[key]] = features[key]\n",
    "    return vec"
   ]
  },
  {
   "cell_type": "code",
   "execution_count": 22,
   "metadata": {},
   "outputs": [
    {
     "data": {
      "text/plain": [
       "(1186239, 150)"
      ]
     },
     "execution_count": 22,
     "metadata": {},
     "output_type": "execute_result"
    }
   ],
   "source": [
    "X_tr = np.array([feature_to_vec(data_point.features) for data_point in data])\n",
    "X_tr.shape"
   ]
  },
  {
   "cell_type": "code",
   "execution_count": 23,
   "metadata": {},
   "outputs": [
    {
     "data": {
      "text/plain": [
       "(1186239, 150)"
      ]
     },
     "execution_count": 23,
     "metadata": {},
     "output_type": "execute_result"
    }
   ],
   "source": [
    "# normalize the data\n",
    "scaler = StandardScaler().fit(X_tr)\n",
    "X_tr = scaler.transform(X_tr)\n",
    "X_tr.shape"
   ]
  },
  {
   "cell_type": "code",
   "execution_count": null,
   "metadata": {
    "collapsed": true
   },
   "outputs": [],
   "source": [
    "X_tr, Y_tr = shuffle(X_tr, Y_tr, random_state=0)"
   ]
  },
  {
   "cell_type": "code",
   "execution_count": null,
   "metadata": {
    "scrolled": true
   },
   "outputs": [
    {
     "name": "stdout",
     "output_type": "stream",
     "text": [
      "Trianning model for the 342th bit\n",
      "... ... ... \n",
      "Model for 342th bit successfully stored in ../.model/AmazonCat/label342.pkl\n",
      "\n",
      "Trianning model for the 343th bit\n",
      "... ... ... \n",
      "Model for 343th bit successfully stored in ../.model/AmazonCat/label343.pkl\n",
      "\n",
      "Trianning model for the 344th bit\n",
      "... ... ... \n",
      "Model for 344th bit successfully stored in ../.model/AmazonCat/label344.pkl\n",
      "\n",
      "Trianning model for the 345th bit\n",
      "... ... ... \n",
      "Model for 345th bit successfully stored in ../.model/AmazonCat/label345.pkl\n",
      "\n",
      "Trianning model for the 346th bit\n",
      "... ... ... \n",
      "Model for 346th bit successfully stored in ../.model/AmazonCat/label346.pkl\n",
      "\n",
      "Trianning model for the 347th bit\n",
      "... ... ... \n",
      "Model for 347th bit successfully stored in ../.model/AmazonCat/label347.pkl\n",
      "\n",
      "Trianning model for the 348th bit\n",
      "... ... ... \n",
      "Model for 348th bit successfully stored in ../.model/AmazonCat/label348.pkl\n",
      "\n",
      "Trianning model for the 349th bit\n",
      "... ... ... \n",
      "Model for 349th bit successfully stored in ../.model/AmazonCat/label349.pkl\n",
      "\n",
      "Trianning model for the 350th bit\n",
      "... ... ... \n",
      "Model for 350th bit successfully stored in ../.model/AmazonCat/label350.pkl\n",
      "\n",
      "Trianning model for the 351th bit\n",
      "... ... ... \n",
      "Model for 351th bit successfully stored in ../.model/AmazonCat/label351.pkl\n",
      "\n",
      "Trianning model for the 352th bit\n",
      "... ... ... \n",
      "Model for 352th bit successfully stored in ../.model/AmazonCat/label352.pkl\n",
      "\n",
      "Trianning model for the 353th bit\n",
      "... ... ... \n",
      "Model for 353th bit successfully stored in ../.model/AmazonCat/label353.pkl\n",
      "\n",
      "Trianning model for the 354th bit\n",
      "... ... ... \n",
      "Model for 354th bit successfully stored in ../.model/AmazonCat/label354.pkl\n",
      "\n",
      "Trianning model for the 355th bit\n",
      "... ... ... \n",
      "Model for 355th bit successfully stored in ../.model/AmazonCat/label355.pkl\n",
      "\n",
      "Trianning model for the 356th bit\n",
      "... ... ... \n",
      "Model for 356th bit successfully stored in ../.model/AmazonCat/label356.pkl\n",
      "\n",
      "Trianning model for the 357th bit\n",
      "... ... ... \n",
      "Model for 357th bit successfully stored in ../.model/AmazonCat/label357.pkl\n",
      "\n",
      "Trianning model for the 358th bit\n",
      "... ... ... \n",
      "Model for 358th bit successfully stored in ../.model/AmazonCat/label358.pkl\n",
      "\n",
      "Trianning model for the 359th bit\n",
      "... ... ... \n",
      "Model for 359th bit successfully stored in ../.model/AmazonCat/label359.pkl\n",
      "\n",
      "Trianning model for the 360th bit\n",
      "... ... ... \n",
      "Model for 360th bit successfully stored in ../.model/AmazonCat/label360.pkl\n",
      "\n",
      "Trianning model for the 361th bit\n",
      "... ... ... \n",
      "Model for 361th bit successfully stored in ../.model/AmazonCat/label361.pkl\n",
      "\n",
      "Trianning model for the 362th bit\n",
      "... ... ... \n",
      "Model for 362th bit successfully stored in ../.model/AmazonCat/label362.pkl\n",
      "\n",
      "Trianning model for the 363th bit\n",
      "... ... ... \n",
      "Model for 363th bit successfully stored in ../.model/AmazonCat/label363.pkl\n",
      "\n",
      "Trianning model for the 364th bit\n",
      "... ... ... \n",
      "Model for 364th bit successfully stored in ../.model/AmazonCat/label364.pkl\n",
      "\n",
      "Trianning model for the 365th bit\n",
      "... ... ... \n",
      "Model for 365th bit successfully stored in ../.model/AmazonCat/label365.pkl\n",
      "\n",
      "Trianning model for the 366th bit\n",
      "... ... ... \n",
      "Model for 366th bit successfully stored in ../.model/AmazonCat/label366.pkl\n",
      "\n",
      "Trianning model for the 367th bit\n",
      "... ... ... \n",
      "Model for 367th bit successfully stored in ../.model/AmazonCat/label367.pkl\n",
      "\n",
      "Trianning model for the 368th bit\n",
      "... ... ... \n",
      "Model for 368th bit successfully stored in ../.model/AmazonCat/label368.pkl\n",
      "\n",
      "Trianning model for the 369th bit\n",
      "... ... ... \n",
      "Model for 369th bit successfully stored in ../.model/AmazonCat/label369.pkl\n",
      "\n",
      "Trianning model for the 370th bit\n",
      "... ... ... \n",
      "Model for 370th bit successfully stored in ../.model/AmazonCat/label370.pkl\n",
      "\n",
      "Trianning model for the 371th bit\n",
      "... ... ... \n",
      "Model for 371th bit successfully stored in ../.model/AmazonCat/label371.pkl\n",
      "\n",
      "Trianning model for the 372th bit\n",
      "... ... ... \n",
      "Model for 372th bit successfully stored in ../.model/AmazonCat/label372.pkl\n",
      "\n",
      "Trianning model for the 373th bit\n",
      "... ... ... \n",
      "Model for 373th bit successfully stored in ../.model/AmazonCat/label373.pkl\n",
      "\n",
      "Trianning model for the 374th bit\n",
      "... ... ... \n",
      "Model for 374th bit successfully stored in ../.model/AmazonCat/label374.pkl\n",
      "\n",
      "Trianning model for the 375th bit\n",
      "... ... ... \n",
      "375 [0 0 0 ..., 0 0 0]\n",
      "Model for 375th bit successfully stored in ../.model/AmazonCat/label375.pkl\n",
      "\n",
      "Trianning model for the 376th bit\n",
      "... ... ... \n",
      "376 [0 0 0 ..., 0 0 0]\n",
      "Model for 376th bit successfully stored in ../.model/AmazonCat/label376.pkl\n",
      "\n",
      "Trianning model for the 377th bit\n",
      "... ... ... \n",
      "377 [0 0 0 ..., 0 0 0]\n",
      "Model for 377th bit successfully stored in ../.model/AmazonCat/label377.pkl\n",
      "\n",
      "Trianning model for the 378th bit\n",
      "... ... ... \n",
      "Model for 378th bit successfully stored in ../.model/AmazonCat/label378.pkl\n",
      "\n",
      "Trianning model for the 379th bit\n",
      "... ... ... \n",
      "Model for 379th bit successfully stored in ../.model/AmazonCat/label379.pkl\n",
      "\n",
      "Trianning model for the 380th bit\n",
      "... ... ... \n",
      "Model for 380th bit successfully stored in ../.model/AmazonCat/label380.pkl\n",
      "\n",
      "Trianning model for the 381th bit\n",
      "... ... ... \n",
      "Model for 381th bit successfully stored in ../.model/AmazonCat/label381.pkl\n",
      "\n",
      "Trianning model for the 382th bit\n",
      "... ... ... \n",
      "Model for 382th bit successfully stored in ../.model/AmazonCat/label382.pkl\n",
      "\n",
      "Trianning model for the 383th bit\n",
      "... ... ... \n",
      "Model for 383th bit successfully stored in ../.model/AmazonCat/label383.pkl\n",
      "\n",
      "Trianning model for the 384th bit\n",
      "... ... ... \n",
      "Model for 384th bit successfully stored in ../.model/AmazonCat/label384.pkl\n",
      "\n",
      "Trianning model for the 385th bit\n",
      "... ... ... \n",
      "Model for 385th bit successfully stored in ../.model/AmazonCat/label385.pkl\n",
      "\n",
      "Trianning model for the 386th bit\n",
      "... ... ... \n",
      "Model for 386th bit successfully stored in ../.model/AmazonCat/label386.pkl\n",
      "\n",
      "Trianning model for the 387th bit\n",
      "... ... ... \n",
      "Model for 387th bit successfully stored in ../.model/AmazonCat/label387.pkl\n",
      "\n",
      "Trianning model for the 388th bit\n",
      "... ... ... \n",
      "Model for 388th bit successfully stored in ../.model/AmazonCat/label388.pkl\n",
      "\n",
      "Trianning model for the 389th bit\n",
      "... ... ... \n",
      "Model for 389th bit successfully stored in ../.model/AmazonCat/label389.pkl\n",
      "\n",
      "Trianning model for the 390th bit\n",
      "... ... ... \n",
      "Model for 390th bit successfully stored in ../.model/AmazonCat/label390.pkl\n",
      "\n",
      "Trianning model for the 391th bit\n",
      "... ... ... \n",
      "Model for 391th bit successfully stored in ../.model/AmazonCat/label391.pkl\n",
      "\n",
      "Trianning model for the 392th bit\n",
      "... ... ... \n",
      "Model for 392th bit successfully stored in ../.model/AmazonCat/label392.pkl\n",
      "\n",
      "Trianning model for the 393th bit\n",
      "... ... ... \n",
      "Model for 393th bit successfully stored in ../.model/AmazonCat/label393.pkl\n",
      "\n",
      "Trianning model for the 394th bit\n",
      "... ... ... \n",
      "Model for 394th bit successfully stored in ../.model/AmazonCat/label394.pkl\n",
      "\n",
      "Trianning model for the 395th bit\n",
      "... ... ... \n",
      "Model for 395th bit successfully stored in ../.model/AmazonCat/label395.pkl\n",
      "\n",
      "Trianning model for the 396th bit\n",
      "... ... ... \n",
      "Model for 396th bit successfully stored in ../.model/AmazonCat/label396.pkl\n",
      "\n",
      "Trianning model for the 397th bit\n",
      "... ... ... \n",
      "Model for 397th bit successfully stored in ../.model/AmazonCat/label397.pkl\n",
      "\n",
      "Trianning model for the 398th bit\n",
      "... ... ... \n",
      "Model for 398th bit successfully stored in ../.model/AmazonCat/label398.pkl\n",
      "\n",
      "Trianning model for the 399th bit\n",
      "... ... ... \n",
      "Model for 399th bit successfully stored in ../.model/AmazonCat/label399.pkl\n",
      "\n",
      "Trianning model for the 400th bit\n",
      "... ... ... \n",
      "Model for 400th bit successfully stored in ../.model/AmazonCat/label400.pkl\n",
      "\n",
      "Trianning model for the 401th bit\n",
      "... ... ... \n",
      "Model for 401th bit successfully stored in ../.model/AmazonCat/label401.pkl\n",
      "\n",
      "Trianning model for the 402th bit\n",
      "... ... ... \n",
      "Model for 402th bit successfully stored in ../.model/AmazonCat/label402.pkl\n",
      "\n",
      "Trianning model for the 403th bit\n",
      "... ... ... \n",
      "Model for 403th bit successfully stored in ../.model/AmazonCat/label403.pkl\n",
      "\n",
      "Trianning model for the 404th bit\n",
      "... ... ... \n",
      "Model for 404th bit successfully stored in ../.model/AmazonCat/label404.pkl\n",
      "\n",
      "Trianning model for the 405th bit\n",
      "... ... ... \n",
      "Model for 405th bit successfully stored in ../.model/AmazonCat/label405.pkl\n",
      "\n",
      "Trianning model for the 406th bit\n",
      "... ... ... \n",
      "Model for 406th bit successfully stored in ../.model/AmazonCat/label406.pkl\n",
      "\n",
      "Trianning model for the 407th bit\n",
      "... ... ... \n",
      "Model for 407th bit successfully stored in ../.model/AmazonCat/label407.pkl\n",
      "\n",
      "Trianning model for the 408th bit\n",
      "... ... ... \n"
     ]
    },
    {
     "name": "stdout",
     "output_type": "stream",
     "text": [
      "Model for 408th bit successfully stored in ../.model/AmazonCat/label408.pkl\n",
      "\n",
      "Trianning model for the 409th bit\n",
      "... ... ... \n",
      "Model for 409th bit successfully stored in ../.model/AmazonCat/label409.pkl\n",
      "\n",
      "Trianning model for the 410th bit\n",
      "... ... ... \n",
      "Model for 410th bit successfully stored in ../.model/AmazonCat/label410.pkl\n",
      "\n",
      "Trianning model for the 411th bit\n",
      "... ... ... \n",
      "Model for 411th bit successfully stored in ../.model/AmazonCat/label411.pkl\n",
      "\n",
      "Trianning model for the 412th bit\n",
      "... ... ... \n",
      "Model for 412th bit successfully stored in ../.model/AmazonCat/label412.pkl\n",
      "\n",
      "Trianning model for the 413th bit\n",
      "... ... ... \n",
      "Model for 413th bit successfully stored in ../.model/AmazonCat/label413.pkl\n",
      "\n",
      "Trianning model for the 414th bit\n",
      "... ... ... \n",
      "Model for 414th bit successfully stored in ../.model/AmazonCat/label414.pkl\n",
      "\n",
      "Trianning model for the 415th bit\n",
      "... ... ... \n",
      "Model for 415th bit successfully stored in ../.model/AmazonCat/label415.pkl\n",
      "\n",
      "Trianning model for the 416th bit\n",
      "... ... ... \n",
      "Model for 416th bit successfully stored in ../.model/AmazonCat/label416.pkl\n",
      "\n",
      "Trianning model for the 417th bit\n",
      "... ... ... \n",
      "417 [0 0 0 ..., 0 0 0]\n",
      "Model for 417th bit successfully stored in ../.model/AmazonCat/label417.pkl\n",
      "\n",
      "Trianning model for the 418th bit\n",
      "... ... ... \n",
      "418 [0 0 0 ..., 0 0 0]\n",
      "Model for 418th bit successfully stored in ../.model/AmazonCat/label418.pkl\n",
      "\n",
      "Trianning model for the 419th bit\n",
      "... ... ... \n",
      "419 [0 0 0 ..., 0 0 0]\n",
      "Model for 419th bit successfully stored in ../.model/AmazonCat/label419.pkl\n",
      "\n",
      "Trianning model for the 420th bit\n",
      "... ... ... \n",
      "Model for 420th bit successfully stored in ../.model/AmazonCat/label420.pkl\n",
      "\n",
      "Trianning model for the 421th bit\n",
      "... ... ... \n",
      "Model for 421th bit successfully stored in ../.model/AmazonCat/label421.pkl\n",
      "\n",
      "Trianning model for the 422th bit\n",
      "... ... ... \n",
      "Model for 422th bit successfully stored in ../.model/AmazonCat/label422.pkl\n",
      "\n",
      "Trianning model for the 423th bit\n",
      "... ... ... \n",
      "Model for 423th bit successfully stored in ../.model/AmazonCat/label423.pkl\n",
      "\n",
      "Trianning model for the 424th bit\n",
      "... ... ... \n",
      "Model for 424th bit successfully stored in ../.model/AmazonCat/label424.pkl\n",
      "\n",
      "Trianning model for the 425th bit\n",
      "... ... ... \n",
      "Model for 425th bit successfully stored in ../.model/AmazonCat/label425.pkl\n",
      "\n",
      "Trianning model for the 426th bit\n",
      "... ... ... \n",
      "Model for 426th bit successfully stored in ../.model/AmazonCat/label426.pkl\n",
      "\n",
      "Trianning model for the 427th bit\n",
      "... ... ... \n",
      "Model for 427th bit successfully stored in ../.model/AmazonCat/label427.pkl\n",
      "\n",
      "Trianning model for the 428th bit\n",
      "... ... ... \n",
      "Model for 428th bit successfully stored in ../.model/AmazonCat/label428.pkl\n",
      "\n",
      "Trianning model for the 429th bit\n",
      "... ... ... \n",
      "Model for 429th bit successfully stored in ../.model/AmazonCat/label429.pkl\n",
      "\n",
      "Trianning model for the 430th bit\n",
      "... ... ... \n",
      "Model for 430th bit successfully stored in ../.model/AmazonCat/label430.pkl\n",
      "\n",
      "Trianning model for the 431th bit\n",
      "... ... ... \n",
      "Model for 431th bit successfully stored in ../.model/AmazonCat/label431.pkl\n",
      "\n",
      "Trianning model for the 432th bit\n",
      "... ... ... \n",
      "Model for 432th bit successfully stored in ../.model/AmazonCat/label432.pkl\n",
      "\n",
      "Trianning model for the 433th bit\n",
      "... ... ... \n",
      "Model for 433th bit successfully stored in ../.model/AmazonCat/label433.pkl\n",
      "\n",
      "Trianning model for the 434th bit\n",
      "... ... ... \n",
      "Model for 434th bit successfully stored in ../.model/AmazonCat/label434.pkl\n",
      "\n",
      "Trianning model for the 435th bit\n",
      "... ... ... \n",
      "Model for 435th bit successfully stored in ../.model/AmazonCat/label435.pkl\n",
      "\n",
      "Trianning model for the 436th bit\n",
      "... ... ... \n",
      "Model for 436th bit successfully stored in ../.model/AmazonCat/label436.pkl\n",
      "\n",
      "Trianning model for the 437th bit\n",
      "... ... ... \n",
      "Model for 437th bit successfully stored in ../.model/AmazonCat/label437.pkl\n",
      "\n",
      "Trianning model for the 438th bit\n",
      "... ... ... \n",
      "Model for 438th bit successfully stored in ../.model/AmazonCat/label438.pkl\n",
      "\n",
      "Trianning model for the 439th bit\n",
      "... ... ... \n",
      "Model for 439th bit successfully stored in ../.model/AmazonCat/label439.pkl\n",
      "\n",
      "Trianning model for the 440th bit\n",
      "... ... ... \n",
      "Model for 440th bit successfully stored in ../.model/AmazonCat/label440.pkl\n",
      "\n",
      "Trianning model for the 441th bit\n",
      "... ... ... \n",
      "Model for 441th bit successfully stored in ../.model/AmazonCat/label441.pkl\n",
      "\n",
      "Trianning model for the 442th bit\n",
      "... ... ... \n",
      "Model for 442th bit successfully stored in ../.model/AmazonCat/label442.pkl\n",
      "\n",
      "Trianning model for the 443th bit\n",
      "... ... ... \n",
      "Model for 443th bit successfully stored in ../.model/AmazonCat/label443.pkl\n",
      "\n",
      "Trianning model for the 444th bit\n",
      "... ... ... \n",
      "Model for 444th bit successfully stored in ../.model/AmazonCat/label444.pkl\n",
      "\n",
      "Trianning model for the 445th bit\n",
      "... ... ... \n",
      "Model for 445th bit successfully stored in ../.model/AmazonCat/label445.pkl\n",
      "\n",
      "Trianning model for the 446th bit\n",
      "... ... ... \n",
      "Model for 446th bit successfully stored in ../.model/AmazonCat/label446.pkl\n",
      "\n",
      "Trianning model for the 447th bit\n",
      "... ... ... \n",
      "Model for 447th bit successfully stored in ../.model/AmazonCat/label447.pkl\n",
      "\n",
      "Trianning model for the 448th bit\n",
      "... ... ... \n",
      "Model for 448th bit successfully stored in ../.model/AmazonCat/label448.pkl\n",
      "\n",
      "Trianning model for the 449th bit\n",
      "... ... ... \n",
      "Model for 449th bit successfully stored in ../.model/AmazonCat/label449.pkl\n",
      "\n",
      "Trianning model for the 450th bit\n",
      "... ... ... \n",
      "Model for 450th bit successfully stored in ../.model/AmazonCat/label450.pkl\n",
      "\n",
      "Trianning model for the 451th bit\n",
      "... ... ... \n",
      "Model for 451th bit successfully stored in ../.model/AmazonCat/label451.pkl\n",
      "\n",
      "Trianning model for the 452th bit\n",
      "... ... ... \n",
      "Model for 452th bit successfully stored in ../.model/AmazonCat/label452.pkl\n",
      "\n",
      "Trianning model for the 453th bit\n",
      "... ... ... \n",
      "Model for 453th bit successfully stored in ../.model/AmazonCat/label453.pkl\n",
      "\n",
      "Trianning model for the 454th bit\n",
      "... ... ... \n",
      "Model for 454th bit successfully stored in ../.model/AmazonCat/label454.pkl\n",
      "\n",
      "Trianning model for the 455th bit\n",
      "... ... ... \n",
      "Model for 455th bit successfully stored in ../.model/AmazonCat/label455.pkl\n",
      "\n",
      "Trianning model for the 456th bit\n",
      "... ... ... \n",
      "Model for 456th bit successfully stored in ../.model/AmazonCat/label456.pkl\n",
      "\n",
      "Trianning model for the 457th bit\n",
      "... ... ... \n",
      "Model for 457th bit successfully stored in ../.model/AmazonCat/label457.pkl\n",
      "\n",
      "Trianning model for the 458th bit\n",
      "... ... ... \n",
      "Model for 458th bit successfully stored in ../.model/AmazonCat/label458.pkl\n",
      "\n",
      "Trianning model for the 459th bit\n",
      "... ... ... \n",
      "459 [0 0 0 ..., 0 0 0]\n",
      "Model for 459th bit successfully stored in ../.model/AmazonCat/label459.pkl\n",
      "\n",
      "Trianning model for the 460th bit\n",
      "... ... ... \n",
      "460 [0 0 0 ..., 0 0 0]\n",
      "Model for 460th bit successfully stored in ../.model/AmazonCat/label460.pkl\n",
      "\n",
      "Trianning model for the 461th bit\n",
      "... ... ... \n",
      "461 [0 0 0 ..., 0 0 0]\n",
      "Model for 461th bit successfully stored in ../.model/AmazonCat/label461.pkl\n",
      "\n",
      "Trianning model for the 462th bit\n",
      "... ... ... \n",
      "Model for 462th bit successfully stored in ../.model/AmazonCat/label462.pkl\n",
      "\n",
      "Trianning model for the 463th bit\n",
      "... ... ... \n",
      "Model for 463th bit successfully stored in ../.model/AmazonCat/label463.pkl\n",
      "\n",
      "Trianning model for the 464th bit\n",
      "... ... ... \n",
      "Model for 464th bit successfully stored in ../.model/AmazonCat/label464.pkl\n",
      "\n",
      "Trianning model for the 465th bit\n",
      "... ... ... \n",
      "Model for 465th bit successfully stored in ../.model/AmazonCat/label465.pkl\n",
      "\n",
      "Trianning model for the 466th bit\n",
      "... ... ... \n",
      "Model for 466th bit successfully stored in ../.model/AmazonCat/label466.pkl\n",
      "\n",
      "Trianning model for the 467th bit\n",
      "... ... ... \n",
      "Model for 467th bit successfully stored in ../.model/AmazonCat/label467.pkl\n",
      "\n",
      "Trianning model for the 468th bit\n",
      "... ... ... \n",
      "Model for 468th bit successfully stored in ../.model/AmazonCat/label468.pkl\n",
      "\n",
      "Trianning model for the 469th bit\n",
      "... ... ... \n",
      "Model for 469th bit successfully stored in ../.model/AmazonCat/label469.pkl\n",
      "\n",
      "Trianning model for the 470th bit\n",
      "... ... ... \n",
      "Model for 470th bit successfully stored in ../.model/AmazonCat/label470.pkl\n",
      "\n",
      "Trianning model for the 471th bit\n",
      "... ... ... \n",
      "Model for 471th bit successfully stored in ../.model/AmazonCat/label471.pkl\n",
      "\n",
      "Trianning model for the 472th bit\n",
      "... ... ... \n",
      "Model for 472th bit successfully stored in ../.model/AmazonCat/label472.pkl\n",
      "\n",
      "Trianning model for the 473th bit\n",
      "... ... ... \n"
     ]
    },
    {
     "name": "stdout",
     "output_type": "stream",
     "text": [
      "Model for 473th bit successfully stored in ../.model/AmazonCat/label473.pkl\n",
      "\n",
      "Trianning model for the 474th bit\n",
      "... ... ... \n",
      "Model for 474th bit successfully stored in ../.model/AmazonCat/label474.pkl\n",
      "\n",
      "Trianning model for the 475th bit\n",
      "... ... ... \n",
      "Model for 475th bit successfully stored in ../.model/AmazonCat/label475.pkl\n",
      "\n",
      "Trianning model for the 476th bit\n",
      "... ... ... \n",
      "Model for 476th bit successfully stored in ../.model/AmazonCat/label476.pkl\n",
      "\n",
      "Trianning model for the 477th bit\n",
      "... ... ... \n",
      "Model for 477th bit successfully stored in ../.model/AmazonCat/label477.pkl\n",
      "\n",
      "Trianning model for the 478th bit\n",
      "... ... ... \n",
      "Model for 478th bit successfully stored in ../.model/AmazonCat/label478.pkl\n",
      "\n",
      "Trianning model for the 479th bit\n",
      "... ... ... \n",
      "Model for 479th bit successfully stored in ../.model/AmazonCat/label479.pkl\n",
      "\n",
      "Trianning model for the 480th bit\n",
      "... ... ... \n",
      "Model for 480th bit successfully stored in ../.model/AmazonCat/label480.pkl\n",
      "\n",
      "Trianning model for the 481th bit\n",
      "... ... ... \n",
      "Model for 481th bit successfully stored in ../.model/AmazonCat/label481.pkl\n",
      "\n",
      "Trianning model for the 482th bit\n",
      "... ... ... \n",
      "Model for 482th bit successfully stored in ../.model/AmazonCat/label482.pkl\n",
      "\n",
      "Trianning model for the 483th bit\n",
      "... ... ... \n",
      "Model for 483th bit successfully stored in ../.model/AmazonCat/label483.pkl\n",
      "\n",
      "Trianning model for the 484th bit\n",
      "... ... ... \n",
      "Model for 484th bit successfully stored in ../.model/AmazonCat/label484.pkl\n",
      "\n",
      "Trianning model for the 485th bit\n",
      "... ... ... \n",
      "Model for 485th bit successfully stored in ../.model/AmazonCat/label485.pkl\n",
      "\n",
      "Trianning model for the 486th bit\n",
      "... ... ... \n",
      "Model for 486th bit successfully stored in ../.model/AmazonCat/label486.pkl\n",
      "\n",
      "Trianning model for the 487th bit\n",
      "... ... ... \n",
      "Model for 487th bit successfully stored in ../.model/AmazonCat/label487.pkl\n",
      "\n",
      "Trianning model for the 488th bit\n",
      "... ... ... \n",
      "Model for 488th bit successfully stored in ../.model/AmazonCat/label488.pkl\n",
      "\n",
      "Trianning model for the 489th bit\n",
      "... ... ... \n",
      "Model for 489th bit successfully stored in ../.model/AmazonCat/label489.pkl\n",
      "\n",
      "Trianning model for the 490th bit\n",
      "... ... ... \n",
      "Model for 490th bit successfully stored in ../.model/AmazonCat/label490.pkl\n",
      "\n",
      "Trianning model for the 491th bit\n",
      "... ... ... \n"
     ]
    }
   ],
   "source": [
    "class fake_classifer(): #handle the case that all data in the same class...\n",
    "    def __init__(self, x):\n",
    "        self.x = x\n",
    "        \n",
    "    def predict(self, _):\n",
    "        return self.x\n",
    "\n",
    "for i in range(491,len(Y_tr[0])):\n",
    "    print \"Trianning model for the {}th bit\\n... ... ... \".format(i)\n",
    "    #clf = SVC()\n",
    "    clf = LogisticRegression()\n",
    "    try: \n",
    "        clf.fit(X=X_tr, y=Y_tr[:,i])\n",
    "    except ValueError:\n",
    "        print i, Y_tr[:,i]\n",
    "        if Y_tr[:, i].sum() == 0: #all classes are 0\n",
    "            clf = fake_classifer(0)\n",
    "        elif Y_tr[:, i].sum() == len(Y_tr[:, i]):\n",
    "            clf = fake_classifer(1)\n",
    "            \n",
    "    joblib.dump(clf, os.path.join(model_path , 'label{}.pkl'.format(i)))\n",
    "    print \"Model for {}th bit successfully stored in {}/label{}.pkl\\n\".format(i, model_path, i)\n"
   ]
  },
  {
   "cell_type": "code",
   "execution_count": null,
   "metadata": {
    "collapsed": true
   },
   "outputs": [],
   "source": [
    "Y_shuf[:,262].sum()"
   ]
  },
  {
   "cell_type": "code",
   "execution_count": null,
   "metadata": {
    "collapsed": true
   },
   "outputs": [],
   "source": [
    "clf = joblib.load(os.path.join(model_path , 'label{}.pkl'.format(0)))\n",
    "clf.predict(X_shuf[1000].reshape(1,-1))"
   ]
  },
  {
   "cell_type": "markdown",
   "metadata": {},
   "source": [
    "## Step 4: Validate the Model\n"
   ]
  },
  {
   "cell_type": "code",
   "execution_count": null,
   "metadata": {
    "collapsed": true
   },
   "outputs": [],
   "source": [
    "classifiers = [] # there will be len(Y_tr[0]) binary classifiers\n",
    "for i in range(len(Y_tr[0])):\n",
    "    classifiers.append(joblib.load(os.path.join(model_path , 'label{}.pkl'.format(i))))"
   ]
  },
  {
   "cell_type": "code",
   "execution_count": null,
   "metadata": {
    "collapsed": true
   },
   "outputs": [],
   "source": [
    "def predict_all(classifiers, X):\n",
    "    '''\n",
    "    input the features and output the original label vector\n",
    "    '''\n",
    "    # step 1, predict each bit of the encoded label\n",
    "    \n",
    "    # step 2, resize every bit to coressponding label\n",
    "    \n",
    "    # step 3, decode\n",
    "    return y_pred\n",
    "    "
   ]
  },
  {
   "cell_type": "code",
   "execution_count": null,
   "metadata": {
    "collapsed": true
   },
   "outputs": [],
   "source": [
    "y_pred = predict_all(classifiers, X_tr[0].reshape(1,-1))"
   ]
  },
  {
   "cell_type": "code",
   "execution_count": null,
   "metadata": {
    "collapsed": true
   },
   "outputs": [],
   "source": [
    "a = np.array([[1,2],[1,2],[1,2]])"
   ]
  },
  {
   "cell_type": "code",
   "execution_count": null,
   "metadata": {
    "collapsed": true
   },
   "outputs": [],
   "source": [
    "a.T"
   ]
  },
  {
   "cell_type": "code",
   "execution_count": null,
   "metadata": {
    "collapsed": true
   },
   "outputs": [],
   "source": []
  }
 ],
 "metadata": {
  "kernelspec": {
   "display_name": "Python 2",
   "language": "python",
   "name": "python2"
  },
  "language_info": {
   "codemirror_mode": {
    "name": "ipython",
    "version": 2
   },
   "file_extension": ".py",
   "mimetype": "text/x-python",
   "name": "python",
   "nbconvert_exporter": "python",
   "pygments_lexer": "ipython2",
   "version": "2.7.13"
  }
 },
 "nbformat": 4,
 "nbformat_minor": 2
}
