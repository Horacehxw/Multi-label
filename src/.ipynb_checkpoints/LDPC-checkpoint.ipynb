{
 "cells": [
  {
   "cell_type": "code",
   "execution_count": 1,
   "metadata": {
    "collapsed": true
   },
   "outputs": [],
   "source": [
    "%matplotlib inline\n",
    "import data_util\n",
    "import matplotlib.pyplot as plt\n",
    "import numpy as np\n",
    "from data_util import DataPoint\n",
    "import math\n",
    "from LDPC.LDPCGenerator import LDPCCoder"
   ]
  },
  {
   "cell_type": "code",
   "execution_count": 2,
   "metadata": {},
   "outputs": [
    {
     "data": {
      "text/plain": [
       "array([1, 0, 0, 1, 1, 1, 1, 1])"
      ]
     },
     "execution_count": 2,
     "metadata": {},
     "output_type": "execute_result"
    }
   ],
   "source": [
    "def num_to_bin(x, length=None):\n",
    "    '''\n",
    "    convert a single lable to corresponding binary vector\n",
    "    '''\n",
    "    if length == None:\n",
    "        length=int(math.log(x)/math.log(2)) + 1\n",
    "    bits = [0]*length\n",
    "    i = 0\n",
    "    while x:\n",
    "        bits[i] = x%2\n",
    "        x >>= 1\n",
    "        i+=1\n",
    "    return bits\n",
    "\n",
    "def l_to_vec(labels, k, length):\n",
    "    '''\n",
    "    compress the lable vector.\n",
    "    input:\n",
    "        k: maximum non-zero entries of lable in a data point\n",
    "        length: length of each binary bevtor for a label\n",
    "    '''\n",
    "\n",
    "    labels.sort() #ascending order\n",
    "    default_place = [1]*length\n",
    "    vec = []\n",
    "    for i in range(k):\n",
    "        if i < len(labels):\n",
    "            vec.extend(num_to_bin(labels[i], length))\n",
    "        else:\n",
    "            vec.extend(default_place)\n",
    "    return (np.array(vec))\n",
    "    \n",
    "l_to_vec([1,2,3], 4, 2)\n"
   ]
  },
  {
   "cell_type": "code",
   "execution_count": 3,
   "metadata": {},
   "outputs": [],
   "source": [
    "n = 10 # we can translate 10 bits.\n",
    "ldpc = LDPCCoder(n)"
   ]
  },
  {
   "cell_type": "code",
   "execution_count": 9,
   "metadata": {},
   "outputs": [],
   "source": [
    "# message_to_send is an integer from 0 to 1<<n-1.\n",
    "message_to_send = num_to_bin(1000)\n",
    "# Select the message_to_send-th column.\n",
    "received_codeword = ldpc.encode(1000)\n",
    "for i in xrange(len(received_codeword)):\n",
    "    if np.random.rand() > 0.95:\n",
    "        received_codeword[i] = 1 - received_codeword[i]\n",
    "\n",
    "\n",
    "decode_mss = ldpc.decode(received_codeword)\n",
    "\n",
    "\n",
    "\n",
    "#if decode_result == message_to_send:\n",
    "#    print 'Decoding correct'\n",
    "#else:\n",
    "#    print 'Decoding error'"
   ]
  },
  {
   "cell_type": "code",
   "execution_count": 10,
   "metadata": {},
   "outputs": [
    {
     "data": {
      "text/plain": [
       "array([0, 0, 0, 1, 0, 1, 1, 1, 1, 1])"
      ]
     },
     "execution_count": 10,
     "metadata": {},
     "output_type": "execute_result"
    }
   ],
   "source": [
    "decode_mss"
   ]
  },
  {
   "cell_type": "code",
   "execution_count": 68,
   "metadata": {},
   "outputs": [
    {
     "data": {
      "text/plain": [
       "24"
      ]
     },
     "execution_count": 68,
     "metadata": {},
     "output_type": "execute_result"
    }
   ],
   "source": [
    "ldpc.code_length"
   ]
  },
  {
   "cell_type": "code",
   "execution_count": 67,
   "metadata": {},
   "outputs": [
    {
     "data": {
      "text/plain": [
       "14"
      ]
     },
     "execution_count": 67,
     "metadata": {},
     "output_type": "execute_result"
    }
   ],
   "source": [
    "ldpc.message_length"
   ]
  },
  {
   "cell_type": "code",
   "execution_count": 16,
   "metadata": {},
   "outputs": [
    {
     "data": {
      "text/plain": [
       "[0, 0, 1, 0, 0, 1, 1]"
      ]
     },
     "execution_count": 16,
     "metadata": {},
     "output_type": "execute_result"
    }
   ],
   "source": [
    "num_to_bin(100)"
   ]
  },
  {
   "cell_type": "code",
   "execution_count": 70,
   "metadata": {},
   "outputs": [],
   "source": [
    "mss = ldpc.encode([0, 0, 0, 1, 0, 1, 1, 1, 1, 1, 1, 1])"
   ]
  },
  {
   "cell_type": "code",
   "execution_count": 74,
   "metadata": {},
   "outputs": [
    {
     "name": "stdout",
     "output_type": "stream",
     "text": [
      "[0 0 0 1 0 1 1 1 1 1]\n",
      "[1 1 0 0 0 0 0 0 0 0]\n"
     ]
    },
    {
     "data": {
      "text/plain": [
       "array([0, 0, 0, 1, 0, 1, 1, 1, 1, 1, 1, 1, 0, 0, 0, 0, 0, 0, 0, 0])"
      ]
     },
     "execution_count": 74,
     "metadata": {},
     "output_type": "execute_result"
    }
   ],
   "source": [
    "ldpc.decode(mss)"
   ]
  },
  {
   "cell_type": "code",
   "execution_count": null,
   "metadata": {
    "collapsed": true
   },
   "outputs": [],
   "source": []
  }
 ],
 "metadata": {
  "kernelspec": {
   "display_name": "Python 2",
   "language": "python",
   "name": "python2"
  },
  "language_info": {
   "codemirror_mode": {
    "name": "ipython",
    "version": 2
   },
   "file_extension": ".py",
   "mimetype": "text/x-python",
   "name": "python",
   "nbconvert_exporter": "python",
   "pygments_lexer": "ipython2",
   "version": "2.7.13"
  }
 },
 "nbformat": 4,
 "nbformat_minor": 2
}
