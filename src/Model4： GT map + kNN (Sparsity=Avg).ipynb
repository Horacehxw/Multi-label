{
 "cells": [
  {
   "cell_type": "markdown",
   "metadata": {},
   "source": [
    "# Group testing + kNN\n"
   ]
  },
  {
   "cell_type": "code",
   "execution_count": 1,
   "metadata": {},
   "outputs": [
    {
     "name": "stderr",
     "output_type": "stream",
     "text": [
      "Failed to load GPU Faiss: No module named swigfaiss_gpu\n",
      "Faiss falling back to CPU-only.\n"
     ]
    }
   ],
   "source": [
    "%matplotlib inline\n",
    "import math\n",
    "import os\n",
    "import data_util\n",
    "import BMapModel\n",
    "#from data_util import DataPoint\n",
    "import matplotlib.pyplot as plt\n",
    "import numpy as np\n",
    "import pandas as pd\n",
    "import seaborn as sns\n",
    "import faiss\n",
    "import util\n",
    "# import joblib # version incompatibel with sklearn's joblib and can't load the previous model\n",
    "\n",
    "\n",
    "from sklearn.externals import joblib # store classifiers\n",
    "from sklearn.preprocessing import MultiLabelBinarizer # convert y to {0,1}^L\n",
    "from sklearn.preprocessing import StandardScaler # normalize features \n",
    "from sklearn.feature_extraction import DictVectorizer # extract feature vector to x\n",
    "from numpy.random import normal # generate transforming matrix\n",
    "from sklearn.neighbors import KDTree #KDTree for fast kNN search\n",
    "from sklearn.linear_model import LogisticRegression\n",
    "from sklearn.svm import LinearSVC\n",
    "from sklearn.feature_selection import SelectPercentile\n",
    "from sklearn.feature_selection import VarianceThreshold\n",
    "from sklearn.metrics import average_precision_score\n",
    "from joblib import Parallel, delayed # Multitread\n",
    "from pytictoc import TicToc"
   ]
  },
  {
   "cell_type": "code",
   "execution_count": 2,
   "metadata": {
    "scrolled": true
   },
   "outputs": [
    {
     "name": "stdout",
     "output_type": "stream",
     "text": [
      "../data:\r\n",
      "AmazonCat  Delicious  Mediamill  README_Datasets  XMLDatasetRead\r\n",
      "Bibtex\t   Eurlex     RCV1-x\t Wiki10\r\n",
      "\r\n",
      "../data/AmazonCat:\r\n",
      "amazonCat_test.txt  amazonCat_train.txt\r\n",
      "\r\n",
      "../data/Bibtex:\r\n",
      "Bibtex_data.txt  bibtex_trSplit.txt  bibtex_tstSplit.txt\r\n",
      "\r\n",
      "../data/Delicious:\r\n",
      "Delicious_data.txt  delicious_trSplit.txt  delicious_tstSplit.txt\r\n",
      "\r\n",
      "../data/Eurlex:\r\n",
      "eurlex_test.txt  eurlex_train.txt\r\n",
      "\r\n",
      "../data/Mediamill:\r\n",
      "Mediamill_data.txt  mediamill_trSplit.txt  mediamill_tstSplit.txt\r\n",
      "\r\n",
      "../data/RCV1-x:\r\n",
      "rcv1x_test.txt\trcv1x_train.txt\r\n",
      "\r\n",
      "../data/Wiki10:\r\n",
      "wiki10_test.txt  wiki10_train.txt\r\n",
      "\r\n",
      "../data/XMLDatasetRead:\r\n",
      "XMLDatasetRead\r\n",
      "\r\n",
      "../data/XMLDatasetRead/XMLDatasetRead:\r\n",
      "ReadData_Matlab  README_Datasets\r\n",
      "\r\n",
      "../data/XMLDatasetRead/XMLDatasetRead/ReadData_Matlab:\r\n",
      "make.m\tread_data.cpp  README.txt  write_data.cpp\r\n"
     ]
    }
   ],
   "source": [
    "!ls -R ../data"
   ]
  },
  {
   "cell_type": "code",
   "execution_count": 3,
   "metadata": {},
   "outputs": [
    {
     "name": "stdout",
     "output_type": "stream",
     "text": [
      "\u001b[0m\u001b[01;32m../data/Delicious/Delicious_data.txt\u001b[0m*\r\n"
     ]
    }
   ],
   "source": [
    "ls ../data/Delicious/Delicious_data.txt"
   ]
  },
  {
   "cell_type": "code",
   "execution_count": 4,
   "metadata": {
    "collapsed": true
   },
   "outputs": [],
   "source": [
    "data_dir = \"../data\"\n",
    "model_dir = \"../.model4\"\n",
    "train_filename = \"/Delicious/Delicious_data.txt\"\n",
    "#test_filename = \"/Eurlex/eurlex_test.txt\"\n",
    "tr_split_file = \"/Delicious/delicious_trSplit.txt\"\n",
    "te_split_file = \"/Delicious/delicious_tstSplit.txt\"\n",
    "\n",
    "path = os.path.dirname(train_filename)\n",
    "model_path = model_dir + path\n",
    "num_core = 8\n",
    "L_hat_ratio = 0.5\n",
    "time = TicToc()"
   ]
  },
  {
   "cell_type": "code",
   "execution_count": 5,
   "metadata": {
    "scrolled": true
   },
   "outputs": [
    {
     "name": "stdout",
     "output_type": "stream",
     "text": [
      "num_point=16105, num_label=983, num_feature=500\n"
     ]
    }
   ],
   "source": [
    "tr_data, num_point, num_feature, num_label = data_util.read_file(data_dir+train_filename)\n",
    "print(\"num_point={}, num_label={}, num_feature={}\".format(num_point, num_label, num_feature))"
   ]
  },
  {
   "cell_type": "code",
   "execution_count": 6,
   "metadata": {
    "collapsed": true
   },
   "outputs": [],
   "source": [
    "#te_data, _, _, _ = data_util.read_file(data_dir+test_filename)"
   ]
  },
  {
   "cell_type": "code",
   "execution_count": 7,
   "metadata": {
    "collapsed": true
   },
   "outputs": [],
   "source": [
    "tr_split = data_util.split_data(data=tr_data, split_file=data_dir+tr_split_file)\n",
    "te_split = data_util.split_data(data=tr_data, split_file=data_dir+te_split_file)"
   ]
  },
  {
   "cell_type": "code",
   "execution_count": 8,
   "metadata": {
    "collapsed": true
   },
   "outputs": [],
   "source": [
    "X_tr, Y_tr, X_te, Y_te = data_util.data_transform(tr_split, te_split, num_label)"
   ]
  },
  {
   "cell_type": "code",
   "execution_count": 9,
   "metadata": {},
   "outputs": [
    {
     "data": {
      "text/plain": [
       "((12920, 500), (3185, 500))"
      ]
     },
     "execution_count": 9,
     "metadata": {},
     "output_type": "execute_result"
    }
   ],
   "source": [
    "X_tr.shape, X_te.shape"
   ]
  },
  {
   "cell_type": "markdown",
   "metadata": {},
   "source": [
    "## Group testing + kNN\n",
    "Fisrt we construct a random matrix $$M \\in \\{0,1\\}^{\\hat L\\times L}$$ where each entry has a binomial distribution.\n",
    "\n",
    "Then we do group testing mapping $$z = M \\cdot Y$$\n",
    "\n",
    "where $$z_{i,j}=\\sum_{k=1}^LM_{i, k}\\cdot Y_{k,j} \\quad \\text{ in boolean operation}$$ \n",
    "\n",
    "note that in boolean algebra (+ means or, $\\cdot$ means and)\n",
    "\n",
    "Then we train binary classifiers on each bit of $z \\in \\{0, 1\\}^{\\hat L}$\n",
    "\n",
    "For each test point, we predict its $\\hat z$ and then use kNN to find the nearest k neighbors from $z=[My]$ which is all our lower degree space's mapping.\n",
    "\n",
    "### Step 0: data preposseing\n",
    "normalize features and select prominent features"
   ]
  },
  {
   "cell_type": "code",
   "execution_count": 10,
   "metadata": {},
   "outputs": [
    {
     "data": {
      "text/plain": [
       "(3185, 500)"
      ]
     },
     "execution_count": 10,
     "metadata": {},
     "output_type": "execute_result"
    }
   ],
   "source": [
    "# normalize features\n",
    "X_tr = StandardScaler().fit_transform(X_tr)\n",
    "X_te = StandardScaler().fit_transform(X_te)\n",
    "X_te.shape"
   ]
  },
  {
   "cell_type": "markdown",
   "metadata": {},
   "source": [
    "### Step 1: map to $\\hat L$ space and kNN search index\n",
    "\n",
    "We apply $$\\hat L = k \\log L$$ where $k$ indicates the sparsity of each label vector $y_i = \\{0,1\\}^L$. By default we choose k to be the 99.9% maximum sparsity to avoid extreme cases.\n",
    "\n",
    "The data in \"Eurlex\" contains $L = 5000$ labels, we are trying to map it into $\\hat L = 200$ space."
   ]
  },
  {
   "cell_type": "code",
   "execution_count": 11,
   "metadata": {},
   "outputs": [
    {
     "data": {
      "text/plain": [
       "19.035371517027865"
      ]
     },
     "execution_count": 11,
     "metadata": {},
     "output_type": "execute_result"
    }
   ],
   "source": [
    "k = np.mean([Y.sum() for Y in Y_tr])\n",
    "k"
   ]
  },
  {
   "cell_type": "code",
   "execution_count": 12,
   "metadata": {},
   "outputs": [
    {
     "data": {
      "text/plain": [
       "190"
      ]
     },
     "execution_count": 12,
     "metadata": {},
     "output_type": "execute_result"
    }
   ],
   "source": [
    "L_hat = int(math.ceil(k * math.log(Y_tr.shape[1], 2) * L_hat_ratio))\n",
    "L_hat"
   ]
  },
  {
   "cell_type": "code",
   "execution_count": 13,
   "metadata": {},
   "outputs": [
    {
     "data": {
      "text/plain": [
       "(12920, 983)"
      ]
     },
     "execution_count": 13,
     "metadata": {},
     "output_type": "execute_result"
    }
   ],
   "source": [
    "Y_tr.shape"
   ]
  },
  {
   "cell_type": "code",
   "execution_count": 14,
   "metadata": {},
   "outputs": [
    {
     "name": "stdout",
     "output_type": "stream",
     "text": [
      "Elapsed time is 3.317080 seconds.\n"
     ]
    }
   ],
   "source": [
    "time.tic()\n",
    "Z_tr = util.group_test(Y_tr, L_hat, k)\n",
    "time.toc()"
   ]
  },
  {
   "cell_type": "markdown",
   "metadata": {},
   "source": [
    "### Step 2: Train Model\n",
    "\n",
    "#### 2.1 train binary classifiers on each bit"
   ]
  },
  {
   "cell_type": "code",
   "execution_count": 15,
   "metadata": {
    "collapsed": true
   },
   "outputs": [],
   "source": [
    "def train_bit(bit):\n",
    "    print \"Trianning model for the {}th bit\\n... ... ... \\n\".format(bit)\n",
    "    #clf = LogisticRegression(solver='sag')\n",
    "    clf = LinearSVC(dual=False)\n",
    "    clf.fit(y=Z_tr[:, bit], X=X_tr)\n",
    "    joblib.dump(clf, os.path.join(model_path , 'label{}.pkl'.format(bit)))\n",
    "    print \"{}th bit's model successfully stored in {}/label{}.pkl\\n\".format(bit, model_path, bit)"
   ]
  },
  {
   "cell_type": "code",
   "execution_count": 16,
   "metadata": {
    "scrolled": true
   },
   "outputs": [
    {
     "name": "stdout",
     "output_type": "stream",
     "text": [
      "Trianning model for the 0th bit\n",
      "... ... ... \n",
      "Trianning model for the 1th bit\n",
      "... ... ... \n",
      "Trianning model for the 3th bit\n",
      "... ... ... \n",
      "\n",
      "Trianning model for the 2th bit\n",
      "... ... ... \n",
      "\n",
      "\n",
      "Trianning model for the 4th bit\n",
      "... ... ... \n",
      "Trianning model for the 5th bit\n",
      "... ... ... \n",
      "\n",
      "\n",
      "Trianning model for the 7th bit\n",
      "... ... ... \n",
      "Trianning model for the 6th bit\n",
      "... ... ... \n",
      "\n",
      "\n",
      "\n",
      "3th bit's model successfully stored in ../.model4/Delicious/label3.pkl\n",
      "\n",
      "Trianning model for the 8th bit\n",
      "... ... ... \n",
      "\n",
      "5th bit's model successfully stored in ../.model4/Delicious/label5.pkl\n",
      "\n",
      "Trianning model for the 9th bit\n",
      "... ... ... \n",
      "\n",
      "2th bit's model successfully stored in ../.model4/Delicious/label2.pkl\n",
      "\n",
      "Trianning model for the 10th bit\n",
      "... ... ... \n",
      "\n",
      "6th bit's model successfully stored in ../.model4/Delicious/label6.pkl\n",
      "\n",
      "Trianning model for the 11th bit\n",
      "... ... ... \n",
      "\n",
      "8th bit's model successfully stored in ../.model4/Delicious/label8.pkl\n",
      "\n",
      "Trianning model for the 12th bit\n",
      "... ... ... \n",
      "\n",
      "4th bit's model successfully stored in ../.model4/Delicious/label4.pkl\n",
      "\n",
      "Trianning model for the 13th bit\n",
      "... ... ... \n",
      "\n",
      "0th bit's model successfully stored in ../.model4/Delicious/label0.pkl\n",
      "\n",
      "Trianning model for the 14th bit\n",
      "... ... ... \n",
      "\n",
      "1th bit's model successfully stored in ../.model4/Delicious/label1.pkl\n",
      "\n",
      "Trianning model for the 15th bit\n",
      "... ... ... \n",
      "\n",
      "9th bit's model successfully stored in ../.model4/Delicious/label9.pkl\n",
      "\n",
      "7th bit's model successfully stored in ../.model4/Delicious/label7.pkl\n",
      "Trianning model for the 16th bit\n",
      "... ... ... \n",
      "\n",
      "Trianning model for the 17th bit\n",
      "... ... ... \n",
      "\n",
      "\n",
      "10th bit's model successfully stored in ../.model4/Delicious/label10.pkl\n",
      "\n",
      "Trianning model for the 18th bit\n",
      "... ... ... \n",
      "\n",
      "12th bit's model successfully stored in ../.model4/Delicious/label12.pkl\n",
      "\n",
      "Trianning model for the 19th bit\n",
      "... ... ... \n",
      "\n",
      "15th bit's model successfully stored in ../.model4/Delicious/label15.pkl\n",
      "\n",
      "Trianning model for the 20th bit\n",
      "... ... ... \n",
      "\n",
      "11th bit's model successfully stored in ../.model4/Delicious/label11.pkl\n",
      "\n",
      "Trianning model for the 21th bit\n",
      "... ... ... \n",
      "\n",
      "14th bit's model successfully stored in ../.model4/Delicious/label14.pkl\n",
      "\n",
      "Trianning model for the 22th bit\n",
      "... ... ... \n",
      "\n",
      "17th bit's model successfully stored in ../.model4/Delicious/label17.pkl\n",
      "\n",
      "Trianning model for the 23th bit\n",
      "... ... ... \n",
      "\n",
      "13th bit's model successfully stored in ../.model4/Delicious/label13.pkl\n",
      "\n",
      "Trianning model for the 24th bit\n",
      "... ... ... \n",
      "\n",
      "16th bit's model successfully stored in ../.model4/Delicious/label16.pkl\n",
      "\n",
      "Trianning model for the 25th bit\n",
      "... ... ... \n",
      "\n",
      "23th bit's model successfully stored in ../.model4/Delicious/label23.pkl\n",
      "\n",
      "Trianning model for the 26th bit\n",
      "... ... ... \n",
      "\n",
      "25th bit's model successfully stored in ../.model4/Delicious/label25.pkl\n",
      "\n",
      "Trianning model for the 27th bit\n",
      "... ... ... \n",
      "\n",
      "24th bit's model successfully stored in ../.model4/Delicious/label24.pkl\n",
      "\n",
      "Trianning model for the 28th bit\n",
      "... ... ... \n",
      "\n",
      "18th bit's model successfully stored in ../.model4/Delicious/label18.pkl\n",
      "\n",
      "Trianning model for the 29th bit\n",
      "... ... ... \n",
      "\n",
      "19th bit's model successfully stored in ../.model4/Delicious/label19.pkl\n",
      "\n",
      "Trianning model for the 30th bit\n",
      "... ... ... \n",
      "\n",
      "21th bit's model successfully stored in ../.model4/Delicious/label21.pkl\n",
      "\n",
      "Trianning model for the 31th bit\n",
      "... ... ... \n",
      "\n",
      "20th bit's model successfully stored in ../.model4/Delicious/label20.pkl\n",
      "\n",
      "Trianning model for the 32th bit\n",
      "... ... ... \n",
      "\n",
      "22th bit's model successfully stored in ../.model4/Delicious/label22.pkl\n",
      "\n",
      "Trianning model for the 33th bit\n",
      "... ... ... \n",
      "\n",
      "31th bit's model successfully stored in ../.model4/Delicious/label31.pkl\n",
      "\n",
      "Trianning model for the 34th bit\n",
      "... ... ... \n",
      "\n",
      "27th bit's model successfully stored in ../.model4/Delicious/label27.pkl\n",
      "\n",
      "Trianning model for the 35th bit\n",
      "... ... ... \n",
      "\n",
      "26th bit's model successfully stored in ../.model4/Delicious/label26.pkl\n",
      "\n",
      "Trianning model for the 36th bit\n",
      "... ... ... \n",
      "\n",
      "28th bit's model successfully stored in ../.model4/Delicious/label28.pkl\n",
      "\n",
      "Trianning model for the 37th bit\n",
      "... ... ... \n",
      "\n",
      "34th bit's model successfully stored in ../.model4/Delicious/label34.pkl\n",
      "\n",
      "Trianning model for the 38th bit\n",
      "... ... ... \n",
      "\n",
      "29th bit's model successfully stored in ../.model4/Delicious/label29.pkl\n",
      "\n",
      "Trianning model for the 39th bit\n",
      "... ... ... \n",
      "\n",
      "32th bit's model successfully stored in ../.model4/Delicious/label32.pkl\n",
      "\n",
      "Trianning model for the 40th bit\n",
      "... ... ... \n",
      "\n",
      "33th bit's model successfully stored in ../.model4/Delicious/label33.pkl\n",
      "\n",
      "Trianning model for the 41th bit\n",
      "... ... ... \n",
      "\n",
      "39th bit's model successfully stored in ../.model4/Delicious/label39.pkl\n",
      "\n",
      "Trianning model for the 42th bit\n",
      "... ... ... \n",
      "\n",
      "30th bit's model successfully stored in ../.model4/Delicious/label30.pkl\n",
      "\n",
      "Trianning model for the 43th bit\n",
      "... ... ... \n",
      "\n",
      "35th bit's model successfully stored in ../.model4/Delicious/label35.pkl\n",
      "\n",
      "Trianning model for the 44th bit\n",
      "... ... ... \n",
      "\n",
      "36th bit's model successfully stored in ../.model4/Delicious/label36.pkl\n",
      "\n",
      "Trianning model for the 45th bit\n",
      "... ... ... \n",
      "\n",
      "38th bit's model successfully stored in ../.model4/Delicious/label38.pkl\n",
      "\n",
      "Trianning model for the 46th bit\n",
      "... ... ... \n",
      "\n",
      "40th bit's model successfully stored in ../.model4/Delicious/label40.pkl\n",
      "\n",
      "Trianning model for the 47th bit\n",
      "... ... ... \n",
      "\n",
      "37th bit's model successfully stored in ../.model4/Delicious/label37.pkl\n",
      "\n",
      "Trianning model for the 48th bit\n",
      "... ... ... \n",
      "\n",
      "41th bit's model successfully stored in ../.model4/Delicious/label41.pkl\n",
      "\n",
      "Trianning model for the 49th bit\n",
      "... ... ... \n",
      "\n",
      "42th bit's model successfully stored in ../.model4/Delicious/label42.pkl\n",
      "\n",
      "Trianning model for the 50th bit\n",
      "... ... ... \n",
      "\n",
      "44th bit's model successfully stored in ../.model4/Delicious/label44.pkl\n",
      "\n",
      "Trianning model for the 51th bit\n",
      "... ... ... \n",
      "\n",
      "43th bit's model successfully stored in ../.model4/Delicious/label43.pkl\n",
      "\n",
      "Trianning model for the 52th bit\n",
      "... ... ... \n",
      "\n",
      "48th bit's model successfully stored in ../.model4/Delicious/label48.pkl\n",
      "\n",
      "Trianning model for the 53th bit\n",
      "... ... ... \n",
      "\n",
      "45th bit's model successfully stored in ../.model4/Delicious/label45.pkl\n",
      "\n",
      "Trianning model for the 54th bit\n",
      "... ... ... \n",
      "\n",
      "47th bit's model successfully stored in ../.model4/Delicious/label47.pkl\n",
      "\n",
      "Trianning model for the 55th bit\n",
      "... ... ... \n",
      "\n",
      "49th bit's model successfully stored in ../.model4/Delicious/label49.pkl\n",
      "\n",
      "Trianning model for the 56th bit\n",
      "... ... ... \n",
      "\n",
      "46th bit's model successfully stored in ../.model4/Delicious/label46.pkl\n",
      "\n",
      "Trianning model for the 57th bit\n",
      "... ... ... \n",
      "\n",
      "54th bit's model successfully stored in ../.model4/Delicious/label54.pkl\n",
      "\n",
      "Trianning model for the 58th bit\n",
      "... ... ... \n",
      "\n",
      "50th bit's model successfully stored in ../.model4/Delicious/label50.pkl\n",
      "\n",
      "Trianning model for the 59th bit\n",
      "... ... ... \n",
      "\n",
      "52th bit's model successfully stored in ../.model4/Delicious/label52.pkl\n",
      "\n",
      "Trianning model for the 60th bit\n",
      "... ... ... \n",
      "\n",
      "51th bit's model successfully stored in ../.model4/Delicious/label51.pkl\n",
      "\n",
      "Trianning model for the 61th bit\n",
      "... ... ... \n",
      "\n",
      "59th bit's model successfully stored in ../.model4/Delicious/label59.pkl\n",
      "\n",
      "Trianning model for the 62th bit\n",
      "... ... ... \n",
      "\n",
      "53th bit's model successfully stored in ../.model4/Delicious/label53.pkl\n",
      "\n",
      "Trianning model for the 63th bit\n",
      "... ... ... \n",
      "\n",
      "61th bit's model successfully stored in ../.model4/Delicious/label61.pkl\n",
      "\n",
      "Trianning model for the 64th bit\n",
      "... ... ... \n",
      "\n",
      "56th bit's model successfully stored in ../.model4/Delicious/label56.pkl\n",
      "\n",
      "Trianning model for the 65th bit\n",
      "... ... ... \n",
      "\n",
      "55th bit's model successfully stored in ../.model4/Delicious/label55.pkl\n",
      "\n",
      "Trianning model for the 66th bit\n",
      "... ... ... \n",
      "\n",
      "57th bit's model successfully stored in ../.model4/Delicious/label57.pkl\n",
      "\n",
      "Trianning model for the 67th bit\n",
      "... ... ... \n",
      "\n",
      "65th bit's model successfully stored in ../.model4/Delicious/label65.pkl\n",
      "\n",
      "Trianning model for the 68th bit\n",
      "... ... ... \n",
      "\n",
      "58th bit's model successfully stored in ../.model4/Delicious/label58.pkl\n",
      "\n",
      "Trianning model for the 69th bit\n",
      "... ... ... \n",
      "\n",
      "60th bit's model successfully stored in ../.model4/Delicious/label60.pkl\n",
      "\n",
      "Trianning model for the 70th bit\n",
      "... ... ... \n",
      "\n",
      "63th bit's model successfully stored in ../.model4/Delicious/label63.pkl\n",
      "\n",
      "Trianning model for the 71th bit\n",
      "... ... ... \n",
      "\n",
      "64th bit's model successfully stored in ../.model4/Delicious/label64.pkl\n",
      "\n",
      "Trianning model for the 72th bit\n",
      "... ... ... \n"
     ]
    },
    {
     "name": "stdout",
     "output_type": "stream",
     "text": [
      "\n",
      "62th bit's model successfully stored in ../.model4/Delicious/label62.pkl\n",
      "\n",
      "Trianning model for the 73th bit\n",
      "... ... ... \n",
      "\n",
      "69th bit's model successfully stored in ../.model4/Delicious/label69.pkl\n",
      "\n",
      "Trianning model for the 74th bit\n",
      "... ... ... \n",
      "\n",
      "67th bit's model successfully stored in ../.model4/Delicious/label67.pkl\n",
      "\n",
      "Trianning model for the 75th bit\n",
      "... ... ... \n",
      "\n",
      "66th bit's model successfully stored in ../.model4/Delicious/label66.pkl\n",
      "\n",
      "Trianning model for the 76th bit\n",
      "... ... ... \n",
      "\n",
      "71th bit's model successfully stored in ../.model4/Delicious/label71.pkl\n",
      "\n",
      "Trianning model for the 77th bit\n",
      "... ... ... \n",
      "\n",
      "76th bit's model successfully stored in ../.model4/Delicious/label76.pkl\n",
      "\n",
      "Trianning model for the 78th bit\n",
      "... ... ... \n",
      "\n",
      "70th bit's model successfully stored in ../.model4/Delicious/label70.pkl\n",
      "\n",
      "Trianning model for the 79th bit\n",
      "... ... ... \n",
      "\n",
      "68th bit's model successfully stored in ../.model4/Delicious/label68.pkl\n",
      "\n",
      "Trianning model for the 80th bit\n",
      "... ... ... \n",
      "\n",
      "73th bit's model successfully stored in ../.model4/Delicious/label73.pkl\n",
      "\n",
      "Trianning model for the 81th bit\n",
      "... ... ... \n",
      "\n",
      "72th bit's model successfully stored in ../.model4/Delicious/label72.pkl\n",
      "\n",
      "Trianning model for the 82th bit\n",
      "... ... ... \n",
      "\n",
      "74th bit's model successfully stored in ../.model4/Delicious/label74.pkl\n",
      "\n",
      "Trianning model for the 83th bit\n",
      "... ... ... \n",
      "\n",
      "83th bit's model successfully stored in ../.model4/Delicious/label83.pkl\n",
      "\n",
      "Trianning model for the 84th bit\n",
      "... ... ... \n",
      "\n",
      "75th bit's model successfully stored in ../.model4/Delicious/label75.pkl\n",
      "\n",
      "Trianning model for the 85th bit\n",
      "... ... ... \n",
      "\n",
      "77th bit's model successfully stored in ../.model4/Delicious/label77.pkl\n",
      "\n",
      "Trianning model for the 86th bit\n",
      "... ... ... \n",
      "\n",
      "78th bit's model successfully stored in ../.model4/Delicious/label78.pkl\n",
      "\n",
      "Trianning model for the 87th bit\n",
      "... ... ... \n",
      "\n",
      "79th bit's model successfully stored in ../.model4/Delicious/label79.pkl\n",
      "\n",
      "Trianning model for the 88th bit\n",
      "... ... ... \n",
      "\n",
      "81th bit's model successfully stored in ../.model4/Delicious/label81.pkl\n",
      "\n",
      "Trianning model for the 89th bit\n",
      "... ... ... \n",
      "\n",
      "80th bit's model successfully stored in ../.model4/Delicious/label80.pkl\n",
      "\n",
      "Trianning model for the 90th bit\n",
      "... ... ... \n",
      "\n",
      "85th bit's model successfully stored in ../.model4/Delicious/label85.pkl\n",
      "\n",
      "Trianning model for the 91th bit\n",
      "... ... ... \n",
      "\n",
      "87th bit's model successfully stored in ../.model4/Delicious/label87.pkl\n",
      "\n",
      "Trianning model for the 92th bit\n",
      "... ... ... \n",
      "\n",
      "82th bit's model successfully stored in ../.model4/Delicious/label82.pkl\n",
      "\n",
      "Trianning model for the 93th bit\n",
      "... ... ... \n",
      "\n",
      "88th bit's model successfully stored in ../.model4/Delicious/label88.pkl\n",
      "\n",
      "Trianning model for the 94th bit\n",
      "... ... ... \n",
      "\n",
      "93th bit's model successfully stored in ../.model4/Delicious/label93.pkl\n",
      "\n",
      "Trianning model for the 95th bit\n",
      "... ... ... \n",
      "\n",
      "84th bit's model successfully stored in ../.model4/Delicious/label84.pkl\n",
      "\n",
      "Trianning model for the 96th bit\n",
      "... ... ... \n",
      "\n",
      "86th bit's model successfully stored in ../.model4/Delicious/label86.pkl\n",
      "\n",
      "Trianning model for the 97th bit\n",
      "... ... ... \n",
      "\n",
      "90th bit's model successfully stored in ../.model4/Delicious/label90.pkl\n",
      "\n",
      "Trianning model for the 98th bit\n",
      "... ... ... \n",
      "\n",
      "89th bit's model successfully stored in ../.model4/Delicious/label89.pkl\n",
      "\n",
      "Trianning model for the 99th bit\n",
      "... ... ... \n",
      "\n",
      "94th bit's model successfully stored in ../.model4/Delicious/label94.pkl\n",
      "\n",
      "Trianning model for the 100th bit\n",
      "... ... ... \n",
      "\n",
      "92th bit's model successfully stored in ../.model4/Delicious/label92.pkl\n",
      "\n",
      "Trianning model for the 101th bit\n",
      "... ... ... \n",
      "\n",
      "95th bit's model successfully stored in ../.model4/Delicious/label95.pkl\n",
      "\n",
      "Trianning model for the 102th bit\n",
      "... ... ... \n",
      "\n",
      "91th bit's model successfully stored in ../.model4/Delicious/label91.pkl\n",
      "\n",
      "Trianning model for the 103th bit\n",
      "... ... ... \n",
      "\n",
      "97th bit's model successfully stored in ../.model4/Delicious/label97.pkl\n",
      "\n",
      "Trianning model for the 104th bit\n",
      "... ... ... \n",
      "\n",
      "96th bit's model successfully stored in ../.model4/Delicious/label96.pkl\n",
      "\n",
      "Trianning model for the 105th bit\n",
      "... ... ... \n",
      "\n",
      "98th bit's model successfully stored in ../.model4/Delicious/label98.pkl\n",
      "\n",
      "Trianning model for the 106th bit\n",
      "... ... ... \n",
      "\n",
      "101th bit's model successfully stored in ../.model4/Delicious/label101.pkl\n",
      "\n",
      "Trianning model for the 107th bit\n",
      "... ... ... \n",
      "\n",
      "99th bit's model successfully stored in ../.model4/Delicious/label99.pkl\n",
      "\n",
      "Trianning model for the 108th bit\n",
      "... ... ... \n",
      "\n",
      "100th bit's model successfully stored in ../.model4/Delicious/label100.pkl\n",
      "\n",
      "Trianning model for the 109th bit\n",
      "... ... ... \n",
      "\n",
      "102th bit's model successfully stored in ../.model4/Delicious/label102.pkl\n",
      "\n",
      "Trianning model for the 110th bit\n",
      "... ... ... \n",
      "\n",
      "106th bit's model successfully stored in ../.model4/Delicious/label106.pkl\n",
      "\n",
      "Trianning model for the 111th bit\n",
      "... ... ... \n",
      "\n",
      "103th bit's model successfully stored in ../.model4/Delicious/label103.pkl\n",
      "\n",
      "Trianning model for the 112th bit\n",
      "... ... ... \n",
      "\n",
      "105th bit's model successfully stored in ../.model4/Delicious/label105.pkl\n",
      "\n",
      "Trianning model for the 113th bit\n",
      "... ... ... \n",
      "\n",
      "109th bit's model successfully stored in ../.model4/Delicious/label109.pkl\n",
      "\n",
      "Trianning model for the 114th bit\n",
      "... ... ... \n",
      "\n",
      "104th bit's model successfully stored in ../.model4/Delicious/label104.pkl\n",
      "\n",
      "Trianning model for the 115th bit\n",
      "... ... ... \n",
      "\n",
      "108th bit's model successfully stored in ../.model4/Delicious/label108.pkl\n",
      "\n",
      "Trianning model for the 116th bit\n",
      "... ... ... \n",
      "\n",
      "114th bit's model successfully stored in ../.model4/Delicious/label114.pkl\n",
      "\n",
      "Trianning model for the 117th bit\n",
      "... ... ... \n",
      "\n",
      "110th bit's model successfully stored in ../.model4/Delicious/label110.pkl\n",
      "\n",
      "Trianning model for the 118th bit\n",
      "... ... ... \n",
      "\n",
      "107th bit's model successfully stored in ../.model4/Delicious/label107.pkl\n",
      "\n",
      "Trianning model for the 119th bit\n",
      "... ... ... \n",
      "\n",
      "117th bit's model successfully stored in ../.model4/Delicious/label117.pkl\n",
      "\n",
      "Trianning model for the 120th bit\n",
      "... ... ... \n",
      "\n",
      "111th bit's model successfully stored in ../.model4/Delicious/label111.pkl\n",
      "\n",
      "Trianning model for the 121th bit\n",
      "... ... ... \n",
      "\n",
      "112th bit's model successfully stored in ../.model4/Delicious/label112.pkl\n",
      "\n",
      "Trianning model for the 122th bit\n",
      "... ... ... \n",
      "\n",
      "113th bit's model successfully stored in ../.model4/Delicious/label113.pkl\n",
      "\n",
      "Trianning model for the 123th bit\n",
      "... ... ... \n",
      "\n",
      "115th bit's model successfully stored in ../.model4/Delicious/label115.pkl\n",
      "\n",
      "Trianning model for the 124th bit\n",
      "... ... ... \n",
      "\n",
      "122th bit's model successfully stored in ../.model4/Delicious/label122.pkl\n",
      "\n",
      "Trianning model for the 125th bit\n",
      "... ... ... \n",
      "\n",
      "116th bit's model successfully stored in ../.model4/Delicious/label116.pkl\n",
      "\n",
      "Trianning model for the 126th bit\n",
      "... ... ... \n",
      "\n",
      "118th bit's model successfully stored in ../.model4/Delicious/label118.pkl\n",
      "\n",
      "Trianning model for the 127th bit\n",
      "... ... ... \n",
      "\n",
      "119th bit's model successfully stored in ../.model4/Delicious/label119.pkl\n",
      "\n",
      "Trianning model for the 128th bit\n",
      "... ... ... \n",
      "\n",
      "123th bit's model successfully stored in ../.model4/Delicious/label123.pkl\n",
      "\n",
      "Trianning model for the 129th bit\n",
      "... ... ... \n",
      "\n",
      "120th bit's model successfully stored in ../.model4/Delicious/label120.pkl\n",
      "\n",
      "Trianning model for the 130th bit\n",
      "... ... ... \n",
      "\n",
      "121th bit's model successfully stored in ../.model4/Delicious/label121.pkl\n",
      "\n",
      "Trianning model for the 131th bit\n",
      "... ... ... \n",
      "\n",
      "125th bit's model successfully stored in ../.model4/Delicious/label125.pkl\n",
      "\n",
      "Trianning model for the 132th bit\n",
      "... ... ... \n",
      "\n",
      "124th bit's model successfully stored in ../.model4/Delicious/label124.pkl\n",
      "\n",
      "Trianning model for the 133th bit\n",
      "... ... ... \n",
      "\n",
      "127th bit's model successfully stored in ../.model4/Delicious/label127.pkl\n",
      "\n",
      "Trianning model for the 134th bit\n",
      "... ... ... \n",
      "\n",
      "128th bit's model successfully stored in ../.model4/Delicious/label128.pkl\n",
      "\n",
      "Trianning model for the 135th bit\n",
      "... ... ... \n",
      "\n",
      "126th bit's model successfully stored in ../.model4/Delicious/label126.pkl\n",
      "\n",
      "Trianning model for the 136th bit\n",
      "... ... ... \n",
      "\n",
      "130th bit's model successfully stored in ../.model4/Delicious/label130.pkl\n",
      "\n",
      "Trianning model for the 137th bit\n",
      "... ... ... \n",
      "\n",
      "129th bit's model successfully stored in ../.model4/Delicious/label129.pkl\n",
      "\n",
      "Trianning model for the 138th bit\n",
      "... ... ... \n",
      "\n",
      "131th bit's model successfully stored in ../.model4/Delicious/label131.pkl\n",
      "\n",
      "Trianning model for the 139th bit\n",
      "... ... ... \n"
     ]
    },
    {
     "name": "stdout",
     "output_type": "stream",
     "text": [
      "\n",
      "135th bit's model successfully stored in ../.model4/Delicious/label135.pkl\n",
      "\n",
      "Trianning model for the 140th bit\n",
      "... ... ... \n",
      "\n",
      "137th bit's model successfully stored in ../.model4/Delicious/label137.pkl\n",
      "\n",
      "Trianning model for the 141th bit\n",
      "... ... ... \n",
      "\n",
      "132th bit's model successfully stored in ../.model4/Delicious/label132.pkl\n",
      "\n",
      "Trianning model for the 142th bit\n",
      "... ... ... \n",
      "\n",
      "134th bit's model successfully stored in ../.model4/Delicious/label134.pkl\n",
      "\n",
      "Trianning model for the 143th bit\n",
      "... ... ... \n",
      "\n",
      "133th bit's model successfully stored in ../.model4/Delicious/label133.pkl\n",
      "\n",
      "Trianning model for the 144th bit\n",
      "... ... ... \n",
      "\n",
      "140th bit's model successfully stored in ../.model4/Delicious/label140.pkl\n",
      "\n",
      "Trianning model for the 145th bit\n",
      "... ... ... \n",
      "\n",
      "138th bit's model successfully stored in ../.model4/Delicious/label138.pkl\n",
      "\n",
      "Trianning model for the 146th bit\n",
      "... ... ... \n",
      "\n",
      "136th bit's model successfully stored in ../.model4/Delicious/label136.pkl\n",
      "\n",
      "Trianning model for the 147th bit\n",
      "... ... ... \n",
      "\n",
      "142th bit's model successfully stored in ../.model4/Delicious/label142.pkl\n",
      "\n",
      "Trianning model for the 148th bit\n",
      "... ... ... \n",
      "\n",
      "139th bit's model successfully stored in ../.model4/Delicious/label139.pkl\n",
      "\n",
      "Trianning model for the 149th bit\n",
      "... ... ... \n",
      "\n",
      "141th bit's model successfully stored in ../.model4/Delicious/label141.pkl\n",
      "\n",
      "Trianning model for the 150th bit\n",
      "... ... ... \n",
      "\n",
      "144th bit's model successfully stored in ../.model4/Delicious/label144.pkl\n",
      "\n",
      "Trianning model for the 151th bit\n",
      "... ... ... \n",
      "\n",
      "143th bit's model successfully stored in ../.model4/Delicious/label143.pkl\n",
      "\n",
      "Trianning model for the 152th bit\n",
      "... ... ... \n",
      "\n",
      "147th bit's model successfully stored in ../.model4/Delicious/label147.pkl\n",
      "\n",
      "Trianning model for the 153th bit\n",
      "... ... ... \n",
      "\n",
      "145th bit's model successfully stored in ../.model4/Delicious/label145.pkl\n",
      "\n",
      "Trianning model for the 154th bit\n",
      "... ... ... \n",
      "\n",
      "149th bit's model successfully stored in ../.model4/Delicious/label149.pkl\n",
      "\n",
      "Trianning model for the 155th bit\n",
      "... ... ... \n",
      "\n",
      "151th bit's model successfully stored in ../.model4/Delicious/label151.pkl\n",
      "\n",
      "Trianning model for the 156th bit\n",
      "... ... ... \n",
      "\n",
      "152th bit's model successfully stored in ../.model4/Delicious/label152.pkl\n",
      "\n",
      "Trianning model for the 157th bit\n",
      "... ... ... \n",
      "\n",
      "146th bit's model successfully stored in ../.model4/Delicious/label146.pkl\n",
      "\n",
      "Trianning model for the 158th bit\n",
      "... ... ... \n",
      "\n",
      "148th bit's model successfully stored in ../.model4/Delicious/label148.pkl\n",
      "\n",
      "Trianning model for the 159th bit\n",
      "... ... ... \n",
      "\n",
      "150th bit's model successfully stored in ../.model4/Delicious/label150.pkl\n",
      "\n",
      "Trianning model for the 160th bit\n",
      "... ... ... \n",
      "\n",
      "158th bit's model successfully stored in ../.model4/Delicious/label158.pkl\n",
      "\n",
      "Trianning model for the 161th bit\n",
      "... ... ... \n",
      "\n",
      "153th bit's model successfully stored in ../.model4/Delicious/label153.pkl\n",
      "\n",
      "Trianning model for the 162th bit\n",
      "... ... ... \n",
      "\n",
      "155th bit's model successfully stored in ../.model4/Delicious/label155.pkl\n",
      "\n",
      "Trianning model for the 163th bit\n",
      "... ... ... \n",
      "\n",
      "154th bit's model successfully stored in ../.model4/Delicious/label154.pkl\n",
      "\n",
      "Trianning model for the 164th bit\n",
      "... ... ... \n",
      "\n",
      "161th bit's model successfully stored in ../.model4/Delicious/label161.pkl\n",
      "\n",
      "Trianning model for the 165th bit\n",
      "... ... ... \n",
      "\n",
      "156th bit's model successfully stored in ../.model4/Delicious/label156.pkl\n",
      "\n",
      "Trianning model for the 166th bit\n",
      "... ... ... \n",
      "\n",
      "157th bit's model successfully stored in ../.model4/Delicious/label157.pkl\n",
      "\n",
      "Trianning model for the 167th bit\n",
      "... ... ... \n",
      "\n",
      "164th bit's model successfully stored in ../.model4/Delicious/label164.pkl\n",
      "\n",
      "Trianning model for the 168th bit\n",
      "... ... ... \n",
      "\n",
      "159th bit's model successfully stored in ../.model4/Delicious/label159.pkl\n",
      "\n",
      "Trianning model for the 169th bit\n",
      "... ... ... \n",
      "\n",
      "160th bit's model successfully stored in ../.model4/Delicious/label160.pkl\n",
      "\n",
      "Trianning model for the 170th bit\n",
      "... ... ... \n",
      "\n",
      "162th bit's model successfully stored in ../.model4/Delicious/label162.pkl\n",
      "\n",
      "Trianning model for the 171th bit\n",
      "... ... ... \n",
      "\n",
      "163th bit's model successfully stored in ../.model4/Delicious/label163.pkl\n",
      "\n",
      "Trianning model for the 172th bit\n",
      "... ... ... \n",
      "\n",
      "165th bit's model successfully stored in ../.model4/Delicious/label165.pkl\n",
      "\n",
      "Trianning model for the 173th bit\n",
      "... ... ... \n",
      "\n",
      "166th bit's model successfully stored in ../.model4/Delicious/label166.pkl\n",
      "\n",
      "Trianning model for the 174th bit\n",
      "... ... ... \n",
      "\n",
      "167th bit's model successfully stored in ../.model4/Delicious/label167.pkl\n",
      "\n",
      "Trianning model for the 175th bit\n",
      "... ... ... \n",
      "\n",
      "169th bit's model successfully stored in ../.model4/Delicious/label169.pkl\n",
      "\n",
      "Trianning model for the 176th bit\n",
      "... ... ... \n",
      "\n",
      "170th bit's model successfully stored in ../.model4/Delicious/label170.pkl\n",
      "\n",
      "Trianning model for the 177th bit\n",
      "... ... ... \n",
      "\n",
      "171th bit's model successfully stored in ../.model4/Delicious/label171.pkl\n",
      "\n",
      "Trianning model for the 178th bit\n",
      "... ... ... \n",
      "\n",
      "168th bit's model successfully stored in ../.model4/Delicious/label168.pkl\n",
      "\n",
      "Trianning model for the 179th bit\n",
      "... ... ... \n",
      "\n",
      "172th bit's model successfully stored in ../.model4/Delicious/label172.pkl\n",
      "\n",
      "Trianning model for the 180th bit\n",
      "... ... ... \n",
      "\n",
      "173th bit's model successfully stored in ../.model4/Delicious/label173.pkl\n",
      "\n",
      "Trianning model for the 181th bit\n",
      "... ... ... \n",
      "\n",
      "174th bit's model successfully stored in ../.model4/Delicious/label174.pkl\n",
      "\n",
      "Trianning model for the 182th bit\n",
      "... ... ... \n",
      "\n",
      "175th bit's model successfully stored in ../.model4/Delicious/label175.pkl\n",
      "\n",
      "Trianning model for the 183th bit\n",
      "... ... ... \n",
      "\n",
      "178th bit's model successfully stored in ../.model4/Delicious/label178.pkl\n",
      "\n",
      "Trianning model for the 184th bit\n",
      "... ... ... \n",
      "\n",
      "177th bit's model successfully stored in ../.model4/Delicious/label177.pkl\n",
      "\n",
      "Trianning model for the 185th bit\n",
      "... ... ... \n",
      "\n",
      "176th bit's model successfully stored in ../.model4/Delicious/label176.pkl\n",
      "\n",
      "Trianning model for the 186th bit\n",
      "... ... ... \n",
      "\n",
      "180th bit's model successfully stored in ../.model4/Delicious/label180.pkl\n",
      "\n",
      "Trianning model for the 187th bit\n",
      "... ... ... \n",
      "\n",
      "179th bit's model successfully stored in ../.model4/Delicious/label179.pkl\n",
      "\n",
      "Trianning model for the 188th bit\n",
      "... ... ... \n",
      "\n",
      "181th bit's model successfully stored in ../.model4/Delicious/label181.pkl\n",
      "\n",
      "Trianning model for the 189th bit\n",
      "... ... ... \n",
      "\n",
      "187th bit's model successfully stored in ../.model4/Delicious/label187.pkl\n",
      "\n",
      "188th bit's model successfully stored in ../.model4/Delicious/label188.pkl\n",
      "\n",
      "182th bit's model successfully stored in ../.model4/Delicious/label182.pkl\n",
      "\n",
      "184th bit's model successfully stored in ../.model4/Delicious/label184.pkl\n",
      "\n",
      "185th bit's model successfully stored in ../.model4/Delicious/label185.pkl\n",
      "\n",
      "183th bit's model successfully stored in ../.model4/Delicious/label183.pkl\n",
      "\n",
      "186th bit's model successfully stored in ../.model4/Delicious/label186.pkl\n",
      "\n",
      "189th bit's model successfully stored in ../.model4/Delicious/label189.pkl\n",
      "\n"
     ]
    },
    {
     "data": {
      "text/plain": [
       "[None,\n",
       " None,\n",
       " None,\n",
       " None,\n",
       " None,\n",
       " None,\n",
       " None,\n",
       " None,\n",
       " None,\n",
       " None,\n",
       " None,\n",
       " None,\n",
       " None,\n",
       " None,\n",
       " None,\n",
       " None,\n",
       " None,\n",
       " None,\n",
       " None,\n",
       " None,\n",
       " None,\n",
       " None,\n",
       " None,\n",
       " None,\n",
       " None,\n",
       " None,\n",
       " None,\n",
       " None,\n",
       " None,\n",
       " None,\n",
       " None,\n",
       " None,\n",
       " None,\n",
       " None,\n",
       " None,\n",
       " None,\n",
       " None,\n",
       " None,\n",
       " None,\n",
       " None,\n",
       " None,\n",
       " None,\n",
       " None,\n",
       " None,\n",
       " None,\n",
       " None,\n",
       " None,\n",
       " None,\n",
       " None,\n",
       " None,\n",
       " None,\n",
       " None,\n",
       " None,\n",
       " None,\n",
       " None,\n",
       " None,\n",
       " None,\n",
       " None,\n",
       " None,\n",
       " None,\n",
       " None,\n",
       " None,\n",
       " None,\n",
       " None,\n",
       " None,\n",
       " None,\n",
       " None,\n",
       " None,\n",
       " None,\n",
       " None,\n",
       " None,\n",
       " None,\n",
       " None,\n",
       " None,\n",
       " None,\n",
       " None,\n",
       " None,\n",
       " None,\n",
       " None,\n",
       " None,\n",
       " None,\n",
       " None,\n",
       " None,\n",
       " None,\n",
       " None,\n",
       " None,\n",
       " None,\n",
       " None,\n",
       " None,\n",
       " None,\n",
       " None,\n",
       " None,\n",
       " None,\n",
       " None,\n",
       " None,\n",
       " None,\n",
       " None,\n",
       " None,\n",
       " None,\n",
       " None,\n",
       " None,\n",
       " None,\n",
       " None,\n",
       " None,\n",
       " None,\n",
       " None,\n",
       " None,\n",
       " None,\n",
       " None,\n",
       " None,\n",
       " None,\n",
       " None,\n",
       " None,\n",
       " None,\n",
       " None,\n",
       " None,\n",
       " None,\n",
       " None,\n",
       " None,\n",
       " None,\n",
       " None,\n",
       " None,\n",
       " None,\n",
       " None,\n",
       " None,\n",
       " None,\n",
       " None,\n",
       " None,\n",
       " None,\n",
       " None,\n",
       " None,\n",
       " None,\n",
       " None,\n",
       " None,\n",
       " None,\n",
       " None,\n",
       " None,\n",
       " None,\n",
       " None,\n",
       " None,\n",
       " None,\n",
       " None,\n",
       " None,\n",
       " None,\n",
       " None,\n",
       " None,\n",
       " None,\n",
       " None,\n",
       " None,\n",
       " None,\n",
       " None,\n",
       " None,\n",
       " None,\n",
       " None,\n",
       " None,\n",
       " None,\n",
       " None,\n",
       " None,\n",
       " None,\n",
       " None,\n",
       " None,\n",
       " None,\n",
       " None,\n",
       " None,\n",
       " None,\n",
       " None,\n",
       " None,\n",
       " None,\n",
       " None,\n",
       " None,\n",
       " None,\n",
       " None,\n",
       " None,\n",
       " None,\n",
       " None,\n",
       " None,\n",
       " None,\n",
       " None,\n",
       " None,\n",
       " None,\n",
       " None,\n",
       " None,\n",
       " None,\n",
       " None,\n",
       " None,\n",
       " None,\n",
       " None,\n",
       " None,\n",
       " None,\n",
       " None]"
      ]
     },
     "execution_count": 16,
     "metadata": {},
     "output_type": "execute_result"
    }
   ],
   "source": [
    "from joblib import Parallel, delayed # Multitread\n",
    "Parallel(n_jobs=num_core)(delayed(train_bit)(i) for i in range(Z_tr.shape[1]))"
   ]
  },
  {
   "cell_type": "markdown",
   "metadata": {
    "collapsed": true
   },
   "source": [
    "#### 2.2 Store the lower degree space info for kNN\n",
    "\n",
    "We use opensource faiss library from FAIR to speedup the ANN(Approximate Nearest Neighbor) search.\n",
    "\n",
    "When dimension and data size is relatively small, we use the brute force kNN search."
   ]
  },
  {
   "cell_type": "code",
   "execution_count": 17,
   "metadata": {
    "collapsed": true
   },
   "outputs": [],
   "source": [
    "# faiss brute force search\n",
    "nn_index = faiss.index_factory(Z_tr.shape[1], \"Flat\", faiss.METRIC_L2)   # build the index\n",
    "nn_index.add(Z_tr.astype('float32'))"
   ]
  },
  {
   "cell_type": "markdown",
   "metadata": {
    "collapsed": true
   },
   "source": [
    "```Python\n",
    "# index created by index factory\n",
    "nn_index = faiss.index_factory(Z_tr.shape[1], \"IVF100,Flat\", faiss.METRIC_L2) # need train\n",
    "nn_index.train(Z_tr.astype('float32'))\n",
    "nn_index.add(Z_tr.astype('float32'))\n",
    "\n",
    "print nn_index.nlist # number of clusters, only INF has this\n",
    "nn_index.nprobe = 1 # number of clusters to search through, only INF has this, need to be validate\n",
    "```"
   ]
  },
  {
   "cell_type": "markdown",
   "metadata": {},
   "source": [
    "### Step 3 Prediction and Validation"
   ]
  },
  {
   "cell_type": "code",
   "execution_count": 18,
   "metadata": {},
   "outputs": [],
   "source": [
    "model = BMapModel.BM_Predictor(Y_tr.shape[1], L_hat, index=nn_index, Y_tr=Y_tr, model_path=model_path)"
   ]
  },
  {
   "cell_type": "code",
   "execution_count": 19,
   "metadata": {},
   "outputs": [
    {
     "name": "stdout",
     "output_type": "stream",
     "text": [
      "Elapsed time is 1.026710 seconds.\n"
     ]
    }
   ],
   "source": [
    "# k=1 without voting\n",
    "time.tic()\n",
    "Y_pred = model.predict_y(X_te, 20, vote=15) # 1 nearest neighbor\n",
    "time.toc()"
   ]
  },
  {
   "cell_type": "code",
   "execution_count": 20,
   "metadata": {
    "collapsed": true,
    "scrolled": true
   },
   "outputs": [],
   "source": [
    "#average_precision_score(y_true=Y_te, y_score=Y_pred, average='weighted')"
   ]
  },
  {
   "cell_type": "code",
   "execution_count": 21,
   "metadata": {},
   "outputs": [
    {
     "data": {
      "text/plain": [
       "0.54442700156985868"
      ]
     },
     "execution_count": 21,
     "metadata": {},
     "output_type": "execute_result"
    }
   ],
   "source": [
    "util.precision_at_k(Y_te, Y_pred, 1)"
   ]
  },
  {
   "cell_type": "code",
   "execution_count": 22,
   "metadata": {
    "collapsed": true,
    "scrolled": true
   },
   "outputs": [],
   "source": [
    "def validate_voter(voter):\n",
    "    Y_pred = model.predict_y(X_te, vote=voter, weighted=True)\n",
    "    return (util.precision_at_k(Y_te, Y_pred, 1))"
   ]
  },
  {
   "cell_type": "code",
   "execution_count": 23,
   "metadata": {
    "collapsed": true
   },
   "outputs": [],
   "source": [
    "p_at_k_votes = Parallel(n_jobs=num_core)\\\n",
    "                    (delayed(validate_voter)(voter) for voter in range(1, 100))"
   ]
  },
  {
   "cell_type": "code",
   "execution_count": 24,
   "metadata": {
    "scrolled": false
   },
   "outputs": [
    {
     "data": {
      "text/plain": [
       "(0.58995290423861857, 85)"
      ]
     },
     "execution_count": 24,
     "metadata": {},
     "output_type": "execute_result"
    },
    {
     "name": "stderr",
     "output_type": "stream",
     "text": [
      "/home/horacehxw/anaconda2/lib/python2.7/site-packages/matplotlib/font_manager.py:1297: UserWarning: findfont: Font family [u'sans-serif'] not found. Falling back to DejaVu Sans\n",
      "  (prop.get_family(), self.defaultFamily[fontext]))\n"
     ]
    },
    {
     "data": {
      "image/png": "[encoded data removed]",
      "text/plain": [
       "<matplotlib.figure.Figure at 0x7fdbbb415090>"
      ]
     },
     "metadata": {},
     "output_type": "display_data"
    }
   ],
   "source": [
    "plt.plot(range(1,100), p_at_k_votes)\n",
    "plt.xlabel('number of voters in kNN')\n",
    "plt.ylabel('p@1 score')\n",
    "top = np.argmax(p_at_k_votes)\n",
    "p_at_k_votes[top], top"
   ]
  },
  {
   "cell_type": "markdown",
   "metadata": {},
   "source": [
    "#### 3.2 See the model performance under no error channel\n",
    "Given our predicted value is the correct \"Z_te\", what performance can our model achieve?"
   ]
  },
  {
   "cell_type": "code",
   "execution_count": 25,
   "metadata": {
    "collapsed": true
   },
   "outputs": [],
   "source": [
    "def validate_model(L_hat, Y_tr, Y_te, pk=1, vote=10):\n",
    "    from util import group_test\n",
    "    Z_tr = group_test(Y_tr, L_hat, sparsity=k)\n",
    "    z_te = group_test(Y_te, L_hat, sparsity=k)\n",
    "    # faiss brute force search\n",
    "    knn_index = faiss.index_factory(Z_tr.shape[1], \"Flat\", faiss.METRIC_L2)   # build the index\n",
    "    knn_index.add(Z_tr.astype('float32'))\n",
    "\n",
    "    model = BMapModel.BM_Predictor(Y_tr.shape[1], L_hat, index=knn_index, Y_tr=Y_tr)\n",
    "\n",
    "    y_pred_fake = model.vote_y(z_te, vote=vote, weighted=False)\n",
    "    return util.precision_at_k(Y_te, y_pred_fake, pk)"
   ]
  },
  {
   "cell_type": "code",
   "execution_count": 78,
   "metadata": {
    "collapsed": true,
    "scrolled": false
   },
   "outputs": [],
   "source": [
    "pk=1;vote=40\n",
    "L_hat_free_score = Parallel(n_jobs=num_core)\\\n",
    "                    (delayed(validate_model)(L_hat, Y_tr, Y_te, pk, vote) for L_hat in range(1, 120))"
   ]
  },
  {
   "cell_type": "code",
   "execution_count": 79,
   "metadata": {},
   "outputs": [
    {
     "data": {
      "text/plain": [
       "<matplotlib.text.Text at 0x7fdb9f53a390>"
      ]
     },
     "execution_count": 79,
     "metadata": {},
     "output_type": "execute_result"
    },
    {
     "data": {
      "image/png": "[encoded data removed]",
      "text/plain": [
       "<matplotlib.figure.Figure at 0x7fdb9f5fa550>"
      ]
     },
     "metadata": {},
     "output_type": "display_data"
    }
   ],
   "source": [
    "plt.plot(range(1,120), L_hat_free_score)\n",
    "plt.xlabel('L_hat')\n",
    "plt.ylabel('p@1 score')\n",
    "plt.title('Eurlex: The model capacity for group testing and kNN')"
   ]
  },
  {
   "cell_type": "markdown",
   "metadata": {
    "collapsed": true
   },
   "source": [
    "#### 3.3 optimize hyperparameter\n",
    "use  k fold cross validation to optimize over "
   ]
  },
  {
   "cell_type": "code",
   "execution_count": 69,
   "metadata": {},
   "outputs": [
    {
     "data": {
      "text/plain": [
       "19.035371517027865"
      ]
     },
     "execution_count": 69,
     "metadata": {},
     "output_type": "execute_result"
    }
   ],
   "source": [
    "k"
   ]
  },
  {
   "cell_type": "code",
   "execution_count": 28,
   "metadata": {
    "collapsed": true
   },
   "outputs": [],
   "source": [
    "# validate the result with different L_hat under the same model\n",
    "def validate(L_hat, pk=1, vote=10): # simple forkable parallel for loop body\n",
    "    from util import group_test\n",
    "    from util import precision_at_k\n",
    "    #k_fold = KFold(n_splits=fold)\n",
    "    #print \"L_hat is now {}\\n\".format(L_hat)\n",
    "    p_sum = 0\n",
    "   # for train_index, test_index in k_fold.split(X_tr):\n",
    "    x_train = X_tr\n",
    "    y_train = Y_tr\n",
    "    x_test = X_te\n",
    "    y_test = Y_te\n",
    "\n",
    "    # map and create kNN index\n",
    "    z_train = group_test(y_train, L_hat, sparsity=k)\n",
    "    # faiss brute force search\n",
    "    knn_index = faiss.index_factory(z_train.shape[1], \"Flat\", faiss.METRIC_L2)   # build the index\n",
    "    knn_index.add(z_train.astype('float32'))\n",
    "\n",
    "    # construct model\n",
    "    model = BMapModel.BM_Predictor(Y_tr.shape[1], L_hat, index=knn_index, Y_tr=y_train)\n",
    "    model.load_clf(model_path)\n",
    "    #predict and calculate p@k score\n",
    "    y_pred = model.predict_y(x_test, vote=vote, weighted=True)\n",
    "    # precision@pk\n",
    "    #p_sum += precision_at_k(y_test, y_pred, k=pk)\n",
    "    return precision_at_k(y_test, y_pred, k=pk)\n"
   ]
  },
  {
   "cell_type": "code",
   "execution_count": 40,
   "metadata": {
    "collapsed": true
   },
   "outputs": [],
   "source": [
    "# Optimize L_hat's value on the metric precision@k\n",
    "pk=1\n",
    "vote=40\n",
    "L_hat_range = range(1, 120)"
   ]
  },
  {
   "cell_type": "code",
   "execution_count": 41,
   "metadata": {
    "collapsed": true,
    "scrolled": true
   },
   "outputs": [],
   "source": [
    "L_hat_score = Parallel(n_jobs=num_core)(delayed(validate)(L_hat, pk, vote) for L_hat in L_hat_range)"
   ]
  },
  {
   "cell_type": "code",
   "execution_count": 42,
   "metadata": {},
   "outputs": [
    {
     "data": {
      "text/plain": [
       "<matplotlib.text.Text at 0x7fdb9f8be390>"
      ]
     },
     "execution_count": 42,
     "metadata": {},
     "output_type": "execute_result"
    },
    {
     "data": {
      "image/png": "[encoded data removed]",
      "text/plain": [
       "<matplotlib.figure.Figure at 0x7fdb9f9781d0>"
      ]
     },
     "metadata": {},
     "output_type": "display_data"
    }
   ],
   "source": [
    "line_up, = plt.plot(range(1,120), L_hat_free_score, label='Model Capacity')\n",
    "line_down, = plt.plot(range(1,120), L_hat_score, label='OvsA performance')\n",
    "plt.legend(handles=[line_up, line_down])\n",
    "plt.xlabel('L_hat')\n",
    "plt.ylabel('precision@{}'.format(pk))\n",
    "plt.title('Delicious validation on L_hat (group test)')"
   ]
  },
  {
   "cell_type": "markdown",
   "metadata": {
    "collapsed": true
   },
   "source": [
    "### 3.4 Bit Flip Probability\n",
    "the classifiers predict $\\hat z$ can be viewed as transmiting z from a BSC channel with some bit flip probability, this is actually representing the prediction accuracy."
   ]
  },
  {
   "cell_type": "code",
   "execution_count": 32,
   "metadata": {},
   "outputs": [
    {
     "data": {
      "text/plain": [
       "(190, 3185)"
      ]
     },
     "execution_count": 32,
     "metadata": {},
     "output_type": "execute_result"
    }
   ],
   "source": [
    "L_hat, X_te.shape[0]"
   ]
  },
  {
   "cell_type": "code",
   "execution_count": 71,
   "metadata": {
    "collapsed": true
   },
   "outputs": [],
   "source": [
    "def validate_channel(X_te, Y_te):\n",
    "    from util import group_test\n",
    "    z_te = group_test(Y_te, L_hat, sparsity=k)\n",
    "    # use the classifers to predict z_hat\n",
    "    model = BMapModel.BM_Predictor(Y_tr.shape[1], L_hat, model_path=model_path)\n",
    "    z_pred = model.predict_z(X_te)\n",
    "    \n",
    "    hamming = []\n",
    "    for i in range(z_te.shape[0]):\n",
    "        hamming.append((z_pred[i]!=z_te[i]).sum())\n",
    "    return np.array(hamming) / float(z_te.shape[1])"
   ]
  },
  {
   "cell_type": "code",
   "execution_count": 72,
   "metadata": {
    "collapsed": true
   },
   "outputs": [],
   "source": [
    "test_error = validate_channel(X_te, Y_te)"
   ]
  },
  {
   "cell_type": "code",
   "execution_count": 73,
   "metadata": {},
   "outputs": [
    {
     "data": {
      "text/plain": [
       "<matplotlib.text.Text at 0x7fdb9f6ca190>"
      ]
     },
     "execution_count": 73,
     "metadata": {},
     "output_type": "execute_result"
    },
    {
     "data": {
      "image/png": "[encoded data removed]",
      "text/plain": [
       "<matplotlib.figure.Figure at 0x7fdb9f8ab550>"
      ]
     },
     "metadata": {},
     "output_type": "display_data"
    }
   ],
   "source": [
    "sns.distplot(test_error, bins=20)\n",
    "plt.xlabel('test error rate between z_te and z_pred')\n",
    "plt.ylabel('density')\n",
    "plt.title('Delicious: distribution of bit_flip (group test)')"
   ]
  },
  {
   "cell_type": "code",
   "execution_count": 74,
   "metadata": {},
   "outputs": [
    {
     "data": {
      "text/plain": [
       "0.32480753532182099"
      ]
     },
     "execution_count": 74,
     "metadata": {},
     "output_type": "execute_result"
    }
   ],
   "source": [
    "test_error.mean()"
   ]
  },
  {
   "cell_type": "code",
   "execution_count": 75,
   "metadata": {
    "collapsed": true
   },
   "outputs": [],
   "source": [
    "training_error = validate_channel(X_tr, Y_tr)"
   ]
  },
  {
   "cell_type": "code",
   "execution_count": 76,
   "metadata": {},
   "outputs": [
    {
     "data": {
      "text/plain": [
       "<matplotlib.text.Text at 0x7fdb9f632110>"
      ]
     },
     "execution_count": 76,
     "metadata": {},
     "output_type": "execute_result"
    },
    {
     "data": {
      "image/png": "[encoded data removed]",
      "text/plain": [
       "<matplotlib.figure.Figure at 0x7fdb9f649690>"
      ]
     },
     "metadata": {},
     "output_type": "display_data"
    }
   ],
   "source": [
    "sns.distplot(training_error, bins=20)\n",
    "plt.xlabel('error rate between z_train and z_pred')\n",
    "plt.ylabel('density')\n",
    "plt.title('Delicious: distribution of training error')"
   ]
  },
  {
   "cell_type": "code",
   "execution_count": 77,
   "metadata": {},
   "outputs": [
    {
     "data": {
      "text/plain": [
       "0.29610712074303408"
      ]
     },
     "execution_count": 77,
     "metadata": {},
     "output_type": "execute_result"
    }
   ],
   "source": [
    "training_error.mean()"
   ]
  },
  {
   "cell_type": "markdown",
   "metadata": {
    "collapsed": true
   },
   "source": [
    "## 4. Sanity check for correctness\n",
    "check whether group testing is correct"
   ]
  },
  {
   "cell_type": "code",
   "execution_count": 63,
   "metadata": {},
   "outputs": [
    {
     "data": {
      "text/plain": [
       "array([[1, 0, 1, 0, 0, 0, 1, 0, 0, 0]])"
      ]
     },
     "execution_count": 63,
     "metadata": {},
     "output_type": "execute_result"
    }
   ],
   "source": [
    "Y = np.random.binomial(1, p=0.5, size=(1, 10))\n",
    "sparsity=5\n",
    "Y"
   ]
  },
  {
   "cell_type": "code",
   "execution_count": 66,
   "metadata": {},
   "outputs": [
    {
     "data": {
      "text/plain": [
       "array([[1, 0, 1, 0, 0]])"
      ]
     },
     "execution_count": 66,
     "metadata": {},
     "output_type": "execute_result"
    }
   ],
   "source": [
    "\n",
    "M = np.random.binomial(1, p=1./(sparsity+1), size=(5, Y.shape[1]))\n",
    "Z = M.dot(Y.T).T\n",
    "np.apply_along_axis(lambda x: [1 if elem > 0 else 0 for elem in x], 0, Z)"
   ]
  },
  {
   "cell_type": "code",
   "execution_count": 67,
   "metadata": {},
   "outputs": [
    {
     "data": {
      "text/plain": [
       "array([[0, 0, 1, 0, 0, 0, 0, 0, 0, 0],\n",
       "       [0, 0, 0, 0, 0, 0, 0, 0, 1, 0],\n",
       "       [1, 0, 1, 0, 0, 0, 0, 0, 0, 0],\n",
       "       [0, 0, 0, 0, 0, 0, 0, 0, 0, 1],\n",
       "       [0, 0, 0, 0, 0, 0, 0, 0, 0, 0]])"
      ]
     },
     "execution_count": 67,
     "metadata": {},
     "output_type": "execute_result"
    }
   ],
   "source": [
    "M"
   ]
  },
  {
   "cell_type": "code",
   "execution_count": null,
   "metadata": {
    "collapsed": true
   },
   "outputs": [],
   "source": []
  }
 ],
 "metadata": {
  "kernelspec": {
   "display_name": "Python 2",
   "language": "python",
   "name": "python2"
  },
  "language_info": {
   "codemirror_mode": {
    "name": "ipython",
    "version": 2
   },
   "file_extension": ".py",
   "mimetype": "text/x-python",
   "name": "python",
   "nbconvert_exporter": "python",
   "pygments_lexer": "ipython2",
   "version": "2.7.13"
  }
 },
 "nbformat": 4,
 "nbformat_minor": 2
}
