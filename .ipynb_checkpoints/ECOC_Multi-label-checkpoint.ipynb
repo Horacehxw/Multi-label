{
 "cells": [
  {
   "cell_type": "markdown",
   "metadata": {},
   "source": [
    "**author: Xiaowu He. horace_hxw_cal@berkeley.edu**\n",
    "\n",
    "# Multi-label Classification Note\n",
    "## 1. ECOC(multi-class setting)\n",
    "#### step 1: map the class to the coresponding **binary** vector $[1,0,...,1]^T$ using the error correction codes.:\n",
    "- Exhaustive code\n",
    "- Col Selection from Exhaustive code (Hill Climbing)\n",
    "- Randomize Hill Climbing\n",
    "- BCH code\n",
    "\n",
    "#### step 2: use maching learning algorithms to create the probability vector of each position to be 1.\n",
    "- Decision Tree\n",
    "- Nueral Network\n",
    "- **create muliple binary classifiers for each position**\n",
    "\n",
    "#### step 3： recover the origin class vector according to the cloest $\\ell_1$ distance\n",
    "\n",
    "## 2. MLGT (Group Testing)\n",
    "The basic idea is to form group of labels and test each data point whether or not inside that group.\n",
    "1. Construct  a specific binary matrix $A_{m\\times d}$ and compress the original binary-label vector by $z = A \\quad or \\quad  y$ using matrix boolean opration. Then train the classifiers based on vector z.\n",
    "2. Predicting process is to set the position $l$ of group vector to 1 iff $|supp(A^{(l)}) - supp(\\hat{z}))| < \\frac{e}{2}$. where the supp() means the set of indexees of nonzero enties in a given vector.\n",
    "\n",
    "## 3. Haffman Tree Based multi-class Classification\n",
    "constructing a haffman tree based on the frequency of each label. and train a binary classifier at each node of the tree.\n",
    "\n",
    "**this can reduce the average classification and training time.**\n",
    "\n",
    "## 4. ECOC in Multi-label setting\n",
    "Assume there are m labels in total and each data point has no more than k labels.\n",
    "1. we can map each label into a binary representation and concat them into a binary vector of leangth $k\\log m$. If some data point doesn't have enough labels, add a default number to maintain the length.\n",
    "2. Add **parity check**`    ` to the above vector using Error Correction Code\n",
    "2. Train binary classifier on each digit.\n"
   ]
  },
  {
   "cell_type": "markdown",
   "metadata": {},
   "source": [
    "# Implement ECOC in Multi-label Classification\n",
    "## Set up\n",
    "we are given a set of labeled trianing data $\\{(x_i,y_i)\\}_{i=1}^{n}$, where $x_i \\in \\mathbb{R}^p$ are the input features and $y_i \\in \\{0,1\\}^d$ are vectors indicating the labels of each data point.\n",
    "\n",
    "In practice, the label vector $y_i$ are sparse. We assume that the labels are at most k-sparse. And want to compress the label vectors into $k \\cdot \\log m$ length by concating the binary representation of each label index into a binary vector."
   ]
  },
  {
   "cell_type": "code",
   "execution_count": 74,
   "metadata": {},
   "outputs": [
    {
     "ename": "ImportError",
     "evalue": "No module named pyLDPC",
     "output_type": "error",
     "traceback": [
      "\u001b[0;31m-------------------------------------------------\u001b[0m",
      "\u001b[0;31mImportError\u001b[0m     Traceback (most recent call last)",
      "\u001b[0;32m<ipython-input-74-4e613a65a9bc>\u001b[0m in \u001b[0;36m<module>\u001b[0;34m()\u001b[0m\n\u001b[1;32m      5\u001b[0m \u001b[0;32mfrom\u001b[0m \u001b[0mdata_util\u001b[0m \u001b[0;32mimport\u001b[0m \u001b[0mDataPoint\u001b[0m\u001b[0;34m\u001b[0m\u001b[0m\n\u001b[1;32m      6\u001b[0m \u001b[0;32mimport\u001b[0m \u001b[0mmath\u001b[0m\u001b[0;34m\u001b[0m\u001b[0m\n\u001b[0;32m----> 7\u001b[0;31m \u001b[0;32mfrom\u001b[0m \u001b[0mLDPCEncoder\u001b[0m \u001b[0;32mimport\u001b[0m \u001b[0mLDPCEncoder\u001b[0m\u001b[0;34m\u001b[0m\u001b[0m\n\u001b[0m\u001b[1;32m      8\u001b[0m \u001b[0;32mfrom\u001b[0m \u001b[0mLDPCDecoder\u001b[0m \u001b[0;32mimport\u001b[0m \u001b[0mLDPCDecoder\u001b[0m\u001b[0;34m\u001b[0m\u001b[0m\n",
      "\u001b[0;32m/media/horacehxw/File/学习/大三上/research/LDPC/LDPCEncoder.py\u001b[0m in \u001b[0;36m<module>\u001b[0;34m()\u001b[0m\n\u001b[1;32m      2\u001b[0m \u001b[0;32mimport\u001b[0m \u001b[0mnumpy\u001b[0m \u001b[0;32mas\u001b[0m \u001b[0mnp\u001b[0m\u001b[0;34m\u001b[0m\u001b[0m\n\u001b[1;32m      3\u001b[0m \u001b[0;32mimport\u001b[0m \u001b[0mpyldpc\u001b[0m\u001b[0;34m\u001b[0m\u001b[0m\n\u001b[0;32m----> 4\u001b[0;31m \u001b[0;32mfrom\u001b[0m \u001b[0mpycodes\u001b[0m\u001b[0;34m.\u001b[0m\u001b[0mpyLDPC\u001b[0m \u001b[0;32mimport\u001b[0m \u001b[0mLDPCCode\u001b[0m\u001b[0;34m\u001b[0m\u001b[0m\n\u001b[0m\u001b[1;32m      5\u001b[0m \u001b[0;34m\u001b[0m\u001b[0m\n\u001b[1;32m      6\u001b[0m '''\n",
      "\u001b[0;31mImportError\u001b[0m: No module named pyLDPC"
     ]
    }
   ],
   "source": [
    "%matplotlib inline\n",
    "import data_util\n",
    "import matplotlib.pyplot as plt\n",
    "import numpy as np\n",
    "from data_util import DataPoint\n",
    "import math\n",
    "from LDPCEncoder import LDPCEncoder\n",
    "from LDPCDecoder import LDPCDecoder"
   ]
  },
  {
   "cell_type": "code",
   "execution_count": 2,
   "metadata": {},
   "outputs": [
    {
     "name": "stdout",
     "output_type": "stream",
     "text": [
      ".:\r\n",
      "AmazonCat      data_clean.sh  Delicious\t\t      Mediamill\r\n",
      "Bibtex\t       data_util.py   ECOC_Multi-label.ipynb  RCV1-x\r\n",
      "data_clean.py  data_util.pyc  Eurlex\t\t      Wiki10\r\n",
      "\r\n",
      "./AmazonCat:\r\n",
      "amazonCat_test.txt  amazonCat_train.txt\r\n",
      "\r\n",
      "./Bibtex:\r\n",
      "Bibtex_data.txt  bibtex_trSplit.txt  bibtex_tstSplit.txt\r\n",
      "\r\n",
      "./Delicious:\r\n",
      "Delicious_data.txt  delicious_trSplit.txt  delicious_tstSplit.txt\r\n",
      "\r\n",
      "./Eurlex:\r\n",
      "eurlex_test.txt  eurlex_train.txt\r\n",
      "\r\n",
      "./Mediamill:\r\n",
      "Mediamill_data.txt  mediamill_trSplit.txt  mediamill_tstSplit.txt\r\n",
      "\r\n",
      "./RCV1-x:\r\n",
      "rcv1x_test.txt\trcv1x_train.txt\r\n",
      "\r\n",
      "./Wiki10:\r\n",
      "wiki10_test.txt  wiki10_train.txt\r\n"
     ]
    }
   ],
   "source": [
    "!ls -R"
   ]
  },
  {
   "cell_type": "code",
   "execution_count": 3,
   "metadata": {
    "collapsed": true
   },
   "outputs": [],
   "source": [
    "filename = \"./Wiki10/wiki10_train.txt\"\n",
    "data, num_point, num_feature, num_label = data_util.read_file(filename)"
   ]
  },
  {
   "cell_type": "code",
   "execution_count": 4,
   "metadata": {},
   "outputs": [
    {
     "name": "stdout",
     "output_type": "stream",
     "text": [
      "num_point=14146, num_label=30938, num_feature=101938\n"
     ]
    }
   ],
   "source": [
    "print(\"num_point={}, num_label={}, num_feature={}\".format(num_point, num_label, num_feature))"
   ]
  },
  {
   "cell_type": "markdown",
   "metadata": {},
   "source": [
    "## Step 1: Calculate the distribution of number of labels in each data point\n",
    "if the maximum number k is relatively small, set the length of our label vector into $k\\cdot \\left \\lceil {\\log m} \\right \\rceil$"
   ]
  },
  {
   "cell_type": "code",
   "execution_count": 18,
   "metadata": {},
   "outputs": [
    {
     "name": "stdout",
     "output_type": "stream",
     "text": [
      "0\n"
     ]
    },
    {
     "data": {
      "image/png": "[encoded data removed]",
      "text/plain": [
       "<matplotlib.figure.Figure at 0x7f2b26261250>"
      ]
     },
     "metadata": {},
     "output_type": "display_data"
    }
   ],
   "source": [
    "# find the distribution of num of labels in each data point\n",
    "label_lengths = [0 for _ in range(num_label + 1)]\n",
    "for data_point in data:\n",
    "    label_lengths[len(data_point.labels)] += 1\n",
    "plt.plot(label_lengths[:100])\n",
    "plt.title(\"the distribution of labels numbers\")"
   ]
  },
  {
   "cell_type": "code",
   "execution_count": 6,
   "metadata": {},
   "outputs": [
    {
     "name": "stdout",
     "output_type": "stream",
     "text": [
      "(14146, 14146)\n"
     ]
    },
    {
     "data": {
      "image/png": "[encoded data removed]",
      "text/plain": [
       "<matplotlib.figure.Figure at 0x7f2b26534310>"
      ]
     },
     "metadata": {},
     "output_type": "display_data"
    }
   ],
   "source": [
    "# find the distribution of num of features in each data point\n",
    "feature_lengths = [0 for _ in range(num_feature + 1)]\n",
    "for data_point in data:\n",
    "    feature_lengths[len(data_point.features)] += 1\n",
    "plt.plot(feature_lengths[:5000])\n",
    "plt.title(\"the distribution of feature numbers\")\n",
    "print(sum(label_lengths), sum(feature_lengths))"
   ]
  },
  {
   "cell_type": "code",
   "execution_count": 10,
   "metadata": {},
   "outputs": [
    {
     "name": "stdout",
     "output_type": "stream",
     "text": [
      "99% of data points has less than 30 labels and less than 3288 features\n"
     ]
    }
   ],
   "source": [
    "# find the 99% value over a population\n",
    "def find_percent(data, population, percent=0.99):\n",
    "    target = population*(1-percent)\n",
    "    for i in range(len(data)):\n",
    "        population -= data[i]\n",
    "        if population <= target:\n",
    "            return i\n",
    "\n",
    "label_k = find_percent(label_lengths, num_point)\n",
    "print(\"99% of data points has less than {} labels and less than {} features\"\\\n",
    "      .format(label_k, find_percent(feature_lengths, num_point)))"
   ]
  },
  {
   "cell_type": "code",
   "execution_count": 71,
   "metadata": {},
   "outputs": [
    {
     "name": "stdout",
     "output_type": "stream",
     "text": [
      "length = 101939\n"
     ]
    },
    {
     "data": {
      "text/plain": [
       "<matplotlib.text.Text at 0x7f2b2384ad50>"
      ]
     },
     "execution_count": 71,
     "metadata": {},
     "output_type": "execute_result"
    },
    {
     "data": {
      "image/png": "[encoded data removed]",
      "text/plain": [
       "<matplotlib.figure.Figure at 0x7f2b23a14c10>"
      ]
     },
     "metadata": {},
     "output_type": "display_data"
    }
   ],
   "source": [
    "# find the distribution of usage of each feature\n",
    "feature_nums = [0 for _ in range(num_feature + 1)]\n",
    "print (\"length = {}\".format(len(feature_nums)))\n",
    "for data_point in data:\n",
    "    for feature in data_point.features:\n",
    "        try:\n",
    "            feature_nums[feature] += 1\n",
    "        except IndexError:\n",
    "            print feature\n",
    "plt.plot(sorted(feature_nums)[:80000])\n",
    "plt.title(\"the distribution of feature's usage\")"
   ]
  },
  {
   "cell_type": "code",
   "execution_count": 22,
   "metadata": {},
   "outputs": [
    {
     "name": "stdout",
     "output_type": "stream",
     "text": [
      "the range of lables are (0, 30937)\n",
      "the range of features are (0, 101937)\n"
     ]
    }
   ],
   "source": [
    "labels_set, features_set = set(), set()\n",
    "for data_point in data:\n",
    "    for label in data_point.labels:\n",
    "        labels_set.add(label)\n",
    "    for feature in data_point.features:\n",
    "        features_set.add(feature)\n",
    "print(\"the range of lables are ({}, {})\\nthe range of features are ({}, {})\"\\\n",
    "     .format(min(labels_set), max(labels_set), min(features_set), max(features_set)))"
   ]
  },
  {
   "cell_type": "markdown",
   "metadata": {},
   "source": [
    "The above information might be useful for furthur optimize the parameters.\n",
    "\n",
    "## Step 2: Generator Label vectors\n",
    "The training and predicting process can be viewed as a channel transmition during a binary symetric channel. We first do source encoding to compress the labels information and then do channel encoding to ad the parity check to resist the channel error.\n",
    "### 2.1 Source Encoding: create the compressed lable vec\n",
    "For each data point's label, we first translate its labels into binary form and then concat them one by one in ascent order. the default value for the label vector would be \"111..1\".\n"
   ]
  },
  {
   "cell_type": "code",
   "execution_count": 63,
   "metadata": {},
   "outputs": [
    {
     "data": {
      "text/plain": [
       "[1, 0, 0, 1, 1, 1]"
      ]
     },
     "execution_count": 63,
     "metadata": {},
     "output_type": "execute_result"
    }
   ],
   "source": [
    "def l_to_vec(labels, k, length):\n",
    "    '''\n",
    "    compress the lable vector.\n",
    "    input:\n",
    "        k: maximum non-zero entries of lable in a data point\n",
    "        length: length of each binary bevtor for a label\n",
    "    '''\n",
    "    def l_to_bin(x):\n",
    "        '''\n",
    "        convert a single lable to corresponding binary vector\n",
    "        '''\n",
    "        bits = [0]*length\n",
    "        i = 0\n",
    "        while x:\n",
    "            bits[i] = x%2\n",
    "            x >>= 1\n",
    "            i+=1\n",
    "        return bits\n",
    "\n",
    "    labels.sort() #ascending order\n",
    "    default_place = [1]*length\n",
    "    vec = []\n",
    "    for i in range(k):\n",
    "        if i < len(labels):\n",
    "            vec.extend(l_to_bin(labels[i]))\n",
    "        else:\n",
    "            vec.extend(default_place)\n",
    "    return vec\n",
    "    \n",
    "l_to_vec([1,2,3], 3, 2)\n"
   ]
  },
  {
   "cell_type": "code",
   "execution_count": 65,
   "metadata": {},
   "outputs": [],
   "source": [
    "ms_length = int(math.log(max(labels_set))/math.log(2)) + 1\n",
    "Y_tr = [l_to_vec(data_point.labels, label_k, ms_length) for data_point in data]"
   ]
  },
  {
   "cell_type": "markdown",
   "metadata": {},
   "source": [
    "### 2.2 Channel Encoding: Add parity check to label vector\n",
    "we apply the traditional error correcting codes to the label vector to get a fixed length new output vector."
   ]
  },
  {
   "cell_type": "code",
   "execution_count": null,
   "metadata": {},
   "outputs": [],
   "source": []
  },
  {
   "cell_type": "code",
   "execution_count": null,
   "metadata": {
    "collapsed": true
   },
   "outputs": [],
   "source": []
  }
 ],
 "metadata": {
  "kernelspec": {
   "display_name": "Python 2",
   "language": "python",
   "name": "python2"
  },
  "language_info": {
   "codemirror_mode": {
    "name": "ipython",
    "version": 2
   },
   "file_extension": ".py",
   "mimetype": "text/x-python",
   "name": "python",
   "nbconvert_exporter": "python",
   "pygments_lexer": "ipython2",
   "version": "2.7.13"
  }
 },
 "nbformat": 4,
 "nbformat_minor": 2
}
